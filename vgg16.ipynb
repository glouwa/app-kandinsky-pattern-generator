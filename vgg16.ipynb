{
  "nbformat": 4,
  "nbformat_minor": 0,
  "metadata": {
    "colab": {
      "name": "vgg16.ipynb",
      "version": "0.3.2",
      "provenance": [],
      "collapsed_sections": [],
      "include_colab_link": true
    },
    "kernelspec": {
      "name": "python3",
      "display_name": "Python 3"
    },
    "accelerator": "GPU"
  },
  "cells": [
    {
      "cell_type": "markdown",
      "metadata": {
        "id": "view-in-github",
        "colab_type": "text"
      },
      "source": [
        "<a href=\"https://colab.research.google.com/github/glouwa/app-kandinsky-pattern-generator/blob/master/vgg16.ipynb\" target=\"_parent\"><img src=\"https://colab.research.google.com/assets/colab-badge.svg\" alt=\"Open In Colab\"/></a>"
      ]
    },
    {
      "metadata": {
        "id": "MCFcuG1GMBMq",
        "colab_type": "code",
        "colab": {}
      },
      "cell_type": "code",
      "source": [
        "%matplotlib inline\n",
        "import matplotlib.pyplot as plt\n",
        "import PIL\n",
        "import tensorflow as tf\n",
        "import numpy as np\n",
        "import os"
      ],
      "execution_count": 0,
      "outputs": []
    },
    {
      "metadata": {
        "id": "YapnuMkuNBdP",
        "colab_type": "code",
        "colab": {}
      },
      "cell_type": "code",
      "source": [
        "from tensorflow.python.keras.models import Model, Sequential\n",
        "from tensorflow.python.keras.layers import Dense, Flatten, Dropout\n",
        "from tensorflow.python.keras.applications import VGG16\n",
        "from tensorflow.python.keras.applications.vgg16 import preprocess_input, decode_predictions\n",
        "from tensorflow.python.keras.preprocessing.image import ImageDataGenerator\n",
        "from tensorflow.python.keras.optimizers import Adam, RMSprop"
      ],
      "execution_count": 0,
      "outputs": []
    },
    {
      "metadata": {
        "id": "w0eLC3dINKd1",
        "colab_type": "code",
        "colab": {
          "base_uri": "https://localhost:8080/",
          "height": 1350
        },
        "outputId": "e0b60a74-f008-4253-ad4e-22b0cf0390bb"
      },
      "cell_type": "code",
      "source": [
        "!wget https://github.com/Hvass-Labs/TensorFlow-Tutorials/raw/master/cache.py\n",
        "!wget https://github.com/Hvass-Labs/TensorFlow-Tutorials/raw/master/dataset.py\n",
        "!wget https://github.com/Hvass-Labs/TensorFlow-Tutorials/raw/master/download.py\n",
        "!wget https://github.com/glouwa/app-kandinsky-pattern-generator/raw/master/src/kandinsky.py\n",
        "!wget https://github.com/Hvass-Labs/TensorFlow-Tutorials/raw/master/images/parrot_cropped1.jpg\n",
        "import kandinsky"
      ],
      "execution_count": 3,
      "outputs": [
        {
          "output_type": "stream",
          "text": [
            "--2019-04-15 16:49:48--  https://github.com/Hvass-Labs/TensorFlow-Tutorials/raw/master/cache.py\n",
            "Resolving github.com (github.com)... 192.30.253.112, 192.30.253.113\n",
            "Connecting to github.com (github.com)|192.30.253.112|:443... connected.\n",
            "HTTP request sent, awaiting response... 302 Found\n",
            "Location: https://raw.githubusercontent.com/Hvass-Labs/TensorFlow-Tutorials/master/cache.py [following]\n",
            "--2019-04-15 16:49:48--  https://raw.githubusercontent.com/Hvass-Labs/TensorFlow-Tutorials/master/cache.py\n",
            "Resolving raw.githubusercontent.com (raw.githubusercontent.com)... 151.101.0.133, 151.101.64.133, 151.101.128.133, ...\n",
            "Connecting to raw.githubusercontent.com (raw.githubusercontent.com)|151.101.0.133|:443... connected.\n",
            "HTTP request sent, awaiting response... 200 OK\n",
            "Length: 4764 (4.7K) [text/plain]\n",
            "Saving to: ‘cache.py’\n",
            "\n",
            "\rcache.py              0%[                    ]       0  --.-KB/s               \rcache.py            100%[===================>]   4.65K  --.-KB/s    in 0s      \n",
            "\n",
            "2019-04-15 16:49:48 (68.6 MB/s) - ‘cache.py’ saved [4764/4764]\n",
            "\n",
            "--2019-04-15 16:49:49--  https://github.com/Hvass-Labs/TensorFlow-Tutorials/raw/master/dataset.py\n",
            "Resolving github.com (github.com)... 192.30.253.112, 192.30.253.113\n",
            "Connecting to github.com (github.com)|192.30.253.112|:443... connected.\n",
            "HTTP request sent, awaiting response... 302 Found\n",
            "Location: https://raw.githubusercontent.com/Hvass-Labs/TensorFlow-Tutorials/master/dataset.py [following]\n",
            "--2019-04-15 16:49:49--  https://raw.githubusercontent.com/Hvass-Labs/TensorFlow-Tutorials/master/dataset.py\n",
            "Resolving raw.githubusercontent.com (raw.githubusercontent.com)... 151.101.0.133, 151.101.64.133, 151.101.128.133, ...\n",
            "Connecting to raw.githubusercontent.com (raw.githubusercontent.com)|151.101.0.133|:443... connected.\n",
            "HTTP request sent, awaiting response... 200 OK\n",
            "Length: 12156 (12K) [text/plain]\n",
            "Saving to: ‘dataset.py’\n",
            "\n",
            "dataset.py          100%[===================>]  11.87K  --.-KB/s    in 0s      \n",
            "\n",
            "2019-04-15 16:49:49 (38.9 MB/s) - ‘dataset.py’ saved [12156/12156]\n",
            "\n",
            "--2019-04-15 16:49:51--  https://github.com/Hvass-Labs/TensorFlow-Tutorials/raw/master/download.py\n",
            "Resolving github.com (github.com)... 192.30.253.112, 192.30.253.113\n",
            "Connecting to github.com (github.com)|192.30.253.112|:443... connected.\n",
            "HTTP request sent, awaiting response... 302 Found\n",
            "Location: https://raw.githubusercontent.com/Hvass-Labs/TensorFlow-Tutorials/master/download.py [following]\n",
            "--2019-04-15 16:49:51--  https://raw.githubusercontent.com/Hvass-Labs/TensorFlow-Tutorials/master/download.py\n",
            "Resolving raw.githubusercontent.com (raw.githubusercontent.com)... 151.101.0.133, 151.101.64.133, 151.101.128.133, ...\n",
            "Connecting to raw.githubusercontent.com (raw.githubusercontent.com)|151.101.0.133|:443... connected.\n",
            "HTTP request sent, awaiting response... 200 OK\n",
            "Length: 4353 (4.3K) [text/plain]\n",
            "Saving to: ‘download.py’\n",
            "\n",
            "download.py         100%[===================>]   4.25K  --.-KB/s    in 0s      \n",
            "\n",
            "2019-04-15 16:49:51 (86.4 MB/s) - ‘download.py’ saved [4353/4353]\n",
            "\n",
            "--2019-04-15 16:49:52--  https://github.com/glouwa/app-kandinsky-pattern-generator/raw/master/src/kandinsky.py\n",
            "Resolving github.com (github.com)... 192.30.253.112, 192.30.253.113\n",
            "Connecting to github.com (github.com)|192.30.253.112|:443... connected.\n",
            "HTTP request sent, awaiting response... 302 Found\n",
            "Location: https://raw.githubusercontent.com/glouwa/app-kandinsky-pattern-generator/master/src/kandinsky.py [following]\n",
            "--2019-04-15 16:49:52--  https://raw.githubusercontent.com/glouwa/app-kandinsky-pattern-generator/master/src/kandinsky.py\n",
            "Resolving raw.githubusercontent.com (raw.githubusercontent.com)... 151.101.0.133, 151.101.64.133, 151.101.128.133, ...\n",
            "Connecting to raw.githubusercontent.com (raw.githubusercontent.com)|151.101.0.133|:443... connected.\n",
            "HTTP request sent, awaiting response... 200 OK\n",
            "Length: 5413 (5.3K) [text/plain]\n",
            "Saving to: ‘kandinsky.py’\n",
            "\n",
            "kandinsky.py        100%[===================>]   5.29K  --.-KB/s    in 0s      \n",
            "\n",
            "2019-04-15 16:49:52 (53.5 MB/s) - ‘kandinsky.py’ saved [5413/5413]\n",
            "\n",
            "--2019-04-15 16:49:53--  https://github.com/Hvass-Labs/TensorFlow-Tutorials/raw/master/images/parrot_cropped1.jpg\n",
            "Resolving github.com (github.com)... 192.30.253.112, 192.30.253.113\n",
            "Connecting to github.com (github.com)|192.30.253.112|:443... connected.\n",
            "HTTP request sent, awaiting response... 302 Found\n",
            "Location: https://raw.githubusercontent.com/Hvass-Labs/TensorFlow-Tutorials/master/images/parrot_cropped1.jpg [following]\n",
            "--2019-04-15 16:49:54--  https://raw.githubusercontent.com/Hvass-Labs/TensorFlow-Tutorials/master/images/parrot_cropped1.jpg\n",
            "Resolving raw.githubusercontent.com (raw.githubusercontent.com)... 151.101.0.133, 151.101.64.133, 151.101.128.133, ...\n",
            "Connecting to raw.githubusercontent.com (raw.githubusercontent.com)|151.101.0.133|:443... connected.\n",
            "HTTP request sent, awaiting response... 200 OK\n",
            "Length: 37085 (36K) [image/jpeg]\n",
            "Saving to: ‘parrot_cropped1.jpg’\n",
            "\n",
            "parrot_cropped1.jpg 100%[===================>]  36.22K  --.-KB/s    in 0.01s   \n",
            "\n",
            "2019-04-15 16:49:54 (3.69 MB/s) - ‘parrot_cropped1.jpg’ saved [37085/37085]\n",
            "\n"
          ],
          "name": "stdout"
        }
      ]
    },
    {
      "metadata": {
        "id": "p5k-n16QQveb",
        "colab_type": "code",
        "colab": {}
      },
      "cell_type": "code",
      "source": [
        "def path_join(dirname, filenames):\n",
        "    return [os.path.join(dirname, filename) for filename in filenames]"
      ],
      "execution_count": 0,
      "outputs": []
    },
    {
      "metadata": {
        "id": "tqAz8YA1R1dO",
        "colab_type": "code",
        "colab": {}
      },
      "cell_type": "code",
      "source": [
        "def plot_images(images, cls_true, cls_pred=None, smooth=True):\n",
        "\n",
        "    assert len(images) == len(cls_true)\n",
        "\n",
        "    # Create figure with sub-plots.\n",
        "    fig, axes = plt.subplots(3, 3)\n",
        "\n",
        "    # Adjust vertical spacing.\n",
        "    if cls_pred is None:\n",
        "        hspace = 0.3\n",
        "    else:\n",
        "        hspace = 0.6\n",
        "    fig.subplots_adjust(hspace=hspace, wspace=0.3)\n",
        "\n",
        "    # Interpolation type.\n",
        "    if smooth:\n",
        "        interpolation = 'spline16'\n",
        "    else:\n",
        "        interpolation = 'nearest'\n",
        "\n",
        "    for i, ax in enumerate(axes.flat):\n",
        "        # There may be less than 9 images, ensure it doesn't crash.\n",
        "        if i < len(images):\n",
        "            # Plot image.\n",
        "            ax.imshow(images[i],\n",
        "                      interpolation=interpolation)\n",
        "\n",
        "            # Name of the true class.\n",
        "            cls_true_name = class_names[cls_true[i]]\n",
        "\n",
        "            # Show true and predicted classes.\n",
        "            if cls_pred is None:\n",
        "                xlabel = \"True: {0}\".format(cls_true_name)\n",
        "            else:\n",
        "                # Name of the predicted class.\n",
        "                cls_pred_name = class_names[cls_pred[i]]\n",
        "\n",
        "                xlabel = \"True: {0}\\nPred: {1}\".format(cls_true_name, cls_pred_name)\n",
        "\n",
        "            # Show the classes as the label on the x-axis.\n",
        "            ax.set_xlabel(xlabel)\n",
        "        \n",
        "        # Remove ticks from the plot.\n",
        "        ax.set_xticks([])\n",
        "        ax.set_yticks([])\n",
        "    \n",
        "    # Ensure the plot is shown correctly with multiple plots\n",
        "    # in a single Notebook cell.\n",
        "    plt.show()"
      ],
      "execution_count": 0,
      "outputs": []
    },
    {
      "metadata": {
        "id": "tVQ6NycFR4A0",
        "colab_type": "code",
        "colab": {}
      },
      "cell_type": "code",
      "source": [
        "# Import a function from sklearn to calculate the confusion-matrix.\n",
        "from sklearn.metrics import confusion_matrix\n",
        "\n",
        "def print_confusion_matrix(cls_pred):\n",
        "    # cls_pred is an array of the predicted class-number for\n",
        "    # all images in the test-set.\n",
        "\n",
        "    # Get the confusion matrix using sklearn.\n",
        "    cm = confusion_matrix(y_true=cls_test,  # True class for test-set.\n",
        "                          y_pred=cls_pred)  # Predicted class.\n",
        "\n",
        "    print(\"Confusion matrix:\")\n",
        "    \n",
        "    # Print the confusion matrix as text.\n",
        "    print(cm)\n",
        "    \n",
        "    # Print the class-names for easy reference.\n",
        "    for i, class_name in enumerate(class_names):\n",
        "        print(\"({0}) {1}\".format(i, class_name))"
      ],
      "execution_count": 0,
      "outputs": []
    },
    {
      "metadata": {
        "id": "5j5A-3TBR66d",
        "colab_type": "code",
        "colab": {}
      },
      "cell_type": "code",
      "source": [
        "def plot_example_errors(cls_pred):\n",
        "    # cls_pred is an array of the predicted class-number for\n",
        "    # all images in the test-set.\n",
        "\n",
        "    # Boolean array whether the predicted class is incorrect.\n",
        "    incorrect = (cls_pred != cls_test)\n",
        "\n",
        "    # Get the file-paths for images that were incorrectly classified.\n",
        "    image_paths = np.array(image_paths_test)[incorrect]\n",
        "\n",
        "    # Load the first 9 images.\n",
        "    images = load_images(image_paths=image_paths[0:9])\n",
        "    \n",
        "    # Get the predicted classes for those images.\n",
        "    cls_pred = cls_pred[incorrect]\n",
        "\n",
        "    # Get the true classes for those images.\n",
        "    cls_true = cls_test[incorrect]\n",
        "    \n",
        "    # Plot the 9 images we have loaded and their corresponding classes.\n",
        "    # We have only loaded 9 images so there is no need to slice those again.\n",
        "    plot_images(images=images,\n",
        "                cls_true=cls_true[0:9],\n",
        "                cls_pred=cls_pred[0:9])"
      ],
      "execution_count": 0,
      "outputs": []
    },
    {
      "metadata": {
        "id": "f9ky2KS8R9c9",
        "colab_type": "code",
        "colab": {}
      },
      "cell_type": "code",
      "source": [
        "def example_errors():\n",
        "    # The Keras data-generator for the test-set must be reset\n",
        "    # before processing. This is because the generator will loop\n",
        "    # infinitely and keep an internal index into the dataset.\n",
        "    # So it might start in the middle of the test-set if we do\n",
        "    # not reset it first. This makes it impossible to match the\n",
        "    # predicted classes with the input images.\n",
        "    # If we reset the generator, then it always starts at the\n",
        "    # beginning so we know exactly which input-images were used.\n",
        "    generator_test.reset()\n",
        "    \n",
        "    # Predict the classes for all images in the test-set.\n",
        "    y_pred = new_model.predict_generator(generator_test,\n",
        "                                         steps=steps_test)\n",
        "\n",
        "    # Convert the predicted classes from arrays to integers.\n",
        "    cls_pred = np.argmax(y_pred,axis=1)\n",
        "\n",
        "    # Plot examples of mis-classified images.\n",
        "    plot_example_errors(cls_pred)\n",
        "    \n",
        "    # Print the confusion matrix.\n",
        "    print_confusion_matrix(cls_pred)"
      ],
      "execution_count": 0,
      "outputs": []
    },
    {
      "metadata": {
        "id": "jB9oPc0NSATO",
        "colab_type": "code",
        "colab": {}
      },
      "cell_type": "code",
      "source": [
        "def load_images(image_paths):\n",
        "    # Load the images from disk.\n",
        "    images = [plt.imread(path) for path in image_paths]\n",
        "\n",
        "    # Convert to a numpy array and return it.\n",
        "    return np.asarray(images)"
      ],
      "execution_count": 0,
      "outputs": []
    },
    {
      "metadata": {
        "id": "QzPpJ4-8SDCk",
        "colab_type": "code",
        "colab": {}
      },
      "cell_type": "code",
      "source": [
        "def plot_training_history(history):\n",
        "    # Get the classification accuracy and loss-value\n",
        "    # for the training-set.\n",
        "    acc = history.history['categorical_accuracy']\n",
        "    loss = history.history['loss']\n",
        "\n",
        "    # Get it for the validation-set (we only use the test-set).\n",
        "    val_acc = history.history['val_categorical_accuracy']\n",
        "    val_loss = history.history['val_loss']\n",
        "\n",
        "    # Plot the accuracy and loss-values for the training-set.\n",
        "    plt.plot(acc, linestyle='-', color='b', label='Training Acc.')\n",
        "    plt.plot(loss, 'o', color='b', label='Training Loss')\n",
        "    \n",
        "    # Plot it for the test-set.\n",
        "    plt.plot(val_acc, linestyle='--', color='r', label='Test Acc.')\n",
        "    plt.plot(val_loss, 'o', color='r', label='Test Loss')\n",
        "\n",
        "    # Plot title and legend.\n",
        "    plt.title('Training and Test Accuracy')\n",
        "    plt.legend()\n",
        "\n",
        "    # Ensure the plot shows correctly.\n",
        "    plt.show()"
      ],
      "execution_count": 0,
      "outputs": []
    },
    {
      "metadata": {
        "id": "s450bv5gP9Wi",
        "colab_type": "code",
        "colab": {
          "base_uri": "https://localhost:8080/",
          "height": 66
        },
        "outputId": "a6ece6ba-1ea1-4131-8f9e-4d0b13d97825"
      },
      "cell_type": "code",
      "source": [
        "kandinsky.maybe_download_and_extract()"
      ],
      "execution_count": 11,
      "outputs": [
        {
          "output_type": "stream",
          "text": [
            "- Download progress: 100.0%\n",
            "Download finished. Extracting files.\n",
            "Done.\n"
          ],
          "name": "stdout"
        }
      ]
    },
    {
      "metadata": {
        "id": "4Q5c8wttQAIr",
        "colab_type": "code",
        "colab": {
          "base_uri": "https://localhost:8080/",
          "height": 83
        },
        "outputId": "6907672c-039a-40e9-95e3-9bef0be1d027"
      },
      "cell_type": "code",
      "source": [
        "kandinsky.copy_files()"
      ],
      "execution_count": 12,
      "outputs": [
        {
          "output_type": "stream",
          "text": [
            "Creating dataset from the files in: data/kandinsky/\n",
            "- Data saved to cache-file: data/kandinsky/kandinsky.pkl\n",
            "- Copied training-set to: data/kandinsky/train/\n",
            "- Copied test-set to: data/kandinsky/test/\n"
          ],
          "name": "stdout"
        }
      ]
    },
    {
      "metadata": {
        "id": "6mftlHB1QDAK",
        "colab_type": "code",
        "colab": {}
      },
      "cell_type": "code",
      "source": [
        "train_dir = kandinsky.train_dir\n",
        "test_dir = kandinsky.test_dir"
      ],
      "execution_count": 0,
      "outputs": []
    },
    {
      "metadata": {
        "id": "DJjiy21TQFZS",
        "colab_type": "code",
        "colab": {
          "base_uri": "https://localhost:8080/",
          "height": 120
        },
        "outputId": "684400f7-a451-41a0-865c-5cacd0bb5c7c"
      },
      "cell_type": "code",
      "source": [
        "model = VGG16(include_top=True, weights='imagenet')"
      ],
      "execution_count": 14,
      "outputs": [
        {
          "output_type": "stream",
          "text": [
            "WARNING:tensorflow:From /usr/local/lib/python3.6/dist-packages/tensorflow/python/ops/resource_variable_ops.py:435: colocate_with (from tensorflow.python.framework.ops) is deprecated and will be removed in a future version.\n",
            "Instructions for updating:\n",
            "Colocations handled automatically by placer.\n",
            "Downloading data from https://github.com/fchollet/deep-learning-models/releases/download/v0.1/vgg16_weights_tf_dim_ordering_tf_kernels.h5\n",
            "553467904/553467096 [==============================] - 7s 0us/step\n"
          ],
          "name": "stdout"
        }
      ]
    },
    {
      "metadata": {
        "id": "5N2vMcYEQKzS",
        "colab_type": "code",
        "colab": {
          "base_uri": "https://localhost:8080/",
          "height": 33
        },
        "outputId": "d978384a-1d1b-435a-d685-bc04967001f1"
      },
      "cell_type": "code",
      "source": [
        "input_shape = model.layers[0].output_shape[1:3]\n",
        "input_shape"
      ],
      "execution_count": 15,
      "outputs": [
        {
          "output_type": "execute_result",
          "data": {
            "text/plain": [
              "(224, 224)"
            ]
          },
          "metadata": {
            "tags": []
          },
          "execution_count": 15
        }
      ]
    },
    {
      "metadata": {
        "id": "maQgBI14QOSq",
        "colab_type": "code",
        "colab": {}
      },
      "cell_type": "code",
      "source": [
        "datagen_train = ImageDataGenerator(\n",
        "      rescale=1./255,\n",
        "      rotation_range=0,\n",
        "      width_shift_range=0.1,\n",
        "      height_shift_range=0.1,\n",
        "      shear_range=0.1,\n",
        "      zoom_range=[0.9, 1.5],\n",
        "      horizontal_flip=False,\n",
        "      vertical_flip=False,\n",
        "      fill_mode='nearest')"
      ],
      "execution_count": 0,
      "outputs": []
    },
    {
      "metadata": {
        "id": "QFl1DHm4QRZ7",
        "colab_type": "code",
        "colab": {}
      },
      "cell_type": "code",
      "source": [
        "datagen_test = ImageDataGenerator(rescale=1./255)"
      ],
      "execution_count": 0,
      "outputs": []
    },
    {
      "metadata": {
        "id": "zDLXc5DTQTjC",
        "colab_type": "code",
        "colab": {}
      },
      "cell_type": "code",
      "source": [
        "batch_size = 20\n",
        "if True:\n",
        "    save_to_dir = None\n",
        "else:\n",
        "    save_to_dir='augmented_images/'"
      ],
      "execution_count": 0,
      "outputs": []
    },
    {
      "metadata": {
        "id": "DBuvdH41QWeL",
        "colab_type": "code",
        "colab": {
          "base_uri": "https://localhost:8080/",
          "height": 33
        },
        "outputId": "0f6b01f6-cc6a-455b-8c0f-875ad4636fef"
      },
      "cell_type": "code",
      "source": [
        "generator_train = datagen_train.flow_from_directory(directory=train_dir,\n",
        "                                                    target_size=input_shape,\n",
        "                                                    batch_size=batch_size,\n",
        "                                                    shuffle=True,\n",
        "                                                    save_to_dir=save_to_dir)"
      ],
      "execution_count": 19,
      "outputs": [
        {
          "output_type": "stream",
          "text": [
            "Found 6000 images belonging to 3 classes.\n"
          ],
          "name": "stdout"
        }
      ]
    },
    {
      "metadata": {
        "id": "PXc3HAZBQcBz",
        "colab_type": "code",
        "colab": {
          "base_uri": "https://localhost:8080/",
          "height": 33
        },
        "outputId": "e0723566-e52f-49ac-df7f-4b4a576471cd"
      },
      "cell_type": "code",
      "source": [
        "generator_test = datagen_test.flow_from_directory(directory=test_dir,\n",
        "                                                  target_size=input_shape,\n",
        "                                                  batch_size=batch_size,\n",
        "                                                  shuffle=False)"
      ],
      "execution_count": 20,
      "outputs": [
        {
          "output_type": "stream",
          "text": [
            "Found 450 images belonging to 3 classes.\n"
          ],
          "name": "stdout"
        }
      ]
    },
    {
      "metadata": {
        "id": "eRill4eaQmR1",
        "colab_type": "code",
        "colab": {
          "base_uri": "https://localhost:8080/",
          "height": 33
        },
        "outputId": "b01cf918-79b1-4dee-f882-b4df81fa2114"
      },
      "cell_type": "code",
      "source": [
        "steps_test = generator_test.n / batch_size\n",
        "steps_test"
      ],
      "execution_count": 21,
      "outputs": [
        {
          "output_type": "execute_result",
          "data": {
            "text/plain": [
              "22.5"
            ]
          },
          "metadata": {
            "tags": []
          },
          "execution_count": 21
        }
      ]
    },
    {
      "metadata": {
        "id": "gxowgKlVQolb",
        "colab_type": "code",
        "colab": {}
      },
      "cell_type": "code",
      "source": [
        "image_paths_train = path_join(train_dir, generator_train.filenames)\n",
        "image_paths_test = path_join(test_dir, generator_test.filenames)"
      ],
      "execution_count": 0,
      "outputs": []
    },
    {
      "metadata": {
        "id": "T7yQwfkXQqvD",
        "colab_type": "code",
        "colab": {}
      },
      "cell_type": "code",
      "source": [
        "cls_train = generator_train.classes\n",
        "cls_test = generator_test.classes"
      ],
      "execution_count": 0,
      "outputs": []
    },
    {
      "metadata": {
        "id": "HQoEZ0b3Q4Qm",
        "colab_type": "code",
        "colab": {
          "base_uri": "https://localhost:8080/",
          "height": 33
        },
        "outputId": "eadee25a-fe61-4464-a843-3c2b6fa6d246"
      },
      "cell_type": "code",
      "source": [
        "class_names = list(generator_train.class_indices.keys())\n",
        "class_names"
      ],
      "execution_count": 24,
      "outputs": [
        {
          "output_type": "execute_result",
          "data": {
            "text/plain": [
              "['allcolors', 'allshapes', 'yellowleft']"
            ]
          },
          "metadata": {
            "tags": []
          },
          "execution_count": 24
        }
      ]
    },
    {
      "metadata": {
        "id": "1lJfWiUFQ5vU",
        "colab_type": "code",
        "colab": {
          "base_uri": "https://localhost:8080/",
          "height": 33
        },
        "outputId": "4d7b7b5c-89b7-4cae-f623-d81371b7098a"
      },
      "cell_type": "code",
      "source": [
        "num_classes = generator_train.num_classes\n",
        "num_classes"
      ],
      "execution_count": 25,
      "outputs": [
        {
          "output_type": "execute_result",
          "data": {
            "text/plain": [
              "3"
            ]
          },
          "metadata": {
            "tags": []
          },
          "execution_count": 25
        }
      ]
    },
    {
      "metadata": {
        "id": "cUQPZJb4Q8Pl",
        "colab_type": "code",
        "colab": {
          "base_uri": "https://localhost:8080/",
          "height": 265
        },
        "outputId": "8b2b59c5-f32a-4267-8f49-5390e38ded52"
      },
      "cell_type": "code",
      "source": [
        "# Load the first images from the train-set.\n",
        "images = load_images(image_paths=image_paths_train[0:9])\n",
        "\n",
        "# Get the true classes for those images.\n",
        "cls_true = cls_train[0:9]\n",
        "\n",
        "# Plot the images and labels using our helper-function above.\n",
        "plot_images(images=images, cls_true=cls_true, smooth=True)"
      ],
      "execution_count": 26,
      "outputs": [
        {
          "output_type": "display_data",
          "data": {
            "image/png": "[encoded data removed]",
            "text/plain": [
              "<Figure size 432x288 with 9 Axes>"
            ]
          },
          "metadata": {
            "tags": []
          }
        }
      ]
    },
    {
      "metadata": {
        "id": "m3DBFc6LSG_V",
        "colab_type": "code",
        "colab": {}
      },
      "cell_type": "code",
      "source": [
        "from sklearn.utils.class_weight import compute_class_weight\n",
        "class_weight = compute_class_weight(class_weight='balanced',\n",
        "                                    classes=np.unique(cls_train),\n",
        "                                    y=cls_train)"
      ],
      "execution_count": 0,
      "outputs": []
    },
    {
      "metadata": {
        "id": "nRdDaI7LM-7L",
        "colab_type": "code",
        "colab": {
          "base_uri": "https://localhost:8080/",
          "height": 216
        },
        "outputId": "3b784e64-28f4-4a38-9774-796d69925c50"
      },
      "cell_type": "code",
      "source": [
        "!pip install keract"
      ],
      "execution_count": 28,
      "outputs": [
        {
          "output_type": "stream",
          "text": [
            "Collecting keract\n",
            "  Downloading https://files.pythonhosted.org/packages/db/16/e416baeae2987a6c0e5d5d313c9447e92bb0199af5aa3533750d3717f55f/keract-2.5.1-py2.py3-none-any.whl\n",
            "Requirement already satisfied: numpy in /usr/local/lib/python3.6/dist-packages (from keract) (1.16.2)\n",
            "Requirement already satisfied: keras in /usr/local/lib/python3.6/dist-packages (from keract) (2.2.4)\n",
            "Requirement already satisfied: scipy>=0.14 in /usr/local/lib/python3.6/dist-packages (from keras->keract) (1.2.1)\n",
            "Requirement already satisfied: pyyaml in /usr/local/lib/python3.6/dist-packages (from keras->keract) (3.13)\n",
            "Requirement already satisfied: six>=1.9.0 in /usr/local/lib/python3.6/dist-packages (from keras->keract) (1.11.0)\n",
            "Requirement already satisfied: keras-applications>=1.0.6 in /usr/local/lib/python3.6/dist-packages (from keras->keract) (1.0.7)\n",
            "Requirement already satisfied: h5py in /usr/local/lib/python3.6/dist-packages (from keras->keract) (2.8.0)\n",
            "Requirement already satisfied: keras-preprocessing>=1.0.5 in /usr/local/lib/python3.6/dist-packages (from keras->keract) (1.0.9)\n",
            "Installing collected packages: keract\n",
            "Successfully installed keract-2.5.1\n"
          ],
          "name": "stdout"
        }
      ]
    },
    {
      "metadata": {
        "id": "FdtbTv_JSMKG",
        "colab_type": "code",
        "colab": {}
      },
      "cell_type": "code",
      "source": [
        "def predict(image_path):\n",
        "    # Load and resize the image using PIL.\n",
        "    img = PIL.Image.open(image_path)\n",
        "    img_resized = img.resize(input_shape, PIL.Image.LANCZOS)\n",
        "\n",
        "    # Plot the image.\n",
        "    plt.imshow(img_resized)\n",
        "    plt.show()\n",
        "\n",
        "    # Convert the PIL image to a numpy-array with the proper shape.\n",
        "    img_array = np.expand_dims(np.array(img_resized), axis=0)\n",
        "\n",
        "    # Use the VGG16 model to make a prediction.\n",
        "    # This outputs an array with 1000 numbers corresponding to\n",
        "    # the classes of the ImageNet-dataset.\n",
        "    pred = model.predict(img_array)\n",
        "    \n",
        "    # Decode the output of the VGG16 model.\n",
        "    pred_decoded = decode_predictions(pred)[0]\n",
        "\n",
        "    # Print the predictions.\n",
        "    for code, name, score in pred_decoded:\n",
        "        print(\"{0:>6.2%} : {1}\".format(score, name))       "
      ],
      "execution_count": 0,
      "outputs": []
    },
    {
      "metadata": {
        "id": "g6BbVC0NNdzh",
        "colab_type": "code",
        "colab": {
          "base_uri": "https://localhost:8080/",
          "height": 33
        },
        "outputId": "6db11c7b-3c0e-4f27-ab85-59a32166687e"
      },
      "cell_type": "code",
      "source": [
        "import keract\n",
        "from keras.preprocessing.image import img_to_array\n",
        "from keras.preprocessing.image import load_img\n",
        "from keras import backend as K\n",
        "\n",
        "#session = tf.Session()  \n",
        "#K.set_session(sess)\n",
        "#session.run(tf.global_variables_initializer())\n",
        "\n",
        "def heatmap():  \n",
        "  img_resized = load_img('parrot_cropped1.jpg', target_size=input_shape)\n",
        "  \n",
        "  img_asarr = img_to_array(img_resized)\n",
        "  img_batch = np.expand_dims(img_asarr, axis=0)\n",
        "  img_batch = preprocess_input(img_batch)\n",
        "  \n",
        "  print(img_batch.shape)\n",
        "  print(img_batch.dtype) \n",
        "  activations = keract.get_activations(new_model, img_batch)\n",
        "  keract.display_heatmaps(activations, img_asarr)\n",
        "#heatmap()"
      ],
      "execution_count": 30,
      "outputs": [
        {
          "output_type": "stream",
          "text": [
            "Using TensorFlow backend.\n"
          ],
          "name": "stderr"
        }
      ]
    },
    {
      "metadata": {
        "id": "Wq_MrkCpSOuj",
        "colab_type": "code",
        "colab": {
          "base_uri": "https://localhost:8080/",
          "height": 385
        },
        "outputId": "eb130770-cfe3-4c05-de56-bc94ffe12369"
      },
      "cell_type": "code",
      "source": [
        "predict(image_path='parrot_cropped1.jpg')"
      ],
      "execution_count": 31,
      "outputs": [
        {
          "output_type": "display_data",
          "data": {
            "image/png": "[encoded data removed]",
            "text/plain": [
              "<Figure size 432x288 with 1 Axes>"
            ]
          },
          "metadata": {
            "tags": []
          }
        },
        {
          "output_type": "stream",
          "text": [
            "Downloading data from https://s3.amazonaws.com/deep-learning-models/image-models/imagenet_class_index.json\n",
            "40960/35363 [==================================] - 0s 1us/step\n",
            "79.02% : macaw\n",
            " 6.61% : bubble\n",
            " 3.64% : vine_snake\n",
            " 1.90% : pinwheel\n",
            " 1.22% : knot\n"
          ],
          "name": "stdout"
        }
      ]
    },
    {
      "metadata": {
        "id": "kXpmKmn1SQs3",
        "colab_type": "code",
        "colab": {
          "base_uri": "https://localhost:8080/",
          "height": 352
        },
        "outputId": "ede443b4-05ac-4914-a9be-1255ca5336cd"
      },
      "cell_type": "code",
      "source": [
        "predict(image_path=image_paths_train[0])"
      ],
      "execution_count": 32,
      "outputs": [
        {
          "output_type": "display_data",
          "data": {
            "image/png": "[encoded data removed]",
            "text/plain": [
              "<Figure size 432x288 with 1 Axes>"
            ]
          },
          "metadata": {
            "tags": []
          }
        },
        {
          "output_type": "stream",
          "text": [
            "24.16% : envelope\n",
            "11.86% : web_site\n",
            " 7.96% : Band_Aid\n",
            " 2.99% : rubber_eraser\n",
            " 1.99% : analog_clock\n"
          ],
          "name": "stdout"
        }
      ]
    },
    {
      "metadata": {
        "id": "Gf8EvBmLUA1m",
        "colab_type": "code",
        "colab": {
          "base_uri": "https://localhost:8080/",
          "height": 900
        },
        "outputId": "04d8318e-cf38-4fc9-be4f-8a68d55c2773"
      },
      "cell_type": "code",
      "source": [
        "model.summary()"
      ],
      "execution_count": 33,
      "outputs": [
        {
          "output_type": "stream",
          "text": [
            "_________________________________________________________________\n",
            "Layer (type)                 Output Shape              Param #   \n",
            "=================================================================\n",
            "input_1 (InputLayer)         (None, 224, 224, 3)       0         \n",
            "_________________________________________________________________\n",
            "block1_conv1 (Conv2D)        (None, 224, 224, 64)      1792      \n",
            "_________________________________________________________________\n",
            "block1_conv2 (Conv2D)        (None, 224, 224, 64)      36928     \n",
            "_________________________________________________________________\n",
            "block1_pool (MaxPooling2D)   (None, 112, 112, 64)      0         \n",
            "_________________________________________________________________\n",
            "block2_conv1 (Conv2D)        (None, 112, 112, 128)     73856     \n",
            "_________________________________________________________________\n",
            "block2_conv2 (Conv2D)        (None, 112, 112, 128)     147584    \n",
            "_________________________________________________________________\n",
            "block2_pool (MaxPooling2D)   (None, 56, 56, 128)       0         \n",
            "_________________________________________________________________\n",
            "block3_conv1 (Conv2D)        (None, 56, 56, 256)       295168    \n",
            "_________________________________________________________________\n",
            "block3_conv2 (Conv2D)        (None, 56, 56, 256)       590080    \n",
            "_________________________________________________________________\n",
            "block3_conv3 (Conv2D)        (None, 56, 56, 256)       590080    \n",
            "_________________________________________________________________\n",
            "block3_pool (MaxPooling2D)   (None, 28, 28, 256)       0         \n",
            "_________________________________________________________________\n",
            "block4_conv1 (Conv2D)        (None, 28, 28, 512)       1180160   \n",
            "_________________________________________________________________\n",
            "block4_conv2 (Conv2D)        (None, 28, 28, 512)       2359808   \n",
            "_________________________________________________________________\n",
            "block4_conv3 (Conv2D)        (None, 28, 28, 512)       2359808   \n",
            "_________________________________________________________________\n",
            "block4_pool (MaxPooling2D)   (None, 14, 14, 512)       0         \n",
            "_________________________________________________________________\n",
            "block5_conv1 (Conv2D)        (None, 14, 14, 512)       2359808   \n",
            "_________________________________________________________________\n",
            "block5_conv2 (Conv2D)        (None, 14, 14, 512)       2359808   \n",
            "_________________________________________________________________\n",
            "block5_conv3 (Conv2D)        (None, 14, 14, 512)       2359808   \n",
            "_________________________________________________________________\n",
            "block5_pool (MaxPooling2D)   (None, 7, 7, 512)         0         \n",
            "_________________________________________________________________\n",
            "flatten (Flatten)            (None, 25088)             0         \n",
            "_________________________________________________________________\n",
            "fc1 (Dense)                  (None, 4096)              102764544 \n",
            "_________________________________________________________________\n",
            "fc2 (Dense)                  (None, 4096)              16781312  \n",
            "_________________________________________________________________\n",
            "predictions (Dense)          (None, 1000)              4097000   \n",
            "=================================================================\n",
            "Total params: 138,357,544\n",
            "Trainable params: 138,357,544\n",
            "Non-trainable params: 0\n",
            "_________________________________________________________________\n"
          ],
          "name": "stdout"
        }
      ]
    },
    {
      "metadata": {
        "id": "Wv65w0QmUGEu",
        "colab_type": "code",
        "colab": {}
      },
      "cell_type": "code",
      "source": [
        "transfer_layer = model.get_layer('block5_pool')"
      ],
      "execution_count": 0,
      "outputs": []
    },
    {
      "metadata": {
        "id": "brHtA-HrUKlg",
        "colab_type": "code",
        "colab": {}
      },
      "cell_type": "code",
      "source": [
        "conv_model = Model(inputs=model.input,\n",
        "                   outputs=transfer_layer.output)"
      ],
      "execution_count": 0,
      "outputs": []
    },
    {
      "metadata": {
        "id": "uRC5UHJ5UM0X",
        "colab_type": "code",
        "colab": {
          "base_uri": "https://localhost:8080/",
          "height": 86
        },
        "outputId": "2951fea0-4c8d-445c-bd4b-d82fb2e3ee19"
      },
      "cell_type": "code",
      "source": [
        "# Start a new Keras Sequential model.\n",
        "new_model = Sequential()\n",
        "\n",
        "# Add the convolutional part of the VGG16 model from above.\n",
        "new_model.add(conv_model)\n",
        "\n",
        "# Flatten the output of the VGG16 model because it is from a\n",
        "# convolutional layer.\n",
        "new_model.add(Flatten())\n",
        "\n",
        "# Add a dense (aka. fully-connected) layer.\n",
        "# This is for combining features that the VGG16 model has\n",
        "# recognized in the image.\n",
        "new_model.add(Dense(1024, activation='relu'))\n",
        "\n",
        "# Add a dropout-layer which may prevent overfitting and\n",
        "# improve generalization ability to unseen data e.g. the test-set.\n",
        "new_model.add(Dropout(0.5))\n",
        "\n",
        "# Add the final layer for the actual classification.\n",
        "new_model.add(Dense(num_classes, activation='softmax'))"
      ],
      "execution_count": 36,
      "outputs": [
        {
          "output_type": "stream",
          "text": [
            "WARNING:tensorflow:From /usr/local/lib/python3.6/dist-packages/tensorflow/python/keras/layers/core.py:143: calling dropout (from tensorflow.python.ops.nn_ops) with keep_prob is deprecated and will be removed in a future version.\n",
            "Instructions for updating:\n",
            "Please use `rate` instead of `keep_prob`. Rate should be set to `rate = 1 - keep_prob`.\n"
          ],
          "name": "stdout"
        }
      ]
    },
    {
      "metadata": {
        "id": "T3pJcyxnURYf",
        "colab_type": "code",
        "colab": {
          "base_uri": "https://localhost:8080/",
          "height": 650
        },
        "outputId": "bc4399d7-0bbb-461d-f3cd-34147e985cb7"
      },
      "cell_type": "code",
      "source": [
        "optimizer = Adam(lr=1e-5)\n",
        "loss = 'categorical_crossentropy'\n",
        "metrics = ['categorical_accuracy']\n",
        "def print_layer_trainable():\n",
        "    for layer in conv_model.layers:\n",
        "        print(\"{0}:\\t{1}\".format(layer.trainable, layer.name))\n",
        "print_layer_trainable()\n",
        "conv_model.trainable = False\n",
        "for layer in conv_model.layers:\n",
        "    layer.trainable = False\n",
        "print_layer_trainable()\n",
        "new_model.compile(optimizer=optimizer, loss=loss, metrics=metrics)\n",
        "epochs = 20\n",
        "steps_per_epoch = 100"
      ],
      "execution_count": 48,
      "outputs": [
        {
          "output_type": "stream",
          "text": [
            "False:\tinput_1\n",
            "False:\tblock1_conv1\n",
            "False:\tblock1_conv2\n",
            "False:\tblock1_pool\n",
            "False:\tblock2_conv1\n",
            "False:\tblock2_conv2\n",
            "False:\tblock2_pool\n",
            "False:\tblock3_conv1\n",
            "False:\tblock3_conv2\n",
            "False:\tblock3_conv3\n",
            "False:\tblock3_pool\n",
            "True:\tblock4_conv1\n",
            "True:\tblock4_conv2\n",
            "True:\tblock4_conv3\n",
            "True:\tblock4_pool\n",
            "True:\tblock5_conv1\n",
            "True:\tblock5_conv2\n",
            "True:\tblock5_conv3\n",
            "True:\tblock5_pool\n",
            "False:\tinput_1\n",
            "False:\tblock1_conv1\n",
            "False:\tblock1_conv2\n",
            "False:\tblock1_pool\n",
            "False:\tblock2_conv1\n",
            "False:\tblock2_conv2\n",
            "False:\tblock2_pool\n",
            "False:\tblock3_conv1\n",
            "False:\tblock3_conv2\n",
            "False:\tblock3_conv3\n",
            "False:\tblock3_pool\n",
            "False:\tblock4_conv1\n",
            "False:\tblock4_conv2\n",
            "False:\tblock4_conv3\n",
            "False:\tblock4_pool\n",
            "False:\tblock5_conv1\n",
            "False:\tblock5_conv2\n",
            "False:\tblock5_conv3\n",
            "False:\tblock5_pool\n"
          ],
          "name": "stdout"
        }
      ]
    },
    {
      "metadata": {
        "id": "e5FmSdS4UzLX",
        "colab_type": "code",
        "colab": {
          "base_uri": "https://localhost:8080/",
          "height": 1016
        },
        "outputId": "7dd68c9e-9b5f-44cb-8e43-752e1da31021"
      },
      "cell_type": "code",
      "source": [
        "history = new_model.fit_generator(generator=generator_train,\n",
        "                                  epochs=epochs,\n",
        "                                  steps_per_epoch=steps_per_epoch,\n",
        "                                  class_weight=class_weight,\n",
        "                                  validation_data=generator_test,\n",
        "                                  validation_steps=steps_test)"
      ],
      "execution_count": 49,
      "outputs": [
        {
          "output_type": "stream",
          "text": [
            "Epoch 1/20\n",
            "23/23 [==============================] - 5s 236ms/step - loss: 0.7781 - categorical_accuracy: 0.5956\n",
            "300/300 [==============================] - 107s 358ms/step - loss: 0.7904 - categorical_accuracy: 0.6395 - val_loss: 0.7781 - val_categorical_accuracy: 0.5956\n",
            "Epoch 2/20\n",
            "23/23 [==============================] - 5s 233ms/step - loss: 0.7020 - categorical_accuracy: 0.6778\n",
            "300/300 [==============================] - 106s 354ms/step - loss: 0.7268 - categorical_accuracy: 0.6800 - val_loss: 0.7020 - val_categorical_accuracy: 0.6778\n",
            "Epoch 3/20\n",
            "23/23 [==============================] - 5s 230ms/step - loss: 0.6727 - categorical_accuracy: 0.7044\n",
            "300/300 [==============================] - 105s 350ms/step - loss: 0.6781 - categorical_accuracy: 0.7080 - val_loss: 0.6727 - val_categorical_accuracy: 0.7044\n",
            "Epoch 4/20\n",
            "23/23 [==============================] - 5s 231ms/step - loss: 0.6367 - categorical_accuracy: 0.7089\n",
            "300/300 [==============================] - 105s 350ms/step - loss: 0.6446 - categorical_accuracy: 0.7262 - val_loss: 0.6367 - val_categorical_accuracy: 0.7089\n",
            "Epoch 5/20\n",
            "23/23 [==============================] - 5s 231ms/step - loss: 0.6177 - categorical_accuracy: 0.7311\n",
            "300/300 [==============================] - 106s 355ms/step - loss: 0.6004 - categorical_accuracy: 0.7530 - val_loss: 0.6177 - val_categorical_accuracy: 0.7311\n",
            "Epoch 6/20\n",
            "23/23 [==============================] - 5s 232ms/step - loss: 0.5840 - categorical_accuracy: 0.7444\n",
            "300/300 [==============================] - 107s 358ms/step - loss: 0.5702 - categorical_accuracy: 0.7687 - val_loss: 0.5840 - val_categorical_accuracy: 0.7444\n",
            "Epoch 7/20\n",
            "23/23 [==============================] - 5s 231ms/step - loss: 0.5651 - categorical_accuracy: 0.7533\n",
            "300/300 [==============================] - 108s 360ms/step - loss: 0.5438 - categorical_accuracy: 0.7777 - val_loss: 0.5651 - val_categorical_accuracy: 0.7533\n",
            "Epoch 8/20\n",
            "23/23 [==============================] - 5s 232ms/step - loss: 0.5448 - categorical_accuracy: 0.7756\n",
            "300/300 [==============================] - 110s 367ms/step - loss: 0.5159 - categorical_accuracy: 0.7930 - val_loss: 0.5448 - val_categorical_accuracy: 0.7756\n",
            "Epoch 9/20\n",
            "23/23 [==============================] - 5s 231ms/step - loss: 0.5110 - categorical_accuracy: 0.7800\n",
            "300/300 [==============================] - 110s 367ms/step - loss: 0.4960 - categorical_accuracy: 0.8032 - val_loss: 0.5110 - val_categorical_accuracy: 0.7800\n",
            "Epoch 10/20\n",
            "23/23 [==============================] - 5s 231ms/step - loss: 0.5045 - categorical_accuracy: 0.7844\n",
            "300/300 [==============================] - 108s 360ms/step - loss: 0.4658 - categorical_accuracy: 0.8162 - val_loss: 0.5045 - val_categorical_accuracy: 0.7844\n",
            "Epoch 11/20\n",
            "23/23 [==============================] - 5s 230ms/step - loss: 0.4815 - categorical_accuracy: 0.7867\n",
            "300/300 [==============================] - 104s 348ms/step - loss: 0.4438 - categorical_accuracy: 0.8290 - val_loss: 0.4815 - val_categorical_accuracy: 0.7867\n",
            "Epoch 12/20\n",
            "23/23 [==============================] - 5s 230ms/step - loss: 0.4634 - categorical_accuracy: 0.8022\n",
            "300/300 [==============================] - 106s 352ms/step - loss: 0.4365 - categorical_accuracy: 0.8303 - val_loss: 0.4634 - val_categorical_accuracy: 0.8022\n",
            "Epoch 13/20\n",
            "23/23 [==============================] - 5s 231ms/step - loss: 0.4448 - categorical_accuracy: 0.8067\n",
            "300/300 [==============================] - 107s 356ms/step - loss: 0.4087 - categorical_accuracy: 0.8418 - val_loss: 0.4448 - val_categorical_accuracy: 0.8067\n",
            "Epoch 14/20\n",
            "23/23 [==============================] - 5s 232ms/step - loss: 0.4503 - categorical_accuracy: 0.8000\n",
            "300/300 [==============================] - 110s 365ms/step - loss: 0.3926 - categorical_accuracy: 0.8527 - val_loss: 0.4503 - val_categorical_accuracy: 0.8000\n",
            "Epoch 15/20\n",
            "23/23 [==============================] - 5s 231ms/step - loss: 0.4352 - categorical_accuracy: 0.8222\n",
            "300/300 [==============================] - 109s 364ms/step - loss: 0.3840 - categorical_accuracy: 0.8513 - val_loss: 0.4352 - val_categorical_accuracy: 0.8222\n",
            "Epoch 16/20\n",
            "23/23 [==============================] - 5s 229ms/step - loss: 0.4074 - categorical_accuracy: 0.8267\n",
            "300/300 [==============================] - 109s 363ms/step - loss: 0.3763 - categorical_accuracy: 0.8600 - val_loss: 0.4074 - val_categorical_accuracy: 0.8267\n",
            "Epoch 17/20\n",
            "23/23 [==============================] - 5s 232ms/step - loss: 0.4026 - categorical_accuracy: 0.8356\n",
            "300/300 [==============================] - 107s 356ms/step - loss: 0.3552 - categorical_accuracy: 0.8698 - val_loss: 0.4026 - val_categorical_accuracy: 0.8356\n",
            "Epoch 18/20\n",
            "23/23 [==============================] - 5s 232ms/step - loss: 0.3935 - categorical_accuracy: 0.8311\n",
            "300/300 [==============================] - 109s 362ms/step - loss: 0.3350 - categorical_accuracy: 0.8745 - val_loss: 0.3935 - val_categorical_accuracy: 0.8311\n",
            "Epoch 19/20\n",
            "23/23 [==============================] - 5s 229ms/step - loss: 0.3813 - categorical_accuracy: 0.8356\n",
            "300/300 [==============================] - 107s 355ms/step - loss: 0.3350 - categorical_accuracy: 0.8778 - val_loss: 0.3813 - val_categorical_accuracy: 0.8356\n",
            "Epoch 20/20\n",
            "23/23 [==============================] - 5s 231ms/step - loss: 0.3729 - categorical_accuracy: 0.8333\n",
            "300/300 [==============================] - 106s 353ms/step - loss: 0.3269 - categorical_accuracy: 0.8822 - val_loss: 0.3729 - val_categorical_accuracy: 0.8333\n"
          ],
          "name": "stdout"
        }
      ]
    },
    {
      "metadata": {
        "id": "BLpW0VbAU52o",
        "colab_type": "code",
        "colab": {
          "base_uri": "https://localhost:8080/",
          "height": 281
        },
        "outputId": "a0e64e5a-f7f4-496b-a6ff-46a8336d9734"
      },
      "cell_type": "code",
      "source": [
        "plot_training_history(history)"
      ],
      "execution_count": 50,
      "outputs": [
        {
          "output_type": "display_data",
          "data": {
            "image/png": "[encoded data removed]",
            "text/plain": [
              "<Figure size 432x288 with 1 Axes>"
            ]
          },
          "metadata": {
            "tags": []
          }
        }
      ]
    },
    {
      "metadata": {
        "id": "pDHS6FhUU_Vy",
        "colab_type": "code",
        "colab": {}
      },
      "cell_type": "code",
      "source": [
        "result = new_model.evaluate_generator(generator_test, steps=steps_test)"
      ],
      "execution_count": 0,
      "outputs": []
    },
    {
      "metadata": {
        "id": "CXvxrLXbVBLQ",
        "colab_type": "code",
        "colab": {
          "base_uri": "https://localhost:8080/",
          "height": 33
        },
        "outputId": "e2a4a62f-0920-41cd-f4d0-50b8880705ac"
      },
      "cell_type": "code",
      "source": [
        "print(\"Test-set classification accuracy: {0:.2%}\".format(result[1]))"
      ],
      "execution_count": 52,
      "outputs": [
        {
          "output_type": "stream",
          "text": [
            "Test-set classification accuracy: 83.33%\n"
          ],
          "name": "stdout"
        }
      ]
    },
    {
      "metadata": {
        "id": "1BxTyHbBVDr6",
        "colab_type": "code",
        "colab": {
          "base_uri": "https://localhost:8080/",
          "height": 393
        },
        "outputId": "4880f25c-883c-415a-ffb2-21ac326f9a89"
      },
      "cell_type": "code",
      "source": [
        "example_errors()"
      ],
      "execution_count": 53,
      "outputs": [
        {
          "output_type": "display_data",
          "data": {
            "image/png": "[encoded data removed]",
            "text/plain": [
              "<Figure size 432x288 with 9 Axes>"
            ]
          },
          "metadata": {
            "tags": []
          }
        },
        {
          "output_type": "stream",
          "text": [
            "Confusion matrix:\n",
            "[[122   3  25]\n",
            " [  4 143   3]\n",
            " [ 37   3 110]]\n",
            "(0) allcolors\n",
            "(1) allshapes\n",
            "(2) yellowleft\n"
          ],
          "name": "stdout"
        }
      ]
    },
    {
      "metadata": {
        "id": "jex3VuT0V63p",
        "colab_type": "text"
      },
      "cell_type": "markdown",
      "source": [
        ""
      ]
    },
    {
      "metadata": {
        "id": "IDGjb3maV0Cz",
        "colab_type": "code",
        "colab": {}
      },
      "cell_type": "code",
      "source": [
        "## Fine-Tuning"
      ],
      "execution_count": 0,
      "outputs": []
    },
    {
      "metadata": {
        "id": "Oja2HT9OVvoV",
        "colab_type": "code",
        "colab": {}
      },
      "cell_type": "code",
      "source": [
        "conv_model.trainable = True"
      ],
      "execution_count": 0,
      "outputs": []
    },
    {
      "metadata": {
        "id": "h0VaTPqNVxtp",
        "colab_type": "code",
        "colab": {}
      },
      "cell_type": "code",
      "source": [
        "for layer in conv_model.layers:\n",
        "    # Boolean whether this layer is trainable.\n",
        "    trainable = ('block5' in layer.name or 'block4' in layer.name)\n",
        "    \n",
        "    # Set the layer's bool.\n",
        "    layer.trainable = trainable"
      ],
      "execution_count": 0,
      "outputs": []
    },
    {
      "metadata": {
        "id": "qkv0pX-qWQ9b",
        "colab_type": "code",
        "colab": {
          "base_uri": "https://localhost:8080/",
          "height": 550
        },
        "outputId": "6011b349-105e-4c8c-abb5-1c0924968769"
      },
      "cell_type": "code",
      "source": [
        "optimizer_fine = Adam(lr=1e-7)\n",
        "new_model.compile(optimizer=optimizer_fine, loss=loss, metrics=metrics)\n",
        "history = new_model.fit_generator(generator=generator_train,\n",
        "                                  epochs=epochs,\n",
        "                                  steps_per_epoch=steps_per_epoch,\n",
        "                                  class_weight=class_weight,\n",
        "                                  validation_data=generator_test,\n",
        "                                  validation_steps=steps_test)"
      ],
      "execution_count": 0,
      "outputs": [
        {
          "output_type": "stream",
          "text": [
            "Epoch 1/20\n",
            "23/23 [==============================] - 6s 243ms/step - loss: 0.3462 - categorical_accuracy: 0.8711\n",
            "300/300 [==============================] - 122s 406ms/step - loss: 0.2992 - categorical_accuracy: 0.8937 - val_loss: 0.3462 - val_categorical_accuracy: 0.8711\n",
            "Epoch 2/20\n",
            "23/23 [==============================] - 5s 232ms/step - loss: 0.3315 - categorical_accuracy: 0.8711\n",
            "300/300 [==============================] - 118s 393ms/step - loss: 0.2730 - categorical_accuracy: 0.9043 - val_loss: 0.3315 - val_categorical_accuracy: 0.8711\n",
            "Epoch 3/20\n",
            "23/23 [==============================] - 5s 231ms/step - loss: 0.3198 - categorical_accuracy: 0.8822\n",
            "300/300 [==============================] - 119s 396ms/step - loss: 0.2643 - categorical_accuracy: 0.9043 - val_loss: 0.3198 - val_categorical_accuracy: 0.8822\n",
            "Epoch 4/20\n",
            "23/23 [==============================] - 5s 231ms/step - loss: 0.3106 - categorical_accuracy: 0.8733\n",
            "300/300 [==============================] - 118s 394ms/step - loss: 0.2518 - categorical_accuracy: 0.9122 - val_loss: 0.3106 - val_categorical_accuracy: 0.8733\n",
            "Epoch 5/20\n",
            "23/23 [==============================] - 5s 231ms/step - loss: 0.3017 - categorical_accuracy: 0.8822\n",
            "300/300 [==============================] - 117s 391ms/step - loss: 0.2444 - categorical_accuracy: 0.9093 - val_loss: 0.3017 - val_categorical_accuracy: 0.8822\n",
            "Epoch 6/20\n",
            "23/23 [==============================] - 5s 231ms/step - loss: 0.2968 - categorical_accuracy: 0.8911\n",
            "300/300 [==============================] - 117s 390ms/step - loss: 0.2347 - categorical_accuracy: 0.9177 - val_loss: 0.2968 - val_categorical_accuracy: 0.8911\n",
            "Epoch 7/20\n",
            "23/23 [==============================] - 5s 230ms/step - loss: 0.2898 - categorical_accuracy: 0.8956\n",
            "300/300 [==============================] - 119s 396ms/step - loss: 0.2204 - categorical_accuracy: 0.9197 - val_loss: 0.2898 - val_categorical_accuracy: 0.8956\n",
            "Epoch 8/20\n",
            "23/23 [==============================] - 5s 231ms/step - loss: 0.2830 - categorical_accuracy: 0.8933\n",
            "300/300 [==============================] - 118s 393ms/step - loss: 0.2210 - categorical_accuracy: 0.9207 - val_loss: 0.2830 - val_categorical_accuracy: 0.8933\n",
            "Epoch 9/20\n",
            "23/23 [==============================] - 5s 231ms/step - loss: 0.2772 - categorical_accuracy: 0.8933\n",
            "300/300 [==============================] - 117s 390ms/step - loss: 0.2110 - categorical_accuracy: 0.9232 - val_loss: 0.2772 - val_categorical_accuracy: 0.8933\n",
            "Epoch 10/20\n",
            "23/23 [==============================] - 5s 231ms/step - loss: 0.2724 - categorical_accuracy: 0.9022\n",
            "300/300 [==============================] - 118s 392ms/step - loss: 0.2090 - categorical_accuracy: 0.9218 - val_loss: 0.2724 - val_categorical_accuracy: 0.9022\n",
            "Epoch 11/20\n",
            " 57/300 [====>.........................] - ETA: 1:29 - loss: 0.2077 - categorical_accuracy: 0.9263"
          ],
          "name": "stdout"
        }
      ]
    },
    {
      "metadata": {
        "id": "QsxHHeQ5WNJl",
        "colab_type": "code",
        "colab": {}
      },
      "cell_type": "code",
      "source": [
        "plot_training_history(history)\n",
        "result = new_model.evaluate_generator(generator_test, steps=steps_test)\n",
        "print(\"Test-set classification accuracy: {0:.2%}\".format(result[1]))\n",
        "example_errors()"
      ],
      "execution_count": 0,
      "outputs": []
    }
  ]
}