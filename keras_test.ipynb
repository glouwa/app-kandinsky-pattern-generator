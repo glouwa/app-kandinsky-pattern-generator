{
  "nbformat": 4,
  "nbformat_minor": 0,
  "metadata": {
    "colab": {
      "name": "mnist-keras.ipynb",
      "version": "0.3.2",
      "provenance": [],
      "collapsed_sections": [],
      "include_colab_link": true
    },
    "kernelspec": {
      "name": "python3",
      "display_name": "Python 3"
    }
  },
  "cells": [
    {
      "cell_type": "markdown",
      "metadata": {
        "id": "view-in-github",
        "colab_type": "text"
      },
      "source": [
        "<a href=\"https://colab.research.google.com/github/glouwa/app-kandinsky-pattern-generator/blob/master/keras_test.ipynb\" target=\"_parent\"><img src=\"https://colab.research.google.com/assets/colab-badge.svg\" alt=\"Open In Colab\"/></a>"
      ]
    },
    {
      "metadata": {
        "id": "ABL8XE502afC",
        "colab_type": "code",
        "colab": {}
      },
      "cell_type": "code",
      "source": [
        "!rm -rf train\n",
        "!rm -rf test\n",
        "!wget https://github.com/glouwa/app-kandinsky-pattern-generator/raw/master/app-kandinsky-pattern-generator.zip\n",
        "!unzip app-kandinsky-pattern-generator.zip"
      ],
      "execution_count": 0,
      "outputs": []
    },
    {
      "metadata": {
        "id": "K8VbpCbllx5A",
        "colab_type": "code",
        "outputId": "b7ab7ead-41e8-4960-b4e7-908adb66b1df",
        "colab": {
          "base_uri": "https://localhost:8080/",
          "height": 462
        }
      },
      "cell_type": "code",
      "source": [
        "import tensorflow as tf\n",
        "from tensorflow.keras.models import Sequential\n",
        "from tensorflow.keras.layers import Dense, Conv2D, Dropout, Flatten, MaxPooling2D\n",
        "\n",
        "width = 32\n",
        "imgsize = (width, width)\n",
        "input_shape = (width, width, 3)\n",
        "\n",
        "model = Sequential()\n",
        "model.add(Conv2D(32, kernel_size=(3,3), input_shape=input_shape, data_format=\"channels_last\"))#, activation='relu')) #, ))\n",
        "model.add(MaxPooling2D(pool_size=(2, 2)))\n",
        "\n",
        "#model.add(Dropout(0.5))\n",
        "#model.add(Conv2D(8, (16, 16), activation='relu'))\n",
        "#model.add(MaxPooling2D(pool_size=(4, 4)))\n",
        "#model.add(Dropout(0.5))\n",
        "\n",
        "model.add(Flatten()) \n",
        "\n",
        "model.add(Dense(128))#, activation='relu'))\n",
        "model.add(Dropout(0.2))\n",
        "model.add(Dense(2, activation='softmax'))\n",
        "\n",
        "model.compile(optimizer='adam', loss='sparse_categorical_crossentropy', metrics=['accuracy']) #binary_crossentropy, sparse_categorical_crossentropy, categorical_crossentropy\n",
        "#tbCallBack = tf.keras.callbacks.TensorBoard(log_dir='./Graph', histogram_freq=0, write_graph=True write_images=True)\n",
        "\n",
        "model.summary()"
      ],
      "execution_count": 2,
      "outputs": [
        {
          "output_type": "stream",
          "text": [
            "WARNING:tensorflow:From /usr/local/lib/python3.6/dist-packages/tensorflow/python/ops/resource_variable_ops.py:435: colocate_with (from tensorflow.python.framework.ops) is deprecated and will be removed in a future version.\n",
            "Instructions for updating:\n",
            "Colocations handled automatically by placer.\n",
            "WARNING:tensorflow:From /usr/local/lib/python3.6/dist-packages/tensorflow/python/keras/layers/core.py:143: calling dropout (from tensorflow.python.ops.nn_ops) with keep_prob is deprecated and will be removed in a future version.\n",
            "Instructions for updating:\n",
            "Please use `rate` instead of `keep_prob`. Rate should be set to `rate = 1 - keep_prob`.\n",
            "_________________________________________________________________\n",
            "Layer (type)                 Output Shape              Param #   \n",
            "=================================================================\n",
            "conv2d (Conv2D)              (None, 30, 30, 32)        896       \n",
            "_________________________________________________________________\n",
            "max_pooling2d (MaxPooling2D) (None, 15, 15, 32)        0         \n",
            "_________________________________________________________________\n",
            "flatten (Flatten)            (None, 7200)              0         \n",
            "_________________________________________________________________\n",
            "dense (Dense)                (None, 128)               921728    \n",
            "_________________________________________________________________\n",
            "dropout (Dropout)            (None, 128)               0         \n",
            "_________________________________________________________________\n",
            "dense_1 (Dense)              (None, 2)                 258       \n",
            "=================================================================\n",
            "Total params: 922,882\n",
            "Trainable params: 922,882\n",
            "Non-trainable params: 0\n",
            "_________________________________________________________________\n"
          ],
          "name": "stdout"
        }
      ]
    },
    {
      "metadata": {
        "id": "7MIAwGhnN1sg",
        "colab_type": "code",
        "outputId": "b096a423-10d1-4c2f-f211-3753159c9001",
        "colab": {
          "base_uri": "https://localhost:8080/",
          "height": 476
        }
      },
      "cell_type": "code",
      "source": [
        "import tensorflow as tf\n",
        "from tensorflow.keras.models import Sequential\n",
        "from tensorflow.keras.layers import Dense, Conv2D, Dropout, Flatten, MaxPooling2D, Activation\n",
        "\n",
        "width = 200\n",
        "imgsize = (width, width)\n",
        "input_shape = (width, width, 3)\n",
        "\n",
        "model = Sequential()\n",
        "model.add(MaxPooling2D((2, 2), input_shape=input_shape))\n",
        "#model.add(Conv2D(8, (3, 3), activation='relu', input_shape=input_shape))\n",
        "model.add(Conv2D(8, (3, 3)))\n",
        "model.add(Activation('relu'))\n",
        "model.add(MaxPooling2D((2, 2)))\n",
        "model.add(Conv2D(16, (3, 3), activation='relu'))\n",
        "model.add(MaxPooling2D((2, 2)))\n",
        "model.add(Conv2D(32, (3, 3), activation='relu'))\n",
        "model.add(Flatten())\n",
        "model.add(Dense(512, activation='relu'))\n",
        "model.add(Dense(1, activation='sigmoid'))\n",
        "model.compile(loss='binary_crossentropy', optimizer='adam', metrics=['acc'])\n",
        "model.summary()"
      ],
      "execution_count": 3,
      "outputs": [
        {
          "output_type": "stream",
          "text": [
            "_________________________________________________________________\n",
            "Layer (type)                 Output Shape              Param #   \n",
            "=================================================================\n",
            "max_pooling2d_1 (MaxPooling2 (None, 100, 100, 3)       0         \n",
            "_________________________________________________________________\n",
            "conv2d_1 (Conv2D)            (None, 98, 98, 8)         224       \n",
            "_________________________________________________________________\n",
            "activation (Activation)      (None, 98, 98, 8)         0         \n",
            "_________________________________________________________________\n",
            "max_pooling2d_2 (MaxPooling2 (None, 49, 49, 8)         0         \n",
            "_________________________________________________________________\n",
            "conv2d_2 (Conv2D)            (None, 47, 47, 16)        1168      \n",
            "_________________________________________________________________\n",
            "max_pooling2d_3 (MaxPooling2 (None, 23, 23, 16)        0         \n",
            "_________________________________________________________________\n",
            "conv2d_3 (Conv2D)            (None, 21, 21, 32)        4640      \n",
            "_________________________________________________________________\n",
            "flatten_1 (Flatten)          (None, 14112)             0         \n",
            "_________________________________________________________________\n",
            "dense_2 (Dense)              (None, 512)               7225856   \n",
            "_________________________________________________________________\n",
            "dense_3 (Dense)              (None, 1)                 513       \n",
            "=================================================================\n",
            "Total params: 7,232,401\n",
            "Trainable params: 7,232,401\n",
            "Non-trainable params: 0\n",
            "_________________________________________________________________\n"
          ],
          "name": "stdout"
        }
      ]
    },
    {
      "metadata": {
        "id": "4cKcX9ESfOcH",
        "colab_type": "code",
        "outputId": "ed303501-9f85-4ea6-96d6-48b47b70432b",
        "colab": {
          "base_uri": "https://localhost:8080/",
          "height": 435
        }
      },
      "cell_type": "code",
      "source": [
        "from keras.preprocessing.image import ImageDataGenerator\n",
        "from keras.preprocessing.image import array_to_img, img_to_array, load_img\n",
        "\n",
        "idg = ImageDataGenerator(rescale = 1./255)\n",
        "#pattern = \"onered\"\n",
        "#pattern = \"onetriangle\"\n",
        "#pattern = \"twosquares\"\n",
        "#pattern = \"allcolors\"\n",
        "#pattern = \"allshapes\"\n",
        "pattern = \"leftyellow\"\n",
        "#pattern = \"leftsquare\"\n",
        "\n",
        "trainGen = idg.flow_from_directory(\n",
        "   'train/'+pattern,\n",
        "   target_size = imgsize,\n",
        "   batch_size = 64,\n",
        "   color_mode=\"rgb\",\n",
        "   #class_mode = 'categorical',\n",
        "   #class_mode=\"sparse\",\n",
        "   class_mode=\"binary\",   \n",
        ")\n",
        "validateGen = idg.flow_from_directory(\n",
        "   'test/'+pattern,\n",
        "   target_size = imgsize,\n",
        "   batch_size = 64,\n",
        "   color_mode=\"rgb\",\n",
        "   #class_mode = 'categorical',\n",
        "   #class_mode=\"sparse\",\n",
        "   class_mode=\"binary\"\n",
        ")\n",
        "\n",
        "import matplotlib.pyplot as plt\n",
        "x= img_to_array(next(trainGen)[0][0])\n",
        "print(x.shape)\n",
        "plt.imshow(x)\n",
        "\n",
        "x= img_to_array(next(validateGen)[0][0])\n",
        "plt.imshow(x)"
      ],
      "execution_count": 4,
      "outputs": [
        {
          "output_type": "stream",
          "text": [
            "Found 1000 images belonging to 2 classes.\n",
            "Found 200 images belonging to 2 classes.\n"
          ],
          "name": "stdout"
        },
        {
          "output_type": "stream",
          "text": [
            "Using TensorFlow backend.\n"
          ],
          "name": "stderr"
        },
        {
          "output_type": "stream",
          "text": [
            "(200, 200, 3)\n"
          ],
          "name": "stdout"
        },
        {
          "output_type": "execute_result",
          "data": {
            "text/plain": [
              "<matplotlib.image.AxesImage at 0x7fea398d7668>"
            ]
          },
          "metadata": {
            "tags": []
          },
          "execution_count": 4
        },
        {
          "output_type": "display_data",
          "data": {
            "image/png": "[encoded data removed]",
            "text/plain": [
              "<Figure size 576x396 with 1 Axes>"
            ]
          },
          "metadata": {
            "tags": []
          }
        }
      ]
    },
    {
      "metadata": {
        "id": "Ly2DxqbwaEFF",
        "colab_type": "code",
        "outputId": "f8fe2528-a714-4c7b-aa54-e0dc8ae582ae",
        "colab": {
          "base_uri": "https://localhost:8080/",
          "height": 530
        }
      },
      "cell_type": "code",
      "source": [
        "history = model.fit_generator(trainGen, validation_data=validateGen, epochs=15)\n",
        "model.save_weights('first_try.h5')\n",
        "\n",
        "#model.fit(x=x_train,y=y_train, epochs=3, callbacks=[tbCallBack])\n",
        "#model.evaluate(x_test, y_test)"
      ],
      "execution_count": 0,
      "outputs": [
        {
          "output_type": "stream",
          "text": [
            "WARNING:tensorflow:From /usr/local/lib/python3.6/dist-packages/tensorflow/python/ops/math_ops.py:3066: to_int32 (from tensorflow.python.ops.math_ops) is deprecated and will be removed in a future version.\n",
            "Instructions for updating:\n",
            "Use tf.cast instead.\n",
            "Epoch 1/15\n",
            "4/4 [==============================] - 2s 440ms/step - loss: 0.6834 - acc: 0.5250\n",
            "16/16 [==============================] - 12s 778ms/step - loss: 0.9941 - acc: 0.5110 - val_loss: 0.6834 - val_acc: 0.5250\n",
            "Epoch 2/15\n",
            "4/4 [==============================] - 2s 417ms/step - loss: 0.5703 - acc: 0.6700\n",
            "16/16 [==============================] - 12s 724ms/step - loss: 0.6131 - acc: 0.6910 - val_loss: 0.5703 - val_acc: 0.6700\n",
            "Epoch 3/15\n",
            "4/4 [==============================] - 2s 401ms/step - loss: 0.4997 - acc: 0.7250\n",
            "16/16 [==============================] - 12s 727ms/step - loss: 0.4857 - acc: 0.7810 - val_loss: 0.4997 - val_acc: 0.7250\n",
            "Epoch 4/15\n",
            "4/4 [==============================] - 2s 398ms/step - loss: 0.4586 - acc: 0.7850\n",
            "16/16 [==============================] - 12s 727ms/step - loss: 0.3981 - acc: 0.8270 - val_loss: 0.4586 - val_acc: 0.7850\n",
            "Epoch 5/15\n",
            "4/4 [==============================] - 2s 404ms/step - loss: 0.4790 - acc: 0.7850\n",
            "16/16 [==============================] - 12s 727ms/step - loss: 0.3290 - acc: 0.8670 - val_loss: 0.4790 - val_acc: 0.7850\n",
            "Epoch 6/15\n",
            "4/4 [==============================] - 2s 423ms/step - loss: 0.5646 - acc: 0.7550\n",
            "16/16 [==============================] - 12s 727ms/step - loss: 0.2514 - acc: 0.9050 - val_loss: 0.5646 - val_acc: 0.7550\n",
            "Epoch 7/15\n",
            "4/4 [==============================] - 2s 422ms/step - loss: 0.5275 - acc: 0.7600\n",
            "16/16 [==============================] - 12s 721ms/step - loss: 0.1889 - acc: 0.9270 - val_loss: 0.5275 - val_acc: 0.7600\n",
            "Epoch 8/15\n",
            "4/4 [==============================] - 2s 419ms/step - loss: 0.5748 - acc: 0.7800\n",
            "16/16 [==============================] - 12s 729ms/step - loss: 0.1450 - acc: 0.9470 - val_loss: 0.5748 - val_acc: 0.7800\n",
            "Epoch 9/15\n",
            "15/16 [===========================>..] - ETA: 0s - loss: 0.2064 - acc: 0.9071"
          ],
          "name": "stdout"
        }
      ]
    },
    {
      "metadata": {
        "id": "FlElqqX1v1dm",
        "colab_type": "code",
        "colab": {}
      },
      "cell_type": "code",
      "source": [
        "#image_index = 4445\n",
        "#plt.imshow(x_test[image_index].reshape(28, 28),cmap='Greys')\n",
        "#pred = model.predict(x_test[image_index].reshape(1, 28, 28, 1))\n",
        "#print(pred.argmax())\n",
        "\n",
        "import matplotlib.pyplot as plt\n",
        "img = load_img('test/leftyellow/true/000001.png')  # this is a PIL image\n",
        "x= img_to_array(img)/255\n",
        "plt.imshow(x)\n",
        "print(x.shape)"
      ],
      "execution_count": 0,
      "outputs": []
    },
    {
      "metadata": {
        "id": "NE5Vz5EPhaez",
        "colab_type": "code",
        "colab": {}
      },
      "cell_type": "code",
      "source": [
        "def visualize_x(x):\n",
        "    x_batch = np.expand_dims(x, axis=0)\n",
        "    model.predict(x_batch)\n",
        "    x = np.squeeze(x_batch, axis=0)\n",
        "    plt\n",
        "    \n",
        "viszalize_x()"
      ],
      "execution_count": 0,
      "outputs": []
    },
    {
      "metadata": {
        "id": "XnJnQ7EcjnTn",
        "colab_type": "code",
        "colab": {}
      },
      "cell_type": "code",
      "source": [
        "x_batch = np.expand_dims(x, axis=0)\n",
        "conv_x = model.predict(x_batch)\n",
        "print(conv_x.shape)\n",
        "plt.imshow(conv_x)"
      ],
      "execution_count": 0,
      "outputs": []
    },
    {
      "metadata": {
        "id": "NjMpgbMdiu9E",
        "colab_type": "code",
        "colab": {}
      },
      "cell_type": "code",
      "source": [
        "import numpy as np\n",
        "\n",
        "validateGen.reset()\n",
        "pred=model.predict_generator(validateGen,verbose=1)\n",
        "\n",
        "predicted_class_indices=np.argmax(pred,axis=1)\n",
        "\n",
        "labels = (trainGen.class_indices)\n",
        "labels = dict((v,k) for k,v in labels.items())\n",
        "predictions = [labels[k] for k in predicted_class_indices]"
      ],
      "execution_count": 0,
      "outputs": []
    },
    {
      "metadata": {
        "id": "iVFSMLzZCCNW",
        "colab_type": "code",
        "colab": {}
      },
      "cell_type": "code",
      "source": [
        "def plot_conv_weights(model, layer, c):\n",
        "    #W = model.get_layer(name=layer).get_weights()[0]\n",
        "    W = model.layers[layer].get_weights()[0]\n",
        "    if len(W.shape) == 4:\n",
        "        W = np.squeeze(W)\n",
        "        W = W.reshape((W.shape[0], W.shape[1], W.shape[2]*W.shape[3])) \n",
        "        fig, axs = plt.subplots(5,5, figsize=(8,8))\n",
        "        fig.subplots_adjust(hspace = .5, wspace=.001)\n",
        "        axs = axs.ravel()\n",
        "        for i in range(c):\n",
        "            axs[i].imshow(W[:,:,i])\n",
        "            axs[i].set_title(str(i))\n",
        "    \n",
        "plot_conv_weights(model, 1, 24)\n",
        "plot_conv_weights(model, 4, 24)\n",
        "plot_conv_weights(model, 6, 24)"
      ],
      "execution_count": 0,
      "outputs": []
    },
    {
      "metadata": {
        "id": "FikF6PDlVxNo",
        "colab_type": "code",
        "colab": {}
      },
      "cell_type": "code",
      "source": [
        "print(history.history.keys())\n",
        "\n",
        "plt.plot(history.history['acc'])\n",
        "plt.plot(history.history['val_acc'])\n",
        "plt.title('accuracy')\n",
        "plt.ylabel('accuracy')\n",
        "plt.xlabel('epoch')\n",
        "plt.legend(['training', 'validation'], loc='upper left')\n",
        "plt.figure()\n",
        "\n",
        "plt.plot(history.history['loss'])\n",
        "plt.plot(history.history['val_loss'])\n",
        "plt.title('loss')\n",
        "plt.ylabel('loss')\n",
        "plt.xlabel('epoch')\n",
        "plt.legend(['training', 'validation'], loc='upper left')\n",
        "plt.show()"
      ],
      "execution_count": 0,
      "outputs": []
    },
    {
      "metadata": {
        "id": "DjBrz5iTnlW4",
        "colab_type": "code",
        "colab": {}
      },
      "cell_type": "code",
      "source": [
        "labels = (trainGen.class_indices)\n",
        "labels = dict((v,k) for k,v in labels.items())\n",
        "print(labels)"
      ],
      "execution_count": 0,
      "outputs": []
    }
  ]
}