{
  "nbformat": 4,
  "nbformat_minor": 0,
  "metadata": {
    "colab": {
      "name": "Kandinsky.ipynb",
      "version": "0.3.2",
      "provenance": [],
      "collapsed_sections": [],
      "include_colab_link": true
    },
    "kernelspec": {
      "name": "python3",
      "display_name": "Python 3"
    }
  },
  "cells": [
    {
      "cell_type": "markdown",
      "metadata": {
        "id": "view-in-github",
        "colab_type": "text"
      },
      "source": [
        "<a href=\"https://colab.research.google.com/github/glouwa/app-kandinsky-pattern-generator/blob/master/Kandinsky.ipynb\" target=\"_parent\"><img src=\"https://colab.research.google.com/assets/colab-badge.svg\" alt=\"Open In Colab\"/></a>"
      ]
    },
    {
      "cell_type": "code",
      "metadata": {
        "id": "V9k5pVIESgU9",
        "colab_type": "code",
        "colab": {}
      },
      "source": [
        "import pandas as pd\n",
        "from IPython.display import HTML"
      ],
      "execution_count": 0,
      "outputs": []
    },
    {
      "cell_type": "code",
      "metadata": {
        "id": "DJXoWB1NhesY",
        "colab_type": "code",
        "colab": {
          "base_uri": "https://localhost:8080/",
          "height": 141
        },
        "outputId": "9c1ba4cc-3549-45c8-cb86-9a6a20649851"
      },
      "source": [
        "data = pd.DataFrame(columns=[\"NoteBook\", \"Figure Confg\", \"Mode\", \"Concepts\", \"Accuracy\", \"Link\"])\n",
        "data = data.append([\n",
        "    { \"NoteBook\":\"\", \"Figure Confg\":\"circles only\",      \"Mode\":\"Multi Class\", \"Concepts\":\"count red\",                            \"Accuracy\":.996, \"Link\":\"https://colab.research.google.com/drive/180Ad6gf6qAJIdKjEnNjBeyuyAekDdh4P\" }, # original mit anderen data flows\n",
        "    { \"NoteBook\":\"\", \"Figure Confg\":\"circles and stars\", \"Mode\":\"Multi Class\", \"Concepts\":\"count red\",                            \"Accuracy\":.993, \"Link\":\"https://colab.research.google.com/drive/1PrPb6vCPktpukfFBZbpoHWj4lNKDJ0he\" }, # mit FilterPandaSet* TODO!\n",
        "    { \"NoteBook\":\"\", \"Figure Confg\":\"circles and stars\", \"Mode\":\"Multi Class\", \"Concepts\":\"count red star\",                       \"Accuracy\":.973, \"Link\":\"https://colab.research.google.com/drive/1RWhIJgr_FoRfpl9qmRAJMge9w9ByfC6C\" }, # mit FilterPandaSet*           (bissal aufgeräumter)\n",
        "    { \"NoteBook\":\"\", \"Figure Confg\":\"circles only\",      \"Mode\":\"Multi Label\", \"Concepts\":\"count red, count yellow\",              \"Accuracy\":.88,  \"Link\":\"https://colab.research.google.com/github/glouwa/app-kandinsky-pattern-generator/blob/master/kandinsky_multilabel.ipynb#scrollTo=CluOYlEJh9DU\",  },\n",
        "    { \"NoteBook\":\"\", \"Figure Confg\":\"circles and stars\", \"Mode\":\"Multi Label\", \"Concepts\":\"count red, count yellow\",              \"Accuracy\":.9 ,  \"Link\":\"https://colab.research.google.com/drive/1tECNhEVzgs6evSzWj5tbx2kPKsozaydI\" },\n",
        "    { \"NoteBook\":\"\", \"Figure Confg\":\"circles and stars\", \"Mode\":\"Multi Label\", \"Concepts\":\"count red circle, count yellow star\",  \"Accuracy\":.9,   \"Link\":\"https://colab.research.google.com/drive/19QnmNRYE4WVMdNdJHxJ-xY-HUX8xFREL\" }, \n",
        "])\n",
        "\n",
        "#data.style.format({ \"Link\": lambda val: '<a target=\"_blank\" href=\"{}\">{}</a>'.format(val, val) })\n",
        "data.style.format({ \"Link\": lambda val: '<a target=\"_blank\" href=\"{}\">{}</a>'.format(val, val) })"
      ],
      "execution_count": 47,
      "outputs": [
        {
          "output_type": "execute_result",
          "data": {
            "text/html": [
              "<style  type=\"text/css\" >\n",
              "</style><table id=\"T_105cd414_903e_11e9_8424_0242ac1c0002\" ><thead>    <tr>        <th class=\"blank level0\" ></th>        <th class=\"col_heading level0 col0\" >NoteBook</th>        <th class=\"col_heading level0 col1\" >Figure Confg</th>        <th class=\"col_heading level0 col2\" >Mode</th>        <th class=\"col_heading level0 col3\" >Concepts</th>        <th class=\"col_heading level0 col4\" >Accuracy</th>        <th class=\"col_heading level0 col5\" >Link</th>    </tr></thead><tbody>\n",
              "                <tr>\n",
              "                        <th id=\"T_105cd414_903e_11e9_8424_0242ac1c0002level0_row0\" class=\"row_heading level0 row0\" >0</th>\n",
              "                        <td id=\"T_105cd414_903e_11e9_8424_0242ac1c0002row0_col0\" class=\"data row0 col0\" ></td>\n",
              "                        <td id=\"T_105cd414_903e_11e9_8424_0242ac1c0002row0_col1\" class=\"data row0 col1\" >circles only</td>\n",
              "                        <td id=\"T_105cd414_903e_11e9_8424_0242ac1c0002row0_col2\" class=\"data row0 col2\" >Multi Class</td>\n",
              "                        <td id=\"T_105cd414_903e_11e9_8424_0242ac1c0002row0_col3\" class=\"data row0 col3\" >count red</td>\n",
              "                        <td id=\"T_105cd414_903e_11e9_8424_0242ac1c0002row0_col4\" class=\"data row0 col4\" >0.996</td>\n",
              "                        <td id=\"T_105cd414_903e_11e9_8424_0242ac1c0002row0_col5\" class=\"data row0 col5\" ><a target=\"_blank\" href=\"https://colab.research.google.com/drive/180Ad6gf6qAJIdKjEnNjBeyuyAekDdh4P\">https://colab.research.google.com/drive/180Ad6gf6qAJIdKjEnNjBeyuyAekDdh4P</a></td>\n",
              "            </tr>\n",
              "            <tr>\n",
              "                        <th id=\"T_105cd414_903e_11e9_8424_0242ac1c0002level0_row1\" class=\"row_heading level0 row1\" >1</th>\n",
              "                        <td id=\"T_105cd414_903e_11e9_8424_0242ac1c0002row1_col0\" class=\"data row1 col0\" ></td>\n",
              "                        <td id=\"T_105cd414_903e_11e9_8424_0242ac1c0002row1_col1\" class=\"data row1 col1\" >circles and stars</td>\n",
              "                        <td id=\"T_105cd414_903e_11e9_8424_0242ac1c0002row1_col2\" class=\"data row1 col2\" >Multi Class</td>\n",
              "                        <td id=\"T_105cd414_903e_11e9_8424_0242ac1c0002row1_col3\" class=\"data row1 col3\" >count red</td>\n",
              "                        <td id=\"T_105cd414_903e_11e9_8424_0242ac1c0002row1_col4\" class=\"data row1 col4\" >0.993</td>\n",
              "                        <td id=\"T_105cd414_903e_11e9_8424_0242ac1c0002row1_col5\" class=\"data row1 col5\" ><a target=\"_blank\" href=\"https://colab.research.google.com/drive/1PrPb6vCPktpukfFBZbpoHWj4lNKDJ0he\">https://colab.research.google.com/drive/1PrPb6vCPktpukfFBZbpoHWj4lNKDJ0he</a></td>\n",
              "            </tr>\n",
              "            <tr>\n",
              "                        <th id=\"T_105cd414_903e_11e9_8424_0242ac1c0002level0_row2\" class=\"row_heading level0 row2\" >2</th>\n",
              "                        <td id=\"T_105cd414_903e_11e9_8424_0242ac1c0002row2_col0\" class=\"data row2 col0\" ></td>\n",
              "                        <td id=\"T_105cd414_903e_11e9_8424_0242ac1c0002row2_col1\" class=\"data row2 col1\" >circles and stars</td>\n",
              "                        <td id=\"T_105cd414_903e_11e9_8424_0242ac1c0002row2_col2\" class=\"data row2 col2\" >Multi Class</td>\n",
              "                        <td id=\"T_105cd414_903e_11e9_8424_0242ac1c0002row2_col3\" class=\"data row2 col3\" >count red star</td>\n",
              "                        <td id=\"T_105cd414_903e_11e9_8424_0242ac1c0002row2_col4\" class=\"data row2 col4\" >0.973</td>\n",
              "                        <td id=\"T_105cd414_903e_11e9_8424_0242ac1c0002row2_col5\" class=\"data row2 col5\" ><a target=\"_blank\" href=\"https://colab.research.google.com/drive/1RWhIJgr_FoRfpl9qmRAJMge9w9ByfC6C\">https://colab.research.google.com/drive/1RWhIJgr_FoRfpl9qmRAJMge9w9ByfC6C</a></td>\n",
              "            </tr>\n",
              "            <tr>\n",
              "                        <th id=\"T_105cd414_903e_11e9_8424_0242ac1c0002level0_row3\" class=\"row_heading level0 row3\" >3</th>\n",
              "                        <td id=\"T_105cd414_903e_11e9_8424_0242ac1c0002row3_col0\" class=\"data row3 col0\" ></td>\n",
              "                        <td id=\"T_105cd414_903e_11e9_8424_0242ac1c0002row3_col1\" class=\"data row3 col1\" >circles only</td>\n",
              "                        <td id=\"T_105cd414_903e_11e9_8424_0242ac1c0002row3_col2\" class=\"data row3 col2\" >Multi Label</td>\n",
              "                        <td id=\"T_105cd414_903e_11e9_8424_0242ac1c0002row3_col3\" class=\"data row3 col3\" >count red, count yellow</td>\n",
              "                        <td id=\"T_105cd414_903e_11e9_8424_0242ac1c0002row3_col4\" class=\"data row3 col4\" >0.88</td>\n",
              "                        <td id=\"T_105cd414_903e_11e9_8424_0242ac1c0002row3_col5\" class=\"data row3 col5\" ><a target=\"_blank\" href=\"https://colab.research.google.com/github/glouwa/app-kandinsky-pattern-generator/blob/master/kandinsky_multilabel.ipynb#scrollTo=CluOYlEJh9DU\">https://colab.research.google.com/github/glouwa/app-kandinsky-pattern-generator/blob/master/kandinsky_multilabel.ipynb#scrollTo=CluOYlEJh9DU</a></td>\n",
              "            </tr>\n",
              "            <tr>\n",
              "                        <th id=\"T_105cd414_903e_11e9_8424_0242ac1c0002level0_row4\" class=\"row_heading level0 row4\" >4</th>\n",
              "                        <td id=\"T_105cd414_903e_11e9_8424_0242ac1c0002row4_col0\" class=\"data row4 col0\" ></td>\n",
              "                        <td id=\"T_105cd414_903e_11e9_8424_0242ac1c0002row4_col1\" class=\"data row4 col1\" >circles and stars</td>\n",
              "                        <td id=\"T_105cd414_903e_11e9_8424_0242ac1c0002row4_col2\" class=\"data row4 col2\" >Multi Label</td>\n",
              "                        <td id=\"T_105cd414_903e_11e9_8424_0242ac1c0002row4_col3\" class=\"data row4 col3\" >count red, count yellow</td>\n",
              "                        <td id=\"T_105cd414_903e_11e9_8424_0242ac1c0002row4_col4\" class=\"data row4 col4\" >0.9</td>\n",
              "                        <td id=\"T_105cd414_903e_11e9_8424_0242ac1c0002row4_col5\" class=\"data row4 col5\" ><a target=\"_blank\" href=\"https://colab.research.google.com/drive/1tECNhEVzgs6evSzWj5tbx2kPKsozaydI\">https://colab.research.google.com/drive/1tECNhEVzgs6evSzWj5tbx2kPKsozaydI</a></td>\n",
              "            </tr>\n",
              "            <tr>\n",
              "                        <th id=\"T_105cd414_903e_11e9_8424_0242ac1c0002level0_row5\" class=\"row_heading level0 row5\" >5</th>\n",
              "                        <td id=\"T_105cd414_903e_11e9_8424_0242ac1c0002row5_col0\" class=\"data row5 col0\" ></td>\n",
              "                        <td id=\"T_105cd414_903e_11e9_8424_0242ac1c0002row5_col1\" class=\"data row5 col1\" >circles and stars</td>\n",
              "                        <td id=\"T_105cd414_903e_11e9_8424_0242ac1c0002row5_col2\" class=\"data row5 col2\" >Multi Label</td>\n",
              "                        <td id=\"T_105cd414_903e_11e9_8424_0242ac1c0002row5_col3\" class=\"data row5 col3\" >count red circle, count yellow star</td>\n",
              "                        <td id=\"T_105cd414_903e_11e9_8424_0242ac1c0002row5_col4\" class=\"data row5 col4\" >0.9</td>\n",
              "                        <td id=\"T_105cd414_903e_11e9_8424_0242ac1c0002row5_col5\" class=\"data row5 col5\" ><a target=\"_blank\" href=\"https://colab.research.google.com/drive/19QnmNRYE4WVMdNdJHxJ-xY-HUX8xFREL\">https://colab.research.google.com/drive/19QnmNRYE4WVMdNdJHxJ-xY-HUX8xFREL</a></td>\n",
              "            </tr>\n",
              "    </tbody></table>"
            ],
            "text/plain": [
              "<pandas.io.formats.style.Styler at 0x7fd579ad2898>"
            ]
          },
          "metadata": {
            "tags": []
          },
          "execution_count": 47
        }
      ]
    },
    {
      "cell_type": "code",
      "metadata": {
        "id": "xHKQHA3AxEnY",
        "colab_type": "code",
        "colab": {}
      },
      "source": [
        "from google.colab import drive\n",
        "drive.mount('/content/drive')"
      ],
      "execution_count": 0,
      "outputs": []
    },
    {
      "cell_type": "markdown",
      "metadata": {
        "id": "UkT_L_xlaRSU",
        "colab_type": "text"
      },
      "source": [
        "\n",
        "\n",
        "---\n",
        "\n"
      ]
    },
    {
      "cell_type": "code",
      "metadata": {
        "id": "K3Ey_oeEEl6B",
        "colab_type": "code",
        "outputId": "c075422c-e5ba-4077-c3c4-c45712ee56af",
        "colab": {
          "base_uri": "https://localhost:8080/",
          "height": 220
        }
      },
      "source": [
        "# kandinsky multiclass - circles only      - count red.ipynb                     https://colab.research.google.com/drive/180Ad6gf6qAJIdKjEnNjBeyuyAekDdh4P       .996                                           original mit anderen data flows\n",
        "# kandinsky multiclass - circles and stars - count red.ipynb                     https://colab.research.google.com/drive/1PrPb6vCPktpukfFBZbpoHWj4lNKDJ0he       .993                                           mit FilterPandaSet* TODO!\n",
        "# kandinsky multiclass - circles and stars - count red stars.ipynb               https://colab.research.google.com/drive/1RWhIJgr_FoRfpl9qmRAJMge9w9ByfC6C       .973                                           mit FilterPandaSet*           (bissal aufgeräumter)\n",
        "\n",
        "# kandinsky multilabel - circles only      - count red and yellow circles.ipynb  https://colab.research.google.com/drive/1tECNhEVzgs6evSzWj5tbx2kPKsozaydI       .9 but one of 2 koncepts mostly correct        original\n",
        "    \n",
        "\n",
        "# vgg16-count.ipynb:                                                             https://colab.research.google.com/drive/15u03DSg3JiRkg2NhT0K3lgUmhuCSCDhw       1\n",
        "# lstm calculator.ipynb                                                          https://colab.research.google.com/drive/18MQAUV9BQqrk7oIS7vczYSiSEAiLGELI                                                      original\n",
        "  \n",
        "\n",
        "to_a = lambda href: '<a href=\"%s\">rzhfdthg</a>'%href\n",
        "    \n",
        "data = pd.DataFrame(columns=[\"NoteBook\", \"Figure Confg\", \"Mode\", \"Concepts\", \"Accuracy\", \"Link\"])\n",
        "data = data.append([\n",
        "    { \"NoteBook\":\"\", \"Figure Confg\":\"circles only\",      \"Mode\":\"Multi Class\", \"Concepts\":\"count red\",                            \"Accuracy\":.996, \"Link\":\"https://colab.research.google.com/drive/180Ad6gf6qAJIdKjEnNjBeyuyAekDdh4P\" }, # original mit anderen data flows\n",
        "    { \"NoteBook\":\"\", \"Figure Confg\":\"circles and stars\", \"Mode\":\"Multi Class\", \"Concepts\":\"count red\",                            \"Accuracy\":.993, \"Link\":\"https://colab.research.google.com/drive/1PrPb6vCPktpukfFBZbpoHWj4lNKDJ0he\" }, # mit FilterPandaSet* TODO!\n",
        "    { \"NoteBook\":\"\", \"Figure Confg\":\"circles and stars\", \"Mode\":\"Multi Class\", \"Concepts\":\"count red star\",                       \"Accuracy\":.973, \"Link\":\"https://colab.research.google.com/drive/1RWhIJgr_FoRfpl9qmRAJMge9w9ByfC6C\" }, # mit FilterPandaSet*           (bissal aufgeräumter)\n",
        "    { \"NoteBook\":\"\", \"Figure Confg\":\"circles only\",      \"Mode\":\"Multi Label\", \"Concepts\":\"count red, count yellow\",              \"Accuracy\":.88,  \"Link\":\"https://colab.research.google.com/github/glouwa/app-kandinsky-pattern-generator/blob/master/kandinsky_multilabel.ipynb#scrollTo=CluOYlEJh9DU\",  },\n",
        "    { \"NoteBook\":\"\", \"Figure Confg\":\"circles and stars\", \"Mode\":\"Multi Label\", \"Concepts\":\"count red, count yellow\",              \"Accuracy\":.9 ,  \"Link\":\"https://colab.research.google.com/drive/1tECNhEVzgs6evSzWj5tbx2kPKsozaydI\" },\n",
        "    { \"NoteBook\":\"\", \"Figure Confg\":\"circles and stars\", \"Mode\":\"Multi Label\", \"Concepts\":\"count red circle, count yellow star\",  \"Accuracy\":.9,   \"Link\":\"https://colab.research.google.com/drive/19QnmNRYE4WVMdNdJHxJ-xY-HUX8xFREL\" }, \n",
        "])\n",
        "\n",
        "def color_negative_red(val):    \n",
        "    color = 'red' if val > .99 else 'black'\n",
        "    return 'color: %s' % color\n",
        "\n",
        "\n",
        "def highlight_max(s):\n",
        "    '''\n",
        "    highlight the maximum in a Series yellow.\n",
        "    '''\n",
        "    is_max = s == s.max()\n",
        "    return ['background-color: yellow' if v else '' for v in is_max]\n",
        "\n",
        "import seaborn as sns\n",
        "\n",
        "cm = sns.light_palette(\"green\", as_cmap=True)\n",
        "\n",
        "def make_clickable(val):\n",
        "    # target _blank to open new window\n",
        "    return '<a target=\"_blank\" href=\"{sfasdf}\">dasfasdf{}</a>'.format(val, val)\n",
        "\n",
        "def image_formatter(im):\n",
        "    return f'<img src=\"data:image/jpeg;base64,{image_base64(im)}\">'\n",
        "\n",
        "data.style.format({'Link': make_clickable})\n",
        "\n",
        "#data.style.\\\n",
        "#    applymap(color_negative_red, subset=['Accuracy']).\\\n",
        "#    apply(highlight_max, subset=['Accuracy'])\n",
        "\n",
        "#data.style.applymap(color_negative_red, subset=['Accuracy'])\n",
        "#data.style.background_gradient(cmap=cm)\n",
        "\n",
        "\n",
        "#data\n",
        "#data['Link'] = data['Link'].apply(lambda x: '<a href=\"http://example.com/{0}\">link</a>'.format(x))\n",
        "pd.set_option('display.max_colwidth', -1)\n",
        "\n",
        "HTML(data.to_html(escape=False))\n",
        "    "
      ],
      "execution_count": 26,
      "outputs": [
        {
          "output_type": "execute_result",
          "data": {
            "text/html": [
              "<table border=\"1\" class=\"dataframe\">\n",
              "  <thead>\n",
              "    <tr style=\"text-align: right;\">\n",
              "      <th></th>\n",
              "      <th>NoteBook</th>\n",
              "      <th>Figure Confg</th>\n",
              "      <th>Mode</th>\n",
              "      <th>Concepts</th>\n",
              "      <th>Accuracy</th>\n",
              "      <th>Link</th>\n",
              "    </tr>\n",
              "  </thead>\n",
              "  <tbody>\n",
              "    <tr>\n",
              "      <th>0</th>\n",
              "      <td></td>\n",
              "      <td>circles only</td>\n",
              "      <td>Multi Class</td>\n",
              "      <td>count red</td>\n",
              "      <td>0.996</td>\n",
              "      <td>https://colab.research.google.com/drive/180Ad6gf6qAJIdKjEnNjBeyuyAekDdh4P</td>\n",
              "    </tr>\n",
              "    <tr>\n",
              "      <th>1</th>\n",
              "      <td></td>\n",
              "      <td>circles and stars</td>\n",
              "      <td>Multi Class</td>\n",
              "      <td>count red</td>\n",
              "      <td>0.993</td>\n",
              "      <td>https://colab.research.google.com/drive/1PrPb6vCPktpukfFBZbpoHWj4lNKDJ0he</td>\n",
              "    </tr>\n",
              "    <tr>\n",
              "      <th>2</th>\n",
              "      <td></td>\n",
              "      <td>circles and stars</td>\n",
              "      <td>Multi Class</td>\n",
              "      <td>count red star</td>\n",
              "      <td>0.973</td>\n",
              "      <td>https://colab.research.google.com/drive/1RWhIJgr_FoRfpl9qmRAJMge9w9ByfC6C</td>\n",
              "    </tr>\n",
              "    <tr>\n",
              "      <th>3</th>\n",
              "      <td></td>\n",
              "      <td>circles only</td>\n",
              "      <td>Multi Label</td>\n",
              "      <td>count red, count yellow</td>\n",
              "      <td>0.880</td>\n",
              "      <td>https://colab.research.google.com/github/glouwa/app-kandinsky-pattern-generator/blob/master/kandinsky_multilabel.ipynb#scrollTo=CluOYlEJh9DU</td>\n",
              "    </tr>\n",
              "    <tr>\n",
              "      <th>4</th>\n",
              "      <td></td>\n",
              "      <td>circles and stars</td>\n",
              "      <td>Multi Label</td>\n",
              "      <td>count red, count yellow</td>\n",
              "      <td>0.900</td>\n",
              "      <td>https://colab.research.google.com/drive/1tECNhEVzgs6evSzWj5tbx2kPKsozaydI</td>\n",
              "    </tr>\n",
              "    <tr>\n",
              "      <th>5</th>\n",
              "      <td></td>\n",
              "      <td>circles and stars</td>\n",
              "      <td>Multi Label</td>\n",
              "      <td>count red circle, count yellow star</td>\n",
              "      <td>0.900</td>\n",
              "      <td>https://colab.research.google.com/drive/19QnmNRYE4WVMdNdJHxJ-xY-HUX8xFREL</td>\n",
              "    </tr>\n",
              "  </tbody>\n",
              "</table>"
            ],
            "text/plain": [
              "<IPython.core.display.HTML object>"
            ]
          },
          "metadata": {
            "tags": []
          },
          "execution_count": 26
        }
      ]
    },
    {
      "cell_type": "code",
      "metadata": {
        "id": "kLlRwU_exL84",
        "colab_type": "code",
        "colab": {}
      },
      "source": [
        "!ls \"drive/My Drive/colab/kandinsky\" -l"
      ],
      "execution_count": 0,
      "outputs": []
    }
  ]
}