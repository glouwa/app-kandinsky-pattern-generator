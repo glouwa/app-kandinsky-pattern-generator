{
  "nbformat": 4,
  "nbformat_minor": 0,
  "metadata": {
    "colab": {
      "name": "vgg16-count.ipynb",
      "version": "0.3.2",
      "provenance": [],
      "collapsed_sections": [],
      "include_colab_link": true
    },
    "kernelspec": {
      "name": "python3",
      "display_name": "Python 3"
    },
    "accelerator": "GPU"
  },
  "cells": [
    {
      "cell_type": "markdown",
      "metadata": {
        "id": "view-in-github",
        "colab_type": "text"
      },
      "source": [
        "<a href=\"https://colab.research.google.com/github/glouwa/app-kandinsky-pattern-generator/blob/master/vgg16_count.ipynb\" target=\"_parent\"><img src=\"https://colab.research.google.com/assets/colab-badge.svg\" alt=\"Open In Colab\"/></a>"
      ]
    },
    {
      "cell_type": "code",
      "metadata": {
        "id": "MCFcuG1GMBMq",
        "colab_type": "code",
        "colab": {}
      },
      "source": [
        "%matplotlib inline\n",
        "import matplotlib.pyplot as plt\n",
        "import PIL\n",
        "import tensorflow as tf\n",
        "import numpy as np\n",
        "import os"
      ],
      "execution_count": 0,
      "outputs": []
    },
    {
      "cell_type": "code",
      "metadata": {
        "id": "YapnuMkuNBdP",
        "colab_type": "code",
        "colab": {}
      },
      "source": [
        "from tensorflow.python.keras.models import Model, Sequential\n",
        "from tensorflow.python.keras.layers import Dense, Flatten, Dropout\n",
        "from tensorflow.python.keras.applications import VGG16\n",
        "from tensorflow.python.keras.applications.vgg16 import preprocess_input, decode_predictions\n",
        "from tensorflow.python.keras.preprocessing.image import ImageDataGenerator\n",
        "from tensorflow.python.keras.optimizers import Adam, RMSprop"
      ],
      "execution_count": 0,
      "outputs": []
    },
    {
      "cell_type": "code",
      "metadata": {
        "id": "w0eLC3dINKd1",
        "colab_type": "code",
        "outputId": "1a9e1e39-bba0-4f4c-c09e-7efd70487811",
        "colab": {
          "base_uri": "https://localhost:8080/",
          "height": 1317
        }
      },
      "source": [
        "!wget https://github.com/Hvass-Labs/TensorFlow-Tutorials/raw/master/cache.py\n",
        "!wget https://github.com/Hvass-Labs/TensorFlow-Tutorials/raw/master/dataset.py\n",
        "!wget https://github.com/Hvass-Labs/TensorFlow-Tutorials/raw/master/download.py\n",
        "!wget https://github.com/glouwa/app-kandinsky-pattern-generator/raw/master/src/kandinsky.py\n",
        "!wget https://github.com/Hvass-Labs/TensorFlow-Tutorials/raw/master/images/parrot_cropped1.jpg"
      ],
      "execution_count": 0,
      "outputs": [
        {
          "output_type": "stream",
          "text": [
            "--2019-05-26 10:48:53--  https://github.com/Hvass-Labs/TensorFlow-Tutorials/raw/master/cache.py\n",
            "Resolving github.com (github.com)... 192.30.253.113\n",
            "Connecting to github.com (github.com)|192.30.253.113|:443... connected.\n",
            "HTTP request sent, awaiting response... 302 Found\n",
            "Location: https://raw.githubusercontent.com/Hvass-Labs/TensorFlow-Tutorials/master/cache.py [following]\n",
            "--2019-05-26 10:48:54--  https://raw.githubusercontent.com/Hvass-Labs/TensorFlow-Tutorials/master/cache.py\n",
            "Resolving raw.githubusercontent.com (raw.githubusercontent.com)... 151.101.0.133, 151.101.64.133, 151.101.128.133, ...\n",
            "Connecting to raw.githubusercontent.com (raw.githubusercontent.com)|151.101.0.133|:443... connected.\n",
            "HTTP request sent, awaiting response... 200 OK\n",
            "Length: 4764 (4.7K) [text/plain]\n",
            "Saving to: ‘cache.py’\n",
            "\n",
            "\rcache.py              0%[                    ]       0  --.-KB/s               \rcache.py            100%[===================>]   4.65K  --.-KB/s    in 0s      \n",
            "\n",
            "2019-05-26 10:48:54 (38.6 MB/s) - ‘cache.py’ saved [4764/4764]\n",
            "\n",
            "--2019-05-26 10:48:58--  https://github.com/Hvass-Labs/TensorFlow-Tutorials/raw/master/dataset.py\n",
            "Resolving github.com (github.com)... 192.30.253.113\n",
            "Connecting to github.com (github.com)|192.30.253.113|:443... connected.\n",
            "HTTP request sent, awaiting response... 302 Found\n",
            "Location: https://raw.githubusercontent.com/Hvass-Labs/TensorFlow-Tutorials/master/dataset.py [following]\n",
            "--2019-05-26 10:48:59--  https://raw.githubusercontent.com/Hvass-Labs/TensorFlow-Tutorials/master/dataset.py\n",
            "Resolving raw.githubusercontent.com (raw.githubusercontent.com)... 151.101.0.133, 151.101.64.133, 151.101.128.133, ...\n",
            "Connecting to raw.githubusercontent.com (raw.githubusercontent.com)|151.101.0.133|:443... connected.\n",
            "HTTP request sent, awaiting response... 200 OK\n",
            "Length: 12156 (12K) [text/plain]\n",
            "Saving to: ‘dataset.py’\n",
            "\n",
            "dataset.py          100%[===================>]  11.87K  --.-KB/s    in 0s      \n",
            "\n",
            "2019-05-26 10:48:59 (110 MB/s) - ‘dataset.py’ saved [12156/12156]\n",
            "\n",
            "--2019-05-26 10:49:02--  https://github.com/Hvass-Labs/TensorFlow-Tutorials/raw/master/download.py\n",
            "Resolving github.com (github.com)... 192.30.253.113\n",
            "Connecting to github.com (github.com)|192.30.253.113|:443... connected.\n",
            "HTTP request sent, awaiting response... 302 Found\n",
            "Location: https://raw.githubusercontent.com/Hvass-Labs/TensorFlow-Tutorials/master/download.py [following]\n",
            "--2019-05-26 10:49:03--  https://raw.githubusercontent.com/Hvass-Labs/TensorFlow-Tutorials/master/download.py\n",
            "Resolving raw.githubusercontent.com (raw.githubusercontent.com)... 151.101.0.133, 151.101.64.133, 151.101.128.133, ...\n",
            "Connecting to raw.githubusercontent.com (raw.githubusercontent.com)|151.101.0.133|:443... connected.\n",
            "HTTP request sent, awaiting response... 200 OK\n",
            "Length: 4353 (4.3K) [text/plain]\n",
            "Saving to: ‘download.py’\n",
            "\n",
            "download.py         100%[===================>]   4.25K  --.-KB/s    in 0s      \n",
            "\n",
            "2019-05-26 10:49:03 (92.6 MB/s) - ‘download.py’ saved [4353/4353]\n",
            "\n",
            "--2019-05-26 10:49:06--  https://github.com/glouwa/app-kandinsky-pattern-generator/raw/master/src/kandinsky.py\n",
            "Resolving github.com (github.com)... 192.30.253.113\n",
            "Connecting to github.com (github.com)|192.30.253.113|:443... connected.\n",
            "HTTP request sent, awaiting response... 302 Found\n",
            "Location: https://raw.githubusercontent.com/glouwa/app-kandinsky-pattern-generator/master/src/kandinsky.py [following]\n",
            "--2019-05-26 10:49:06--  https://raw.githubusercontent.com/glouwa/app-kandinsky-pattern-generator/master/src/kandinsky.py\n",
            "Resolving raw.githubusercontent.com (raw.githubusercontent.com)... 151.101.0.133, 151.101.64.133, 151.101.128.133, ...\n",
            "Connecting to raw.githubusercontent.com (raw.githubusercontent.com)|151.101.0.133|:443... connected.\n",
            "HTTP request sent, awaiting response... 200 OK\n",
            "Length: 5579 (5.4K) [text/plain]\n",
            "Saving to: ‘kandinsky.py’\n",
            "\n",
            "kandinsky.py        100%[===================>]   5.45K  --.-KB/s    in 0s      \n",
            "\n",
            "2019-05-26 10:49:07 (66.7 MB/s) - ‘kandinsky.py’ saved [5579/5579]\n",
            "\n",
            "--2019-05-26 10:49:10--  https://github.com/Hvass-Labs/TensorFlow-Tutorials/raw/master/images/parrot_cropped1.jpg\n",
            "Resolving github.com (github.com)... 192.30.253.113\n",
            "Connecting to github.com (github.com)|192.30.253.113|:443... connected.\n",
            "HTTP request sent, awaiting response... 302 Found\n",
            "Location: https://raw.githubusercontent.com/Hvass-Labs/TensorFlow-Tutorials/master/images/parrot_cropped1.jpg [following]\n",
            "--2019-05-26 10:49:11--  https://raw.githubusercontent.com/Hvass-Labs/TensorFlow-Tutorials/master/images/parrot_cropped1.jpg\n",
            "Resolving raw.githubusercontent.com (raw.githubusercontent.com)... 151.101.0.133, 151.101.64.133, 151.101.128.133, ...\n",
            "Connecting to raw.githubusercontent.com (raw.githubusercontent.com)|151.101.0.133|:443... connected.\n",
            "HTTP request sent, awaiting response... 200 OK\n",
            "Length: 37085 (36K) [image/jpeg]\n",
            "Saving to: ‘parrot_cropped1.jpg’\n",
            "\n",
            "parrot_cropped1.jpg 100%[===================>]  36.22K  --.-KB/s    in 0.01s   \n",
            "\n",
            "2019-05-26 10:49:11 (2.94 MB/s) - ‘parrot_cropped1.jpg’ saved [37085/37085]\n",
            "\n"
          ],
          "name": "stdout"
        }
      ]
    },
    {
      "cell_type": "code",
      "metadata": {
        "id": "qPGErCUiWH9G",
        "colab_type": "code",
        "colab": {}
      },
      "source": [
        "import kandinsky"
      ],
      "execution_count": 0,
      "outputs": []
    },
    {
      "cell_type": "code",
      "metadata": {
        "id": "p5k-n16QQveb",
        "colab_type": "code",
        "colab": {}
      },
      "source": [
        "def path_join(dirname, filenames):\n",
        "    return [os.path.join(dirname, filename) for filename in filenames]"
      ],
      "execution_count": 0,
      "outputs": []
    },
    {
      "cell_type": "code",
      "metadata": {
        "id": "tqAz8YA1R1dO",
        "colab_type": "code",
        "colab": {}
      },
      "source": [
        "def plot_images(images, cls_true, cls_pred=None, smooth=True):\n",
        "\n",
        "    assert len(images) == len(cls_true)\n",
        "\n",
        "    # Create figure with sub-plots.\n",
        "    fig, axes = plt.subplots(3, 3)\n",
        "\n",
        "    # Adjust vertical spacing.\n",
        "    if cls_pred is None:\n",
        "        hspace = 0.3\n",
        "    else:\n",
        "        hspace = 0.6\n",
        "    fig.subplots_adjust(hspace=hspace, wspace=0.3)\n",
        "\n",
        "    # Interpolation type.\n",
        "    if smooth:\n",
        "        interpolation = 'spline16'\n",
        "    else:\n",
        "        interpolation = 'nearest'\n",
        "\n",
        "    for i, ax in enumerate(axes.flat):\n",
        "        # There may be less than 9 images, ensure it doesn't crash.\n",
        "        if i < len(images):\n",
        "            # Plot image.\n",
        "            ax.imshow(images[i],\n",
        "                      interpolation=interpolation)\n",
        "\n",
        "            # Name of the true class.\n",
        "            cls_true_name = class_names[cls_true[i]]\n",
        "\n",
        "            # Show true and predicted classes.\n",
        "            if cls_pred is None:\n",
        "                xlabel = \"True: {0}\".format(cls_true_name)\n",
        "            else:\n",
        "                # Name of the predicted class.\n",
        "                cls_pred_name = class_names[cls_pred[i]]\n",
        "\n",
        "                xlabel = \"True: {0}\\nPred: {1}\".format(cls_true_name, cls_pred_name)\n",
        "\n",
        "            # Show the classes as the label on the x-axis.\n",
        "            ax.set_xlabel(xlabel)\n",
        "        \n",
        "        # Remove ticks from the plot.\n",
        "        ax.set_xticks([])\n",
        "        ax.set_yticks([])\n",
        "    \n",
        "    # Ensure the plot is shown correctly with multiple plots\n",
        "    # in a single Notebook cell.\n",
        "    plt.show()"
      ],
      "execution_count": 0,
      "outputs": []
    },
    {
      "cell_type": "code",
      "metadata": {
        "id": "tVQ6NycFR4A0",
        "colab_type": "code",
        "colab": {}
      },
      "source": [
        "# Import a function from sklearn to calculate the confusion-matrix.\n",
        "from sklearn.metrics import confusion_matrix\n",
        "\n",
        "def print_confusion_matrix(cls_pred):\n",
        "    # cls_pred is an array of the predicted class-number for\n",
        "    # all images in the test-set.\n",
        "\n",
        "    # Get the confusion matrix using sklearn.\n",
        "    cm = confusion_matrix(y_true=cls_test,  # True class for test-set.\n",
        "                          y_pred=cls_pred)  # Predicted class.\n",
        "\n",
        "    print(\"Confusion matrix:\")\n",
        "    \n",
        "    # Print the confusion matrix as text.\n",
        "    print(cm)\n",
        "    \n",
        "    # Print the class-names for easy reference.\n",
        "    for i, class_name in enumerate(class_names):\n",
        "        print(\"({0}) {1}\".format(i, class_name))"
      ],
      "execution_count": 0,
      "outputs": []
    },
    {
      "cell_type": "code",
      "metadata": {
        "id": "5j5A-3TBR66d",
        "colab_type": "code",
        "colab": {}
      },
      "source": [
        "def plot_example_errors(cls_pred):\n",
        "    # cls_pred is an array of the predicted class-number for\n",
        "    # all images in the test-set.\n",
        "\n",
        "    # Boolean array whether the predicted class is incorrect.\n",
        "    incorrect = (cls_pred != cls_test)\n",
        "\n",
        "    # Get the file-paths for images that were incorrectly classified.\n",
        "    image_paths = np.array(image_paths_test)[incorrect]\n",
        "\n",
        "    # Load the first 9 images.\n",
        "    images = load_images(image_paths=image_paths[0:9])\n",
        "    \n",
        "    # Get the predicted classes for those images.\n",
        "    cls_pred = cls_pred[incorrect]\n",
        "\n",
        "    # Get the true classes for those images.\n",
        "    cls_true = cls_test[incorrect]\n",
        "    \n",
        "    # Plot the 9 images we have loaded and their corresponding classes.\n",
        "    # We have only loaded 9 images so there is no need to slice those again.\n",
        "    plot_images(images=images,\n",
        "                cls_true=cls_true[0:9],\n",
        "                cls_pred=cls_pred[0:9])"
      ],
      "execution_count": 0,
      "outputs": []
    },
    {
      "cell_type": "code",
      "metadata": {
        "id": "f9ky2KS8R9c9",
        "colab_type": "code",
        "colab": {}
      },
      "source": [
        "def example_errors():\n",
        "    # The Keras data-generator for the test-set must be reset\n",
        "    # before processing. This is because the generator will loop\n",
        "    # infinitely and keep an internal index into the dataset.\n",
        "    # So it might start in the middle of the test-set if we do\n",
        "    # not reset it first. This makes it impossible to match the\n",
        "    # predicted classes with the input images.\n",
        "    # If we reset the generator, then it always starts at the\n",
        "    # beginning so we know exactly which input-images were used.\n",
        "    generator_test.reset()\n",
        "    \n",
        "    # Predict the classes for all images in the test-set.\n",
        "    y_pred = new_model.predict_generator(generator_test,\n",
        "                                         steps=steps_test)\n",
        "\n",
        "    # Convert the predicted classes from arrays to integers.\n",
        "    cls_pred = np.argmax(y_pred,axis=1)\n",
        "\n",
        "    # Plot examples of mis-classified images.\n",
        "    plot_example_errors(cls_pred)\n",
        "    \n",
        "    # Print the confusion matrix.\n",
        "    print_confusion_matrix(cls_pred)"
      ],
      "execution_count": 0,
      "outputs": []
    },
    {
      "cell_type": "code",
      "metadata": {
        "id": "jB9oPc0NSATO",
        "colab_type": "code",
        "colab": {}
      },
      "source": [
        "def load_images(image_paths):\n",
        "    # Load the images from disk.\n",
        "    images = [plt.imread(path) for path in image_paths]\n",
        "\n",
        "    # Convert to a numpy array and return it.\n",
        "    return np.asarray(images)"
      ],
      "execution_count": 0,
      "outputs": []
    },
    {
      "cell_type": "code",
      "metadata": {
        "id": "QzPpJ4-8SDCk",
        "colab_type": "code",
        "colab": {}
      },
      "source": [
        "def plot_training_history(history):\n",
        "    # Get the classification accuracy and loss-value\n",
        "    # for the training-set.\n",
        "    acc = history.history['categorical_accuracy']\n",
        "    loss = history.history['loss']\n",
        "\n",
        "    # Get it for the validation-set (we only use the test-set).\n",
        "    val_acc = history.history['val_categorical_accuracy']\n",
        "    val_loss = history.history['val_loss']\n",
        "\n",
        "    # Plot the accuracy and loss-values for the training-set.\n",
        "    plt.plot(acc, linestyle='-', color='b', label='Training Acc.')\n",
        "    plt.plot(loss, 'o', color='b', label='Training Loss')\n",
        "    \n",
        "    # Plot it for the test-set.\n",
        "    plt.plot(val_acc, linestyle='--', color='r', label='Test Acc.')\n",
        "    plt.plot(val_loss, 'o', color='r', label='Test Loss')\n",
        "\n",
        "    # Plot title and legend.\n",
        "    plt.title('Training and Test Accuracy')\n",
        "    plt.legend()\n",
        "\n",
        "    # Ensure the plot shows correctly.\n",
        "    plt.show()"
      ],
      "execution_count": 0,
      "outputs": []
    },
    {
      "cell_type": "code",
      "metadata": {
        "id": "s450bv5gP9Wi",
        "colab_type": "code",
        "outputId": "bbb7749b-bb8f-4243-866b-269b7ae9ea25",
        "colab": {
          "base_uri": "https://localhost:8080/",
          "height": 66
        }
      },
      "source": [
        "kandinsky.maybe_download_and_extract()"
      ],
      "execution_count": 0,
      "outputs": [
        {
          "output_type": "stream",
          "text": [
            "- Download progress: 100.0%\n",
            "Download finished. Extracting files.\n",
            "Done.\n"
          ],
          "name": "stdout"
        }
      ]
    },
    {
      "cell_type": "code",
      "metadata": {
        "id": "4Q5c8wttQAIr",
        "colab_type": "code",
        "outputId": "6c4a9e7c-e287-4087-89bc-f3a6883bbfee",
        "colab": {
          "base_uri": "https://localhost:8080/",
          "height": 82
        }
      },
      "source": [
        "kandinsky.copy_files()"
      ],
      "execution_count": 0,
      "outputs": [
        {
          "output_type": "stream",
          "text": [
            "Creating dataset from the files in: data/kandinsky/\n",
            "- Data saved to cache-file: data/kandinsky/kandinsky.pkl\n",
            "- Copied training-set to: data/kandinsky/train/\n",
            "- Copied test-set to: data/kandinsky/test/\n"
          ],
          "name": "stdout"
        }
      ]
    },
    {
      "cell_type": "code",
      "metadata": {
        "id": "6mftlHB1QDAK",
        "colab_type": "code",
        "colab": {}
      },
      "source": [
        "train_dir = kandinsky.train_dir\n",
        "test_dir = kandinsky.test_dir"
      ],
      "execution_count": 0,
      "outputs": []
    },
    {
      "cell_type": "code",
      "metadata": {
        "id": "DJjiy21TQFZS",
        "colab_type": "code",
        "outputId": "606c2254-0744-41e4-b746-0d92aee42dce",
        "colab": {
          "base_uri": "https://localhost:8080/",
          "height": 98
        }
      },
      "source": [
        "model = VGG16(include_top=True, weights='imagenet')"
      ],
      "execution_count": 0,
      "outputs": [
        {
          "output_type": "stream",
          "text": [
            "WARNING:tensorflow:From /usr/local/lib/python3.6/dist-packages/tensorflow/python/ops/resource_variable_ops.py:435: colocate_with (from tensorflow.python.framework.ops) is deprecated and will be removed in a future version.\n",
            "Instructions for updating:\n",
            "Colocations handled automatically by placer.\n",
            "Downloading data from https://github.com/fchollet/deep-learning-models/releases/download/v0.1/vgg16_weights_tf_dim_ordering_tf_kernels.h5\n",
            "553467904/553467096 [==============================] - 39s 0us/step\n"
          ],
          "name": "stdout"
        }
      ]
    },
    {
      "cell_type": "code",
      "metadata": {
        "id": "5N2vMcYEQKzS",
        "colab_type": "code",
        "outputId": "c6d54b7d-3ff9-46b2-f7db-70409a478291",
        "colab": {
          "base_uri": "https://localhost:8080/",
          "height": 33
        }
      },
      "source": [
        "input_shape = model.layers[0].output_shape[1:3]\n",
        "input_shape"
      ],
      "execution_count": 0,
      "outputs": [
        {
          "output_type": "execute_result",
          "data": {
            "text/plain": [
              "(224, 224)"
            ]
          },
          "metadata": {
            "tags": []
          },
          "execution_count": 16
        }
      ]
    },
    {
      "cell_type": "code",
      "metadata": {
        "id": "maQgBI14QOSq",
        "colab_type": "code",
        "colab": {}
      },
      "source": [
        "datagen_train = ImageDataGenerator(\n",
        "      rescale=1./255,\n",
        "      rotation_range=180,\n",
        "      width_shift_range=0.1,\n",
        "      height_shift_range=0.1,\n",
        "      shear_range=0.1,\n",
        "      zoom_range=[0.9, 1.5],\n",
        "      horizontal_flip=True,\n",
        "      vertical_flip=True,\n",
        "      fill_mode='nearest')"
      ],
      "execution_count": 0,
      "outputs": []
    },
    {
      "cell_type": "code",
      "metadata": {
        "id": "QFl1DHm4QRZ7",
        "colab_type": "code",
        "colab": {}
      },
      "source": [
        "datagen_test = ImageDataGenerator(rescale=1./255)"
      ],
      "execution_count": 0,
      "outputs": []
    },
    {
      "cell_type": "code",
      "metadata": {
        "id": "zDLXc5DTQTjC",
        "colab_type": "code",
        "colab": {}
      },
      "source": [
        "batch_size = 20\n",
        "if True:\n",
        "    save_to_dir = None\n",
        "else:\n",
        "    save_to_dir='augmented_images/'"
      ],
      "execution_count": 0,
      "outputs": []
    },
    {
      "cell_type": "code",
      "metadata": {
        "id": "DBuvdH41QWeL",
        "colab_type": "code",
        "outputId": "528f7886-533e-4970-8de3-0c8c47e409b2",
        "colab": {
          "base_uri": "https://localhost:8080/",
          "height": 33
        }
      },
      "source": [
        "generator_train = datagen_train.flow_from_directory(directory=train_dir,\n",
        "                                                    target_size=input_shape,\n",
        "                                                    batch_size=batch_size,\n",
        "                                                    shuffle=True,\n",
        "                                                    save_to_dir=save_to_dir)"
      ],
      "execution_count": 0,
      "outputs": [
        {
          "output_type": "stream",
          "text": [
            "Found 12000 images belonging to 6 classes.\n"
          ],
          "name": "stdout"
        }
      ]
    },
    {
      "cell_type": "code",
      "metadata": {
        "id": "PXc3HAZBQcBz",
        "colab_type": "code",
        "outputId": "bcad9a62-fdbc-4643-b42b-2adcd4645c3a",
        "colab": {
          "base_uri": "https://localhost:8080/",
          "height": 33
        }
      },
      "source": [
        "generator_test = datagen_test.flow_from_directory(directory=test_dir,\n",
        "                                                  target_size=input_shape,\n",
        "                                                  batch_size=batch_size,\n",
        "                                                  shuffle=False)"
      ],
      "execution_count": 0,
      "outputs": [
        {
          "output_type": "stream",
          "text": [
            "Found 1200 images belonging to 6 classes.\n"
          ],
          "name": "stdout"
        }
      ]
    },
    {
      "cell_type": "code",
      "metadata": {
        "id": "eRill4eaQmR1",
        "colab_type": "code",
        "outputId": "b4cb781b-8826-4c7b-fe97-acaf9fd596a5",
        "colab": {
          "base_uri": "https://localhost:8080/",
          "height": 33
        }
      },
      "source": [
        "steps_test = generator_test.n / batch_size\n",
        "steps_test"
      ],
      "execution_count": 0,
      "outputs": [
        {
          "output_type": "execute_result",
          "data": {
            "text/plain": [
              "60.0"
            ]
          },
          "metadata": {
            "tags": []
          },
          "execution_count": 22
        }
      ]
    },
    {
      "cell_type": "code",
      "metadata": {
        "id": "gxowgKlVQolb",
        "colab_type": "code",
        "colab": {}
      },
      "source": [
        "image_paths_train = path_join(train_dir, generator_train.filenames)\n",
        "image_paths_test = path_join(test_dir, generator_test.filenames)"
      ],
      "execution_count": 0,
      "outputs": []
    },
    {
      "cell_type": "code",
      "metadata": {
        "id": "T7yQwfkXQqvD",
        "colab_type": "code",
        "colab": {}
      },
      "source": [
        "cls_train = generator_train.classes\n",
        "cls_test = generator_test.classes"
      ],
      "execution_count": 0,
      "outputs": []
    },
    {
      "cell_type": "code",
      "metadata": {
        "id": "HQoEZ0b3Q4Qm",
        "colab_type": "code",
        "outputId": "420f928e-6371-4621-db85-544c7f3d2068",
        "colab": {
          "base_uri": "https://localhost:8080/",
          "height": 33
        }
      },
      "source": [
        "class_names = list(generator_train.class_indices.keys())\n",
        "class_names"
      ],
      "execution_count": 0,
      "outputs": [
        {
          "output_type": "execute_result",
          "data": {
            "text/plain": [
              "['A', 'B', 'C', 'D', 'E', 'F']"
            ]
          },
          "metadata": {
            "tags": []
          },
          "execution_count": 25
        }
      ]
    },
    {
      "cell_type": "code",
      "metadata": {
        "id": "1lJfWiUFQ5vU",
        "colab_type": "code",
        "outputId": "964f6b1d-5432-4e22-e5fd-854a72583bd8",
        "colab": {
          "base_uri": "https://localhost:8080/",
          "height": 33
        }
      },
      "source": [
        "num_classes = generator_train.num_classes\n",
        "num_classes"
      ],
      "execution_count": 0,
      "outputs": [
        {
          "output_type": "execute_result",
          "data": {
            "text/plain": [
              "6"
            ]
          },
          "metadata": {
            "tags": []
          },
          "execution_count": 26
        }
      ]
    },
    {
      "cell_type": "code",
      "metadata": {
        "id": "cUQPZJb4Q8Pl",
        "colab_type": "code",
        "outputId": "f6b9602b-7655-45de-fd9e-20d8eccc193d",
        "colab": {
          "base_uri": "https://localhost:8080/",
          "height": 266
        }
      },
      "source": [
        "# Load the first images from the train-set.\n",
        "images = load_images(image_paths=image_paths_train[0:9])\n",
        "\n",
        "# Get the true classes for those images.\n",
        "cls_true = cls_train[0:9]\n",
        "\n",
        "# Plot the images and labels using our helper-function above.\n",
        "plot_images(images=images, cls_true=cls_true, smooth=True)"
      ],
      "execution_count": 0,
      "outputs": [
        {
          "output_type": "display_data",
          "data": {
            "image/png": "[encoded data removed]",
            "text/plain": [
              "<Figure size 432x288 with 9 Axes>"
            ]
          },
          "metadata": {
            "tags": []
          }
        }
      ]
    },
    {
      "cell_type": "code",
      "metadata": {
        "id": "m3DBFc6LSG_V",
        "colab_type": "code",
        "outputId": "a2ff5653-c9fd-44b5-95a5-3c861085550a",
        "colab": {
          "base_uri": "https://localhost:8080/",
          "height": 33
        }
      },
      "source": [
        "from sklearn.utils.class_weight import compute_class_weight\n",
        "class_weight = compute_class_weight(class_weight='balanced',\n",
        "                                    classes=np.unique(cls_train),\n",
        "                                    y=cls_train)\n",
        "class_weight"
      ],
      "execution_count": 0,
      "outputs": [
        {
          "output_type": "execute_result",
          "data": {
            "text/plain": [
              "array([1., 1., 1., 1., 1., 1.])"
            ]
          },
          "metadata": {
            "tags": []
          },
          "execution_count": 28
        }
      ]
    },
    {
      "cell_type": "code",
      "metadata": {
        "id": "nRdDaI7LM-7L",
        "colab_type": "code",
        "outputId": "7760c6dd-733e-49d3-98f3-bde7059cb54e",
        "colab": {
          "base_uri": "https://localhost:8080/",
          "height": 212
        }
      },
      "source": [
        "!pip install keract"
      ],
      "execution_count": 0,
      "outputs": [
        {
          "output_type": "stream",
          "text": [
            "Collecting keract\n",
            "  Downloading https://files.pythonhosted.org/packages/0a/48/abf19d8831357d87266aba859e9f82fc253c77a710b9bc58fc9685949752/keract-2.5.4-py2.py3-none-any.whl\n",
            "Requirement already satisfied: keras in /usr/local/lib/python3.6/dist-packages (from keract) (2.2.4)\n",
            "Requirement already satisfied: numpy in /usr/local/lib/python3.6/dist-packages (from keract) (1.16.3)\n",
            "Requirement already satisfied: h5py in /usr/local/lib/python3.6/dist-packages (from keras->keract) (2.8.0)\n",
            "Requirement already satisfied: six>=1.9.0 in /usr/local/lib/python3.6/dist-packages (from keras->keract) (1.12.0)\n",
            "Requirement already satisfied: scipy>=0.14 in /usr/local/lib/python3.6/dist-packages (from keras->keract) (1.3.0)\n",
            "Requirement already satisfied: pyyaml in /usr/local/lib/python3.6/dist-packages (from keras->keract) (3.13)\n",
            "Requirement already satisfied: keras-preprocessing>=1.0.5 in /usr/local/lib/python3.6/dist-packages (from keras->keract) (1.0.9)\n",
            "Requirement already satisfied: keras-applications>=1.0.6 in /usr/local/lib/python3.6/dist-packages (from keras->keract) (1.0.7)\n",
            "Installing collected packages: keract\n",
            "Successfully installed keract-2.5.4\n"
          ],
          "name": "stdout"
        }
      ]
    },
    {
      "cell_type": "code",
      "metadata": {
        "id": "FdtbTv_JSMKG",
        "colab_type": "code",
        "colab": {}
      },
      "source": [
        "def predict(image_path):\n",
        "    # Load and resize the image using PIL.\n",
        "    img = PIL.Image.open(image_path)\n",
        "    img_resized = img.resize(input_shape, PIL.Image.LANCZOS)\n",
        "\n",
        "    # Plot the image.\n",
        "    plt.imshow(img_resized)\n",
        "    plt.show()\n",
        "\n",
        "    # Convert the PIL image to a numpy-array with the proper shape.\n",
        "    img_array = np.expand_dims(np.array(img_resized), axis=0)\n",
        "\n",
        "    # Use the VGG16 model to make a prediction.\n",
        "    # This outputs an array with 1000 numbers corresponding to\n",
        "    # the classes of the ImageNet-dataset.\n",
        "    pred = model.predict(img_array)\n",
        "    \n",
        "    # Decode the output of the VGG16 model.\n",
        "    pred_decoded = decode_predictions(pred)[0]\n",
        "\n",
        "    # Print the predictions.\n",
        "    for code, name, score in pred_decoded:\n",
        "        print(\"{0:>6.2%} : {1}\".format(score, name))       "
      ],
      "execution_count": 0,
      "outputs": []
    },
    {
      "cell_type": "code",
      "metadata": {
        "id": "g6BbVC0NNdzh",
        "colab_type": "code",
        "outputId": "66ba020f-2b39-4c7e-f806-6c30b02106e9",
        "colab": {
          "base_uri": "https://localhost:8080/",
          "height": 33
        }
      },
      "source": [
        "import keract\n",
        "from keras.preprocessing.image import img_to_array\n",
        "from keras.preprocessing.image import load_img\n",
        "from keras import backend as K\n",
        "\n",
        "#session = tf.Session()  \n",
        "#K.set_session(sess)\n",
        "#session.run(tf.global_variables_initializer())\n",
        "\n",
        "def heatmap():  \n",
        "  img_resized = load_img('parrot_cropped1.jpg', target_size=input_shape)\n",
        "  \n",
        "  img_asarr = img_to_array(img_resized)\n",
        "  img_batch = np.expand_dims(img_asarr, axis=0)\n",
        "  img_batch = preprocess_input(img_batch)\n",
        "  \n",
        "  print(img_batch.shape)\n",
        "  print(img_batch.dtype) \n",
        "  activations = keract.get_activations(new_model, img_batch)\n",
        "  keract.display_heatmaps(activations, img_asarr)\n",
        "#heatmap()"
      ],
      "execution_count": 0,
      "outputs": [
        {
          "output_type": "stream",
          "text": [
            "Using TensorFlow backend.\n"
          ],
          "name": "stderr"
        }
      ]
    },
    {
      "cell_type": "code",
      "metadata": {
        "id": "Wq_MrkCpSOuj",
        "colab_type": "code",
        "outputId": "b7b5d7a2-1699-4d7c-80ab-c616bd0d3cab",
        "colab": {
          "base_uri": "https://localhost:8080/",
          "height": 383
        }
      },
      "source": [
        "predict(image_path='parrot_cropped1.jpg')"
      ],
      "execution_count": 0,
      "outputs": [
        {
          "output_type": "display_data",
          "data": {
            "image/png": "[encoded data removed]",
            "text/plain": [
              "<Figure size 432x288 with 1 Axes>"
            ]
          },
          "metadata": {
            "tags": []
          }
        },
        {
          "output_type": "stream",
          "text": [
            "Downloading data from https://s3.amazonaws.com/deep-learning-models/image-models/imagenet_class_index.json\n",
            "40960/35363 [==================================] - 0s 5us/step\n",
            "79.02% : macaw\n",
            " 6.61% : bubble\n",
            " 3.64% : vine_snake\n",
            " 1.90% : pinwheel\n",
            " 1.22% : knot\n"
          ],
          "name": "stdout"
        }
      ]
    },
    {
      "cell_type": "code",
      "metadata": {
        "id": "kXpmKmn1SQs3",
        "colab_type": "code",
        "outputId": "a9745f98-de73-421a-afd5-11f664073371",
        "colab": {
          "base_uri": "https://localhost:8080/",
          "height": 351
        }
      },
      "source": [
        "predict(image_path=image_paths_train[0])"
      ],
      "execution_count": 0,
      "outputs": [
        {
          "output_type": "display_data",
          "data": {
            "image/png": "[encoded data removed]",
            "text/plain": [
              "<Figure size 432x288 with 1 Axes>"
            ]
          },
          "metadata": {
            "tags": []
          }
        },
        {
          "output_type": "stream",
          "text": [
            "30.82% : Band_Aid\n",
            "29.84% : face_powder\n",
            "11.30% : rubber_eraser\n",
            " 3.59% : dumbbell\n",
            " 3.28% : ping-pong_ball\n"
          ],
          "name": "stdout"
        }
      ]
    },
    {
      "cell_type": "code",
      "metadata": {
        "id": "Gf8EvBmLUA1m",
        "colab_type": "code",
        "outputId": "813c25c6-abab-4687-e0c5-77fc6dd9e0d7",
        "colab": {
          "base_uri": "https://localhost:8080/",
          "height": 878
        }
      },
      "source": [
        "model.summary()"
      ],
      "execution_count": 0,
      "outputs": [
        {
          "output_type": "stream",
          "text": [
            "_________________________________________________________________\n",
            "Layer (type)                 Output Shape              Param #   \n",
            "=================================================================\n",
            "input_1 (InputLayer)         (None, 224, 224, 3)       0         \n",
            "_________________________________________________________________\n",
            "block1_conv1 (Conv2D)        (None, 224, 224, 64)      1792      \n",
            "_________________________________________________________________\n",
            "block1_conv2 (Conv2D)        (None, 224, 224, 64)      36928     \n",
            "_________________________________________________________________\n",
            "block1_pool (MaxPooling2D)   (None, 112, 112, 64)      0         \n",
            "_________________________________________________________________\n",
            "block2_conv1 (Conv2D)        (None, 112, 112, 128)     73856     \n",
            "_________________________________________________________________\n",
            "block2_conv2 (Conv2D)        (None, 112, 112, 128)     147584    \n",
            "_________________________________________________________________\n",
            "block2_pool (MaxPooling2D)   (None, 56, 56, 128)       0         \n",
            "_________________________________________________________________\n",
            "block3_conv1 (Conv2D)        (None, 56, 56, 256)       295168    \n",
            "_________________________________________________________________\n",
            "block3_conv2 (Conv2D)        (None, 56, 56, 256)       590080    \n",
            "_________________________________________________________________\n",
            "block3_conv3 (Conv2D)        (None, 56, 56, 256)       590080    \n",
            "_________________________________________________________________\n",
            "block3_pool (MaxPooling2D)   (None, 28, 28, 256)       0         \n",
            "_________________________________________________________________\n",
            "block4_conv1 (Conv2D)        (None, 28, 28, 512)       1180160   \n",
            "_________________________________________________________________\n",
            "block4_conv2 (Conv2D)        (None, 28, 28, 512)       2359808   \n",
            "_________________________________________________________________\n",
            "block4_conv3 (Conv2D)        (None, 28, 28, 512)       2359808   \n",
            "_________________________________________________________________\n",
            "block4_pool (MaxPooling2D)   (None, 14, 14, 512)       0         \n",
            "_________________________________________________________________\n",
            "block5_conv1 (Conv2D)        (None, 14, 14, 512)       2359808   \n",
            "_________________________________________________________________\n",
            "block5_conv2 (Conv2D)        (None, 14, 14, 512)       2359808   \n",
            "_________________________________________________________________\n",
            "block5_conv3 (Conv2D)        (None, 14, 14, 512)       2359808   \n",
            "_________________________________________________________________\n",
            "block5_pool (MaxPooling2D)   (None, 7, 7, 512)         0         \n",
            "_________________________________________________________________\n",
            "flatten (Flatten)            (None, 25088)             0         \n",
            "_________________________________________________________________\n",
            "fc1 (Dense)                  (None, 4096)              102764544 \n",
            "_________________________________________________________________\n",
            "fc2 (Dense)                  (None, 4096)              16781312  \n",
            "_________________________________________________________________\n",
            "predictions (Dense)          (None, 1000)              4097000   \n",
            "=================================================================\n",
            "Total params: 138,357,544\n",
            "Trainable params: 138,357,544\n",
            "Non-trainable params: 0\n",
            "_________________________________________________________________\n"
          ],
          "name": "stdout"
        }
      ]
    },
    {
      "cell_type": "code",
      "metadata": {
        "id": "Wv65w0QmUGEu",
        "colab_type": "code",
        "colab": {}
      },
      "source": [
        "transfer_layer = model.get_layer('block5_pool')"
      ],
      "execution_count": 0,
      "outputs": []
    },
    {
      "cell_type": "code",
      "metadata": {
        "id": "brHtA-HrUKlg",
        "colab_type": "code",
        "colab": {}
      },
      "source": [
        "conv_model = Model(inputs=model.input,\n",
        "                   outputs=transfer_layer.output)"
      ],
      "execution_count": 0,
      "outputs": []
    },
    {
      "cell_type": "code",
      "metadata": {
        "id": "uRC5UHJ5UM0X",
        "colab_type": "code",
        "outputId": "c6ca6e43-b782-4d8d-d460-3898b0a3f690",
        "colab": {
          "base_uri": "https://localhost:8080/",
          "height": 66
        }
      },
      "source": [
        "# Start a new Keras Sequential model.\n",
        "new_model = Sequential()\n",
        "\n",
        "# Add the convolutional part of the VGG16 model from above.\n",
        "new_model.add(conv_model)\n",
        "\n",
        "# Flatten the output of the VGG16 model because it is from a\n",
        "# convolutional layer.\n",
        "new_model.add(Flatten())\n",
        "\n",
        "# Add a dense (aka. fully-connected) layer.\n",
        "# This is for combining features that the VGG16 model has\n",
        "# recognized in the image.\n",
        "new_model.add(Dense(1024, activation='relu'))\n",
        "\n",
        "# Add a dropout-layer which may prevent overfitting and\n",
        "# improve generalization ability to unseen data e.g. the test-set.\n",
        "new_model.add(Dropout(0.5))\n",
        "\n",
        "# Add the final layer for the actual classification.\n",
        "new_model.add(Dense(num_classes, activation='softmax'))"
      ],
      "execution_count": 0,
      "outputs": [
        {
          "output_type": "stream",
          "text": [
            "WARNING:tensorflow:From /usr/local/lib/python3.6/dist-packages/tensorflow/python/keras/layers/core.py:143: calling dropout (from tensorflow.python.ops.nn_ops) with keep_prob is deprecated and will be removed in a future version.\n",
            "Instructions for updating:\n",
            "Please use `rate` instead of `keep_prob`. Rate should be set to `rate = 1 - keep_prob`.\n"
          ],
          "name": "stdout"
        }
      ]
    },
    {
      "cell_type": "code",
      "metadata": {
        "id": "T3pJcyxnURYf",
        "colab_type": "code",
        "outputId": "61e0f3e2-64de-48a1-f2a7-14ab4fd15596",
        "colab": {
          "base_uri": "https://localhost:8080/",
          "height": 635
        }
      },
      "source": [
        "optimizer = Adam(lr=1e-5)\n",
        "loss = 'categorical_crossentropy'\n",
        "metrics = ['categorical_accuracy']\n",
        "def print_layer_trainable():\n",
        "    for layer in conv_model.layers:\n",
        "        print(\"{0}:\\t{1}\".format(layer.trainable, layer.name))\n",
        "print_layer_trainable()\n",
        "conv_model.trainable = False\n",
        "for layer in conv_model.layers:\n",
        "    layer.trainable = False\n",
        "print_layer_trainable()\n",
        "new_model.compile(optimizer=optimizer, loss=loss, metrics=metrics)\n",
        "epochs = 20\n",
        "steps_per_epoch = 100"
      ],
      "execution_count": 0,
      "outputs": [
        {
          "output_type": "stream",
          "text": [
            "True:\tinput_1\n",
            "True:\tblock1_conv1\n",
            "True:\tblock1_conv2\n",
            "True:\tblock1_pool\n",
            "True:\tblock2_conv1\n",
            "True:\tblock2_conv2\n",
            "True:\tblock2_pool\n",
            "True:\tblock3_conv1\n",
            "True:\tblock3_conv2\n",
            "True:\tblock3_conv3\n",
            "True:\tblock3_pool\n",
            "True:\tblock4_conv1\n",
            "True:\tblock4_conv2\n",
            "True:\tblock4_conv3\n",
            "True:\tblock4_pool\n",
            "True:\tblock5_conv1\n",
            "True:\tblock5_conv2\n",
            "True:\tblock5_conv3\n",
            "True:\tblock5_pool\n",
            "False:\tinput_1\n",
            "False:\tblock1_conv1\n",
            "False:\tblock1_conv2\n",
            "False:\tblock1_pool\n",
            "False:\tblock2_conv1\n",
            "False:\tblock2_conv2\n",
            "False:\tblock2_pool\n",
            "False:\tblock3_conv1\n",
            "False:\tblock3_conv2\n",
            "False:\tblock3_conv3\n",
            "False:\tblock3_pool\n",
            "False:\tblock4_conv1\n",
            "False:\tblock4_conv2\n",
            "False:\tblock4_conv3\n",
            "False:\tblock4_pool\n",
            "False:\tblock5_conv1\n",
            "False:\tblock5_conv2\n",
            "False:\tblock5_conv3\n",
            "False:\tblock5_pool\n"
          ],
          "name": "stdout"
        }
      ]
    },
    {
      "cell_type": "code",
      "metadata": {
        "id": "e5FmSdS4UzLX",
        "colab_type": "code",
        "outputId": "929f6c07-3442-4c3c-f0d9-22ca7a90ba7a",
        "colab": {
          "base_uri": "https://localhost:8080/",
          "height": 1041
        }
      },
      "source": [
        "%%time\n",
        "history = new_model.fit_generator(generator=generator_train,\n",
        "                                  epochs=epochs,\n",
        "                                  steps_per_epoch=steps_per_epoch,\n",
        "                                  class_weight=class_weight,\n",
        "                                  validation_data=generator_test,\n",
        "                                  validation_steps=steps_test)"
      ],
      "execution_count": 0,
      "outputs": [
        {
          "output_type": "stream",
          "text": [
            "WARNING:tensorflow:From /usr/local/lib/python3.6/dist-packages/tensorflow/python/ops/math_ops.py:3066: to_int32 (from tensorflow.python.ops.math_ops) is deprecated and will be removed in a future version.\n",
            "Instructions for updating:\n",
            "Use tf.cast instead.\n",
            "Epoch 1/20\n",
            "60/60 [==============================] - 15s 246ms/step - loss: 1.4402 - categorical_accuracy: 0.3508\n",
            "600/600 [==============================] - 211s 352ms/step - loss: 1.5629 - categorical_accuracy: 0.3194 - val_loss: 1.4402 - val_categorical_accuracy: 0.3508\n",
            "Epoch 2/20\n",
            "60/60 [==============================] - 14s 241ms/step - loss: 1.3815 - categorical_accuracy: 0.3408\n",
            "600/600 [==============================] - 203s 338ms/step - loss: 1.4179 - categorical_accuracy: 0.3623 - val_loss: 1.3815 - val_categorical_accuracy: 0.3408\n",
            "Epoch 3/20\n",
            "60/60 [==============================] - 14s 240ms/step - loss: 1.3295 - categorical_accuracy: 0.3858\n",
            "600/600 [==============================] - 203s 338ms/step - loss: 1.3652 - categorical_accuracy: 0.3850 - val_loss: 1.3295 - val_categorical_accuracy: 0.3858\n",
            "Epoch 4/20\n",
            "60/60 [==============================] - 14s 240ms/step - loss: 1.2914 - categorical_accuracy: 0.4308\n",
            "600/600 [==============================] - 201s 335ms/step - loss: 1.3222 - categorical_accuracy: 0.4037 - val_loss: 1.2914 - val_categorical_accuracy: 0.4308\n",
            "Epoch 5/20\n",
            "60/60 [==============================] - 14s 240ms/step - loss: 1.2516 - categorical_accuracy: 0.4267\n",
            "600/600 [==============================] - 204s 340ms/step - loss: 1.2907 - categorical_accuracy: 0.4216 - val_loss: 1.2516 - val_categorical_accuracy: 0.4267\n",
            "Epoch 6/20\n",
            "60/60 [==============================] - 14s 240ms/step - loss: 1.2274 - categorical_accuracy: 0.4558\n",
            "600/600 [==============================] - 200s 334ms/step - loss: 1.2573 - categorical_accuracy: 0.4356 - val_loss: 1.2274 - val_categorical_accuracy: 0.4558\n",
            "Epoch 7/20\n",
            "60/60 [==============================] - 14s 239ms/step - loss: 1.1977 - categorical_accuracy: 0.4667\n",
            "600/600 [==============================] - 199s 331ms/step - loss: 1.2353 - categorical_accuracy: 0.4478 - val_loss: 1.1977 - val_categorical_accuracy: 0.4667\n",
            "Epoch 8/20\n",
            "60/60 [==============================] - 14s 238ms/step - loss: 1.1679 - categorical_accuracy: 0.4900\n",
            "600/600 [==============================] - 195s 326ms/step - loss: 1.2100 - categorical_accuracy: 0.4612 - val_loss: 1.1679 - val_categorical_accuracy: 0.4900\n",
            "Epoch 9/20\n",
            "60/60 [==============================] - 14s 239ms/step - loss: 1.1549 - categorical_accuracy: 0.4808\n",
            "600/600 [==============================] - 198s 329ms/step - loss: 1.1796 - categorical_accuracy: 0.4652 - val_loss: 1.1549 - val_categorical_accuracy: 0.4808\n",
            "Epoch 10/20\n",
            "60/60 [==============================] - 14s 241ms/step - loss: 1.1290 - categorical_accuracy: 0.5000\n",
            "600/600 [==============================] - 215s 358ms/step - loss: 1.1576 - categorical_accuracy: 0.4875 - val_loss: 1.1290 - val_categorical_accuracy: 0.5000\n",
            "Epoch 11/20\n",
            "60/60 [==============================] - 14s 242ms/step - loss: 1.1106 - categorical_accuracy: 0.5058\n",
            "600/600 [==============================] - 228s 380ms/step - loss: 1.1381 - categorical_accuracy: 0.4929 - val_loss: 1.1106 - val_categorical_accuracy: 0.5058\n",
            "Epoch 12/20\n",
            "60/60 [==============================] - 15s 244ms/step - loss: 1.0927 - categorical_accuracy: 0.5208\n",
            "600/600 [==============================] - 229s 381ms/step - loss: 1.1209 - categorical_accuracy: 0.4956 - val_loss: 1.0927 - val_categorical_accuracy: 0.5208\n",
            "Epoch 13/20\n",
            "60/60 [==============================] - 14s 241ms/step - loss: 1.0869 - categorical_accuracy: 0.5208\n",
            "600/600 [==============================] - 225s 375ms/step - loss: 1.1018 - categorical_accuracy: 0.5132 - val_loss: 1.0869 - val_categorical_accuracy: 0.5208\n",
            "Epoch 14/20\n",
            "60/60 [==============================] - 15s 245ms/step - loss: 1.0685 - categorical_accuracy: 0.5283\n",
            "600/600 [==============================] - 219s 364ms/step - loss: 1.0887 - categorical_accuracy: 0.5161 - val_loss: 1.0685 - val_categorical_accuracy: 0.5283\n",
            "Epoch 15/20\n",
            "60/60 [==============================] - 14s 241ms/step - loss: 1.0608 - categorical_accuracy: 0.5267\n",
            "600/600 [==============================] - 217s 362ms/step - loss: 1.0694 - categorical_accuracy: 0.5223 - val_loss: 1.0608 - val_categorical_accuracy: 0.5267\n",
            "Epoch 16/20\n",
            "60/60 [==============================] - 15s 244ms/step - loss: 1.0368 - categorical_accuracy: 0.5492\n",
            "600/600 [==============================] - 228s 380ms/step - loss: 1.0568 - categorical_accuracy: 0.5376 - val_loss: 1.0368 - val_categorical_accuracy: 0.5492\n",
            "Epoch 17/20\n",
            "60/60 [==============================] - 15s 243ms/step - loss: 1.0302 - categorical_accuracy: 0.5342\n",
            "600/600 [==============================] - 226s 377ms/step - loss: 1.0421 - categorical_accuracy: 0.5389 - val_loss: 1.0302 - val_categorical_accuracy: 0.5342\n",
            "Epoch 18/20\n",
            "60/60 [==============================] - 15s 246ms/step - loss: 1.0257 - categorical_accuracy: 0.5500\n",
            "600/600 [==============================] - 222s 371ms/step - loss: 1.0284 - categorical_accuracy: 0.5452 - val_loss: 1.0257 - val_categorical_accuracy: 0.5500\n",
            "Epoch 19/20\n",
            "60/60 [==============================] - 15s 247ms/step - loss: 0.9910 - categorical_accuracy: 0.5558\n",
            "600/600 [==============================] - 223s 371ms/step - loss: 1.0156 - categorical_accuracy: 0.5494 - val_loss: 0.9910 - val_categorical_accuracy: 0.5558\n",
            "Epoch 20/20\n",
            "60/60 [==============================] - 15s 247ms/step - loss: 0.9815 - categorical_accuracy: 0.5650\n",
            "600/600 [==============================] - 219s 365ms/step - loss: 1.0077 - categorical_accuracy: 0.5602 - val_loss: 0.9815 - val_categorical_accuracy: 0.5650\n"
          ],
          "name": "stdout"
        }
      ]
    },
    {
      "cell_type": "code",
      "metadata": {
        "id": "BLpW0VbAU52o",
        "colab_type": "code",
        "outputId": "21e2113a-d8e3-47cf-cbcd-a58cc096e3bb",
        "colab": {
          "base_uri": "https://localhost:8080/",
          "height": 281
        }
      },
      "source": [
        "plot_training_history(history)"
      ],
      "execution_count": 0,
      "outputs": [
        {
          "output_type": "display_data",
          "data": {
            "image/png": "[encoded data removed]",
            "text/plain": [
              "<Figure size 432x288 with 1 Axes>"
            ]
          },
          "metadata": {
            "tags": []
          }
        }
      ]
    },
    {
      "cell_type": "code",
      "metadata": {
        "id": "pDHS6FhUU_Vy",
        "colab_type": "code",
        "colab": {}
      },
      "source": [
        "result = new_model.evaluate_generator(generator_test, steps=steps_test)"
      ],
      "execution_count": 0,
      "outputs": []
    },
    {
      "cell_type": "code",
      "metadata": {
        "id": "CXvxrLXbVBLQ",
        "colab_type": "code",
        "outputId": "02b51cee-078e-450a-b8fc-bde69311951f",
        "colab": {
          "base_uri": "https://localhost:8080/",
          "height": 33
        }
      },
      "source": [
        "print(\"Test-set classification accuracy: {0:.2%}\".format(result[1]))"
      ],
      "execution_count": 0,
      "outputs": [
        {
          "output_type": "stream",
          "text": [
            "Test-set classification accuracy: 56.50%\n"
          ],
          "name": "stdout"
        }
      ]
    },
    {
      "cell_type": "code",
      "metadata": {
        "id": "1BxTyHbBVDr6",
        "colab_type": "code",
        "outputId": "0607b1d0-199f-4661-b5dc-84e210d8d2bf",
        "colab": {
          "base_uri": "https://localhost:8080/",
          "height": 488
        }
      },
      "source": [
        "example_errors()"
      ],
      "execution_count": 0,
      "outputs": [
        {
          "output_type": "display_data",
          "data": {
            "image/png": "[encoded data removed]",
            "text/plain": [
              "<Figure size 432x288 with 9 Axes>"
            ]
          },
          "metadata": {
            "tags": []
          }
        },
        {
          "output_type": "stream",
          "text": [
            "Confusion matrix:\n",
            "[[151  42   6   1   0   0]\n",
            " [ 11 117  59  11   2   0]\n",
            " [  0  26 111  53   6   4]\n",
            " [  0   1  49 101  32  17]\n",
            " [  0   0   3  53  55  89]\n",
            " [  0   0   0  17  40 143]]\n",
            "(0) A\n",
            "(1) B\n",
            "(2) C\n",
            "(3) D\n",
            "(4) E\n",
            "(5) F\n"
          ],
          "name": "stdout"
        }
      ]
    },
    {
      "cell_type": "markdown",
      "metadata": {
        "id": "jex3VuT0V63p",
        "colab_type": "text"
      },
      "source": [
        ""
      ]
    },
    {
      "cell_type": "code",
      "metadata": {
        "id": "IDGjb3maV0Cz",
        "colab_type": "code",
        "colab": {}
      },
      "source": [
        "## Fine-Tuning"
      ],
      "execution_count": 0,
      "outputs": []
    },
    {
      "cell_type": "code",
      "metadata": {
        "id": "Oja2HT9OVvoV",
        "colab_type": "code",
        "colab": {}
      },
      "source": [
        "conv_model.trainable = True"
      ],
      "execution_count": 0,
      "outputs": []
    },
    {
      "cell_type": "code",
      "metadata": {
        "id": "h0VaTPqNVxtp",
        "colab_type": "code",
        "colab": {}
      },
      "source": [
        "for layer in conv_model.layers:\n",
        "    # Boolean whether this layer is trainable.\n",
        "    trainable = ('block5' in layer.name or 'block4' in layer.name)\n",
        "    \n",
        "    # Set the layer's bool.\n",
        "    layer.trainable = True #trainable"
      ],
      "execution_count": 0,
      "outputs": []
    },
    {
      "cell_type": "code",
      "metadata": {
        "id": "qkv0pX-qWQ9b",
        "colab_type": "code",
        "outputId": "1c3dd0bc-a63d-4640-afcb-48fce0002cc6",
        "colab": {
          "base_uri": "https://localhost:8080/",
          "height": 992
        }
      },
      "source": [
        "%%time\n",
        "optimizer_fine = Adam(lr=1e-5)\n",
        "new_model.compile(optimizer=optimizer_fine, loss=loss, metrics=metrics)\n",
        "history = new_model.fit_generator(generator=generator_train,\n",
        "                                  epochs=epochs,\n",
        "                                  steps_per_epoch=steps_per_epoch,\n",
        "                                  class_weight=class_weight,\n",
        "                                  validation_data=generator_test,\n",
        "                                  validation_steps=steps_test)"
      ],
      "execution_count": 0,
      "outputs": [
        {
          "output_type": "stream",
          "text": [
            "Epoch 1/20\n",
            "60/60 [==============================] - 15s 250ms/step - loss: 0.1167 - categorical_accuracy: 0.9850\n",
            "600/600 [==============================] - 424s 707ms/step - loss: 0.4768 - categorical_accuracy: 0.8035 - val_loss: 0.1167 - val_categorical_accuracy: 0.9850\n",
            "Epoch 2/20\n",
            "60/60 [==============================] - 15s 245ms/step - loss: 0.0650 - categorical_accuracy: 0.9917\n",
            "600/600 [==============================] - 420s 700ms/step - loss: 0.2212 - categorical_accuracy: 0.9319 - val_loss: 0.0650 - val_categorical_accuracy: 0.9917\n",
            "Epoch 3/20\n",
            "60/60 [==============================] - 15s 247ms/step - loss: 0.0588 - categorical_accuracy: 0.9942\n",
            "600/600 [==============================] - 420s 700ms/step - loss: 0.1616 - categorical_accuracy: 0.9553 - val_loss: 0.0588 - val_categorical_accuracy: 0.9942\n",
            "Epoch 4/20\n",
            "60/60 [==============================] - 15s 247ms/step - loss: 0.0326 - categorical_accuracy: 0.9992\n",
            "600/600 [==============================] - 421s 701ms/step - loss: 0.1545 - categorical_accuracy: 0.9609 - val_loss: 0.0326 - val_categorical_accuracy: 0.9992\n",
            "Epoch 5/20\n",
            "60/60 [==============================] - 15s 246ms/step - loss: 0.0193 - categorical_accuracy: 1.0000\n",
            "600/600 [==============================] - 420s 700ms/step - loss: 0.1486 - categorical_accuracy: 0.9623 - val_loss: 0.0193 - val_categorical_accuracy: 1.0000\n",
            "Epoch 6/20\n",
            "60/60 [==============================] - 15s 244ms/step - loss: 0.0494 - categorical_accuracy: 0.9958\n",
            "600/600 [==============================] - 419s 699ms/step - loss: 0.1403 - categorical_accuracy: 0.9668 - val_loss: 0.0494 - val_categorical_accuracy: 0.9958\n",
            "Epoch 7/20\n",
            "60/60 [==============================] - 15s 246ms/step - loss: 0.0298 - categorical_accuracy: 0.9967\n",
            "600/600 [==============================] - 418s 697ms/step - loss: 0.1320 - categorical_accuracy: 0.9712 - val_loss: 0.0298 - val_categorical_accuracy: 0.9967\n",
            "Epoch 8/20\n",
            "60/60 [==============================] - 15s 243ms/step - loss: 0.0157 - categorical_accuracy: 1.0000\n",
            "600/600 [==============================] - 418s 697ms/step - loss: 0.1238 - categorical_accuracy: 0.9695 - val_loss: 0.0157 - val_categorical_accuracy: 1.0000\n",
            "Epoch 9/20\n",
            "60/60 [==============================] - 15s 246ms/step - loss: 0.0204 - categorical_accuracy: 1.0000\n",
            "600/600 [==============================] - 418s 697ms/step - loss: 0.1268 - categorical_accuracy: 0.9732 - val_loss: 0.0204 - val_categorical_accuracy: 1.0000\n",
            "Epoch 10/20\n",
            "60/60 [==============================] - 15s 246ms/step - loss: 0.0186 - categorical_accuracy: 1.0000\n",
            "600/600 [==============================] - 418s 697ms/step - loss: 0.1232 - categorical_accuracy: 0.9715 - val_loss: 0.0186 - val_categorical_accuracy: 1.0000\n",
            "Epoch 11/20\n",
            "60/60 [==============================] - 15s 245ms/step - loss: 0.0208 - categorical_accuracy: 0.9983\n",
            "600/600 [==============================] - 419s 699ms/step - loss: 0.1184 - categorical_accuracy: 0.9717 - val_loss: 0.0208 - val_categorical_accuracy: 0.9983\n",
            "Epoch 12/20\n",
            "60/60 [==============================] - 15s 244ms/step - loss: 0.0306 - categorical_accuracy: 0.9958\n",
            "600/600 [==============================] - 419s 699ms/step - loss: 0.1199 - categorical_accuracy: 0.9718 - val_loss: 0.0306 - val_categorical_accuracy: 0.9958\n",
            "Epoch 13/20\n",
            "60/60 [==============================] - 15s 244ms/step - loss: 0.0243 - categorical_accuracy: 0.9992\n",
            "600/600 [==============================] - 419s 698ms/step - loss: 0.1150 - categorical_accuracy: 0.9748 - val_loss: 0.0243 - val_categorical_accuracy: 0.9992\n",
            "Epoch 14/20\n",
            "60/60 [==============================] - 15s 244ms/step - loss: 0.0213 - categorical_accuracy: 1.0000\n",
            "600/600 [==============================] - 418s 696ms/step - loss: 0.1435 - categorical_accuracy: 0.9645 - val_loss: 0.0213 - val_categorical_accuracy: 1.0000\n",
            "Epoch 15/20\n",
            "60/60 [==============================] - 14s 242ms/step - loss: 0.0164 - categorical_accuracy: 1.0000\n",
            "600/600 [==============================] - 417s 696ms/step - loss: 0.1144 - categorical_accuracy: 0.9753 - val_loss: 0.0164 - val_categorical_accuracy: 1.0000\n",
            "Epoch 16/20\n",
            "60/60 [==============================] - 15s 243ms/step - loss: 0.0305 - categorical_accuracy: 1.0000\n",
            "600/600 [==============================] - 417s 695ms/step - loss: 0.1074 - categorical_accuracy: 0.9762 - val_loss: 0.0305 - val_categorical_accuracy: 1.0000\n",
            "Epoch 17/20\n",
            "60/60 [==============================] - 15s 244ms/step - loss: 0.0293 - categorical_accuracy: 1.0000\n",
            "600/600 [==============================] - 418s 696ms/step - loss: 0.1139 - categorical_accuracy: 0.9753 - val_loss: 0.0293 - val_categorical_accuracy: 1.0000\n",
            "Epoch 18/20\n",
            "60/60 [==============================] - 15s 243ms/step - loss: 0.0235 - categorical_accuracy: 0.9992\n",
            "600/600 [==============================] - 417s 695ms/step - loss: 0.0945 - categorical_accuracy: 0.9794 - val_loss: 0.0235 - val_categorical_accuracy: 0.9992\n",
            "Epoch 19/20\n",
            "60/60 [==============================] - 15s 243ms/step - loss: 0.0107 - categorical_accuracy: 1.0000\n",
            "600/600 [==============================] - 417s 695ms/step - loss: 0.1027 - categorical_accuracy: 0.9759 - val_loss: 0.0107 - val_categorical_accuracy: 1.0000\n",
            "Epoch 20/20\n",
            "60/60 [==============================] - 15s 244ms/step - loss: 0.0166 - categorical_accuracy: 0.9992\n",
            "600/600 [==============================] - 417s 696ms/step - loss: 0.1049 - categorical_accuracy: 0.9753 - val_loss: 0.0166 - val_categorical_accuracy: 0.9992\n"
          ],
          "name": "stdout"
        }
      ]
    },
    {
      "cell_type": "code",
      "metadata": {
        "id": "QsxHHeQ5WNJl",
        "colab_type": "code",
        "outputId": "86d177da-6a5c-4cb7-b22f-deaea2aaf55d",
        "colab": {
          "base_uri": "https://localhost:8080/",
          "height": 746
        }
      },
      "source": [
        "plot_training_history(history)\n",
        "result = new_model.evaluate_generator(generator_test, steps=steps_test)\n",
        "print(\"Test-set classification accuracy: {0:.2%}\".format(result[1]))\n",
        "example_errors()"
      ],
      "execution_count": 0,
      "outputs": [
        {
          "output_type": "display_data",
          "data": {
            "image/png": "[encoded data removed]",
            "text/plain": [
              "<Figure size 432x288 with 1 Axes>"
            ]
          },
          "metadata": {
            "tags": []
          }
        },
        {
          "output_type": "stream",
          "text": [
            "Test-set classification accuracy: 99.92%\n"
          ],
          "name": "stdout"
        },
        {
          "output_type": "display_data",
          "data": {
            "image/png": "[encoded data removed]",
            "text/plain": [
              "<Figure size 432x288 with 9 Axes>"
            ]
          },
          "metadata": {
            "tags": []
          }
        },
        {
          "output_type": "stream",
          "text": [
            "Confusion matrix:\n",
            "[[200   0   0   0   0   0]\n",
            " [  1 199   0   0   0   0]\n",
            " [  0   0 200   0   0   0]\n",
            " [  0   0   0 200   0   0]\n",
            " [  0   0   0   0 200   0]\n",
            " [  0   0   0   0   0 200]]\n",
            "(0) A\n",
            "(1) B\n",
            "(2) C\n",
            "(3) D\n",
            "(4) E\n",
            "(5) F\n"
          ],
          "name": "stdout"
        }
      ]
    },
    {
      "cell_type": "code",
      "metadata": {
        "id": "steL5cvUfn6v",
        "colab_type": "code",
        "colab": {}
      },
      "source": [
        "for layer in conv_model.layers:\n",
        "    # Set the layer's bool.\n",
        "    layer.trainable = True #trainable\n",
        "%%time\n",
        "optimizer_fine = Adam(lr=1e-5)\n",
        "new_model.compile(optimizer=optimizer_fine, loss=loss, metrics=metrics)\n",
        "history = new_model.fit_generator(generator=generator_train,\n",
        "                                  epochs=epochs,\n",
        "                                  steps_per_epoch=steps_per_epoch,\n",
        "                                  class_weight=class_weight,\n",
        "                                  validation_data=generator_test,\n",
        "                                  validation_steps=steps_test)"
      ],
      "execution_count": 0,
      "outputs": []
    },
    {
      "cell_type": "code",
      "metadata": {
        "id": "KB0kvIqMe9Sd",
        "colab_type": "code",
        "outputId": "1a0bd617-c3ca-4c67-f5c1-c1f82c5bb9c2",
        "colab": {
          "base_uri": "https://localhost:8080/",
          "height": 191
        }
      },
      "source": [
        "new_model.save('count_red_hvass.h5')\n",
        "#del model\n",
        "#model = keras.models.load_model('count_red_hvass.h5')"
      ],
      "execution_count": 0,
      "outputs": [
        {
          "output_type": "error",
          "ename": "NameError",
          "evalue": "ignored",
          "traceback": [
            "\u001b[0;31m---------------------------------------------------------------------------\u001b[0m",
            "\u001b[0;31mNameError\u001b[0m                                 Traceback (most recent call last)",
            "\u001b[0;32m<ipython-input-52-ebff3d384cbb>\u001b[0m in \u001b[0;36m<module>\u001b[0;34m()\u001b[0m\n\u001b[1;32m      3\u001b[0m \u001b[0;31m#model = keras.models.load_model('count_red_hvass.h5')\u001b[0m\u001b[0;34m\u001b[0m\u001b[0;34m\u001b[0m\u001b[0;34m\u001b[0m\u001b[0m\n\u001b[1;32m      4\u001b[0m \u001b[0;34m\u001b[0m\u001b[0m\n\u001b[0;32m----> 5\u001b[0;31m \u001b[0mfiles\u001b[0m\u001b[0;34m.\u001b[0m\u001b[0mdownload\u001b[0m\u001b[0;34m(\u001b[0m\u001b[0;34m'example.txt'\u001b[0m\u001b[0;34m)\u001b[0m\u001b[0;34m\u001b[0m\u001b[0;34m\u001b[0m\u001b[0m\n\u001b[0m",
            "\u001b[0;31mNameError\u001b[0m: name 'files' is not defined"
          ]
        }
      ]
    },
    {
      "cell_type": "code",
      "metadata": {
        "id": "ez7s_FpFjAx1",
        "colab_type": "code",
        "colab": {
          "base_uri": "https://localhost:8080/",
          "height": 423
        },
        "outputId": "27e720e1-79c4-4147-a9cc-9a19508e9a24"
      },
      "source": [
        "from google.colab import files\n",
        "files.download('count_red_hvass.h5')"
      ],
      "execution_count": 53,
      "outputs": [
        {
          "output_type": "stream",
          "text": [
            "----------------------------------------\n",
            "Exception happened during processing of request from ('::ffff:127.0.0.1', 59304, 0, 0)\n",
            "Traceback (most recent call last):\n",
            "  File \"/usr/lib/python3.6/socketserver.py\", line 317, in _handle_request_noblock\n",
            "    self.process_request(request, client_address)\n",
            "  File \"/usr/lib/python3.6/socketserver.py\", line 348, in process_request\n",
            "    self.finish_request(request, client_address)\n",
            "  File \"/usr/lib/python3.6/socketserver.py\", line 361, in finish_request\n",
            "    self.RequestHandlerClass(request, client_address, self)\n",
            "  File \"/usr/lib/python3.6/socketserver.py\", line 721, in __init__\n",
            "    self.handle()\n",
            "  File \"/usr/lib/python3.6/http/server.py\", line 418, in handle\n",
            "    self.handle_one_request()\n",
            "  File \"/usr/lib/python3.6/http/server.py\", line 406, in handle_one_request\n",
            "    method()\n",
            "  File \"/usr/lib/python3.6/http/server.py\", line 639, in do_GET\n",
            "    self.copyfile(f, self.wfile)\n",
            "  File \"/usr/lib/python3.6/http/server.py\", line 800, in copyfile\n",
            "    shutil.copyfileobj(source, outputfile)\n",
            "  File \"/usr/lib/python3.6/shutil.py\", line 82, in copyfileobj\n",
            "    fdst.write(buf)\n",
            "  File \"/usr/lib/python3.6/socketserver.py\", line 800, in write\n",
            "    self._sock.sendall(b)\n",
            "ConnectionResetError: [Errno 104] Connection reset by peer\n",
            "----------------------------------------\n"
          ],
          "name": "stderr"
        }
      ]
    },
    {
      "cell_type": "code",
      "metadata": {
        "id": "zH37Qj4niDei",
        "colab_type": "code",
        "outputId": "f860e19d-6943-4860-e47a-e8caa1260614",
        "colab": {
          "base_uri": "https://localhost:8080/",
          "height": 180
        }
      },
      "source": [
        "!ls -l\n",
        "from google.colab import drive\n",
        "drive.mount('/content/gdrive')"
      ],
      "execution_count": 0,
      "outputs": [
        {
          "output_type": "stream",
          "text": [
            "total 473760\n",
            "-rw-r--r-- 1 root root      4764 May 26 10:48 cache.py\n",
            "-rw-r--r-- 1 root root 485035048 May 26 14:23 count_red_hvass.h5\n",
            "drwxr-xr-x 3 root root      4096 May 26 10:49 data\n",
            "-rw-r--r-- 1 root root     12156 May 26 10:48 dataset.py\n",
            "-rw-r--r-- 1 root root      4353 May 26 10:49 download.py\n",
            "-rw-r--r-- 1 root root      5579 May 26 10:49 kandinsky.py\n",
            "-rw-r--r-- 1 root root     37085 May 26 10:49 parrot_cropped1.jpg\n",
            "drwxr-xr-x 2 root root      4096 May 26 10:49 __pycache__\n",
            "drwxr-xr-x 1 root root      4096 May 22 16:22 sample_data\n"
          ],
          "name": "stdout"
        }
      ]
    }
  ]
}