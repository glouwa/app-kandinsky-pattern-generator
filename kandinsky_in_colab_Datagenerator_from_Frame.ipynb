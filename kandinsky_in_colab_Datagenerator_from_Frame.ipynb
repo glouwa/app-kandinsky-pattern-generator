{
  "nbformat": 4,
  "nbformat_minor": 0,
  "metadata": {
    "colab": {
      "name": "kandinsky in colab - Datagenerator from Frame.ipynb",
      "version": "0.3.2",
      "provenance": [],
      "collapsed_sections": [
        "sb4S22JfiMmc",
        "HwLm1Ty_INDi",
        "Ardg2UiTH2W_",
        "-3NK1pHgH6RG",
        "OOhSPxb1ZdeV"
      ],
      "toc_visible": true,
      "include_colab_link": true
    },
    "kernelspec": {
      "name": "python3",
      "display_name": "Python 3"
    }
  },
  "cells": [
    {
      "cell_type": "markdown",
      "metadata": {
        "id": "view-in-github",
        "colab_type": "text"
      },
      "source": [
        "<a href=\"https://colab.research.google.com/github/glouwa/app-kandinsky-pattern-generator/blob/master/kandinsky_in_colab_Datagenerator_from_Frame.ipynb\" target=\"_parent\"><img src=\"https://colab.research.google.com/assets/colab-badge.svg\" alt=\"Open In Colab\"/></a>"
      ]
    },
    {
      "cell_type": "markdown",
      "metadata": {
        "id": "sb4S22JfiMmc",
        "colab_type": "text"
      },
      "source": [
        "# Libs and Files"
      ]
    },
    {
      "cell_type": "code",
      "metadata": {
        "id": "RHBOcSRhLbYW",
        "colab_type": "code",
        "outputId": "703ba842-28bb-4c18-fb04-62ad6c266660",
        "colab": {
          "base_uri": "https://localhost:8080/",
          "height": 557
        }
      },
      "source": [
        "!rm -r sample_data \n",
        "!wget https://github.com/glouwa/app-kandinsky-pattern-generator/raw/master/lib.py\n",
        "!wget https://github.com/Hvass-Labs/TensorFlow-Tutorials/raw/master/images/parrot_cropped1.jpg"
      ],
      "execution_count": 1,
      "outputs": [
        {
          "output_type": "stream",
          "text": [
            "--2019-05-25 13:39:30--  https://github.com/glouwa/app-kandinsky-pattern-generator/raw/master/lib.py\n",
            "Resolving github.com (github.com)... 192.30.253.113\n",
            "Connecting to github.com (github.com)|192.30.253.113|:443... connected.\n",
            "HTTP request sent, awaiting response... 302 Found\n",
            "Location: https://raw.githubusercontent.com/glouwa/app-kandinsky-pattern-generator/master/lib.py [following]\n",
            "--2019-05-25 13:39:30--  https://raw.githubusercontent.com/glouwa/app-kandinsky-pattern-generator/master/lib.py\n",
            "Resolving raw.githubusercontent.com (raw.githubusercontent.com)... 151.101.0.133, 151.101.64.133, 151.101.128.133, ...\n",
            "Connecting to raw.githubusercontent.com (raw.githubusercontent.com)|151.101.0.133|:443... connected.\n",
            "HTTP request sent, awaiting response... 200 OK\n",
            "Length: 5118 (5.0K) [text/plain]\n",
            "Saving to: ‘lib.py’\n",
            "\n",
            "\rlib.py                0%[                    ]       0  --.-KB/s               \rlib.py              100%[===================>]   5.00K  --.-KB/s    in 0s      \n",
            "\n",
            "2019-05-25 13:39:30 (52.6 MB/s) - ‘lib.py’ saved [5118/5118]\n",
            "\n",
            "--2019-05-25 13:39:31--  https://github.com/Hvass-Labs/TensorFlow-Tutorials/raw/master/images/parrot_cropped1.jpg\n",
            "Resolving github.com (github.com)... 192.30.253.113\n",
            "Connecting to github.com (github.com)|192.30.253.113|:443... connected.\n",
            "HTTP request sent, awaiting response... 302 Found\n",
            "Location: https://raw.githubusercontent.com/Hvass-Labs/TensorFlow-Tutorials/master/images/parrot_cropped1.jpg [following]\n",
            "--2019-05-25 13:39:31--  https://raw.githubusercontent.com/Hvass-Labs/TensorFlow-Tutorials/master/images/parrot_cropped1.jpg\n",
            "Resolving raw.githubusercontent.com (raw.githubusercontent.com)... 151.101.0.133, 151.101.64.133, 151.101.128.133, ...\n",
            "Connecting to raw.githubusercontent.com (raw.githubusercontent.com)|151.101.0.133|:443... connected.\n",
            "HTTP request sent, awaiting response... 200 OK\n",
            "Length: 37085 (36K) [image/jpeg]\n",
            "Saving to: ‘parrot_cropped1.jpg’\n",
            "\n",
            "parrot_cropped1.jpg 100%[===================>]  36.22K  --.-KB/s    in 0.01s   \n",
            "\n",
            "2019-05-25 13:39:31 (2.77 MB/s) - ‘parrot_cropped1.jpg’ saved [37085/37085]\n",
            "\n"
          ],
          "name": "stdout"
        }
      ]
    },
    {
      "cell_type": "code",
      "metadata": {
        "id": "cxG-PcNlEbdH",
        "colab_type": "code",
        "outputId": "aadc0fd3-8e35-4b2b-d78b-fd18351bf2b5",
        "colab": {
          "base_uri": "https://localhost:8080/",
          "height": 53
        }
      },
      "source": [
        "from IPython.display import display, SVG\n",
        "from functools import reduce\n",
        "from random import seed, randint\n",
        "from numpy import array, argmax\n",
        "import matplotlib.pyplot as plt\n",
        "import numpy as np\n",
        "import pandas as pd\n",
        "import keras\n",
        "import lib\n",
        "import PIL"
      ],
      "execution_count": 2,
      "outputs": [
        {
          "output_type": "stream",
          "text": [
            "Using TensorFlow backend.\n"
          ],
          "name": "stderr"
        }
      ]
    },
    {
      "cell_type": "markdown",
      "metadata": {
        "id": "HwLm1Ty_INDi",
        "colab_type": "text"
      },
      "source": [
        "# Intro\n",
        "\n",
        "\n",
        "\n",
        "## Encoding\n",
        "X.shape = (samples, 224, 224, 4)\n",
        "\n",
        "Y.shape = (samples, ?)\n",
        "\n",
        "for y we can combine multible properies of a sample. \n",
        "the output shape is defined by their amount and encodings.\n"
      ]
    },
    {
      "cell_type": "code",
      "metadata": {
        "id": "AmZ2iFt3Rrfi",
        "colab_type": "code",
        "cellView": "both",
        "outputId": "8b40fc7f-928f-47b0-e4c6-e4d39cfa19fb",
        "colab": {
          "base_uri": "https://localhost:8080/",
          "height": 53
        }
      },
      "source": [
        "#@title Common Stuff { vertical-output: true } \n",
        "image_shape  = (224, 224)\n",
        "input_shape  = (*image_shape, 3)\n",
        "output_shape = (9)\n",
        "\n",
        "print('input_shape', input_shape, 'output_shape', output_shape)"
      ],
      "execution_count": 3,
      "outputs": [
        {
          "output_type": "stream",
          "text": [
            "input_shape (224, 224, 3) output_shape 9\n"
          ],
          "name": "stdout"
        }
      ]
    },
    {
      "cell_type": "code",
      "metadata": {
        "id": "APGh9hMKdxG0",
        "colab_type": "code",
        "colab": {}
      },
      "source": [
        "max_count       = output_shape\n",
        "to_onehot       = lambda val, max_int: [1 if val == i else 0 for i in range(max_int)]\n",
        "fig_path_format = './figures/%s/fig%05d.pkl'\n",
        "png_path_format = './images/%s/img%05d.png'\n",
        "\n",
        "import os \n",
        "import pickle # import sPickle as pickle\n",
        "\n",
        "os.makedirs('./figures/', exist_ok=True)\n",
        "os.makedirs('./images/', exist_ok=True)\n",
        "\n",
        "def save_figure(path, fid, fig):\n",
        "    os.makedirs('./figures/%s'%path, exist_ok=True)\n",
        "    #print(\"create ir\", path)\n",
        "    dbfile = open(fig_path_format%(path, fid), 'wb+')  \n",
        "    pickle.dump(fig, dbfile)               \n",
        "    dbfile.close()  \n",
        "    #print(\"saving\", fig_path_format%(path, fid))\n",
        "    \n",
        "def load_figure(path, fid):\n",
        "    dbfile = open(fig_path_format%(path, fid), 'rb')  \n",
        "    fig = pickle.load(dbfile)                      \n",
        "    dbfile.close()    \n",
        "    return fig\n",
        "\n",
        "def load_pil(path, fid):\n",
        "    img = PIL.Image.open(png_path_format%(path, fid))\n",
        "    img_resized = img.resize(image_shape, PIL.Image.LANCZOS)    \n",
        "    return img_resized\n",
        "\n",
        "def save_pil(path, fid, pil):\n",
        "    os.makedirs('./images/%s'%path, exist_ok=True)\n",
        "    pil.save(png_path_format%(path, fid))\n",
        "\n",
        "def load_image(path): # used to predict image not in sets (parrot)\n",
        "    img = PIL.Image.open(path)\n",
        "    img_resized = img.resize(image_shape, PIL.Image.LANCZOS)    \n",
        "    return array(img_resized)\n",
        "\n",
        "count_color = lambda f, c: reduce(lambda a, e: a + (1 if e.color==c else 0), f, 0)\n",
        "count_shape = lambda f, c: reduce(lambda a, e: a + (1 if e.shape==c else 0), f, 0)"
      ],
      "execution_count": 0,
      "outputs": []
    },
    {
      "cell_type": "markdown",
      "metadata": {
        "id": "QnqiBhZoZy-Y",
        "colab_type": "text"
      },
      "source": [
        "# Sample *s*"
      ]
    },
    {
      "cell_type": "code",
      "metadata": {
        "id": "CluOYlEJh9DU",
        "colab_type": "code",
        "colab": {}
      },
      "source": [
        "figure_config = dict(   \n",
        "    render_size = image_shape,\n",
        "    obj_count=(2, 15),     \n",
        "    obj_size=(.1, .7),\n",
        "    colors=['red','green', 'blue', 'yellow', 'orange'],\n",
        "    shapes=['circle']\n",
        ")\n",
        "\n",
        "class Sample:  \n",
        "    def __init__(self, set_path, fid):        \n",
        "        self.set_path = set_path\n",
        "        self.fid = fid\n",
        "        #self.f = f        \n",
        "        \n",
        "        if os.path.isfile(fig_path_format%(set_path, fid)):\n",
        "            self.f = load_figure(set_path, fid)                \n",
        "        else:\n",
        "            self.f = lib.RandomFigure(**figure_config)\n",
        "            save_figure(self.set_path, self.fid, self.f)\n",
        "            \n",
        "        if os.path.isfile(png_path_format%(set_path, fid)):\n",
        "            pil = load_pil(self.set_path, self.fid)\n",
        "        else:\n",
        "            pil = lib.kandinskyFigureAsImage(self.f, width=224)\n",
        "            save_pil(set_path, fid, pil)\n",
        "            #pil.save(png_path_format%(set_path, fid))            \n",
        "            \n",
        "        self.x = {            \n",
        "            'fig': self.f,\n",
        "            'pil': pil,\n",
        "            'arr': array(pil)/255,\n",
        "            #'url': pil.save(path)\n",
        "        }\n",
        "        self.y_raw = {\n",
        "            'pos': 'N() über x⨉y',\n",
        "            '|*|': len(self.f),\n",
        "            '|r|': count_color(self.f ,'red'),\n",
        "            '|g|': count_color(self.f ,'green'),\n",
        "            '|b|': count_color(self.f ,'blue'),\n",
        "            '|◯|': count_shape(self.f ,'circle'),\n",
        "            '|□|': count_shape(self.f ,'rectangle'),\n",
        "            '|△|': count_shape(self.f ,'trinangle'),\n",
        "            'viele kleine': True,\n",
        "            'viele kleine links': True,        \n",
        "        }\n",
        "        self.y = {\n",
        "            'encpos': to_onehot(1, 3),\n",
        "            'enc|*|': to_onehot(self.y_raw['|*|'], max_count),\n",
        "            'enc|r|': to_onehot(self.y_raw['|r|'], max_count),\n",
        "            'enc|g|': to_onehot(self.y_raw['|g|'], max_count),\n",
        "            'enc|b|': to_onehot(self.y_raw['|b|'], max_count),        \n",
        "            'enc|◯|': to_onehot(self.y_raw['|◯|'], max_count),\n",
        "            'enc|□|': to_onehot(self.y_raw['|□|'], max_count),\n",
        "            'enc|△|': to_onehot(self.y_raw['|△|'], max_count),        \n",
        "            #'|r|>|g|': True,\n",
        "            #'|r|>|b|': True,\n",
        "            #'|g|>|r|': False,\n",
        "            #'|g|>|b|': True,\n",
        "            #'|b|>|r|': False,\n",
        "            #'|b|>|g|': False,        \n",
        "            #'1 großes': True,\n",
        "            #'1 großes rotes': True,\n",
        "            #'x links von y': True,\n",
        "            #'x über y': True,\n",
        "            #'cap': []\n",
        "        }    \n",
        "    def __str__(self):\n",
        "        # oooooo dreckig xD - aber wie sonst plotten?\n",
        "        print(self.x['arr'].shape, \"[{:.2f}…{:.2f}]\".format(np.min(self.x['arr']), np.max(self.x['arr'])))        \n",
        "        plt.imshow(self.x['pil'])\n",
        "        plt.show()\n",
        "        [print(f) for f in self.f]\n",
        "        return \"%s/I%d\"%(self.set_path, self.fid)\n",
        "        \n",
        "    def compileX(self):      \n",
        "        return self.x['arr']    \n",
        "    \n",
        "    def compileY(self):\n",
        "        #return [ *self.y['enc|*|'], *self.y['enc|r|'] ]\n",
        "        return [ *self.y['enc|*|'] ]\n",
        "                \n",
        "    def compilePandaColumns(self):\n",
        "        return { \n",
        "            **{\n",
        "                'shape': self.x['arr'].shape, \n",
        "                #'path': \"%s/%d\"%(self.set_path,self.fid),                \n",
        "                #'X': self.compileX(),\n",
        "                'file': \"img%05d.png\"%self.fid,\n",
        "                'YasStr': '%d red circles'%self.y_raw['|r|']\n",
        "            },\n",
        "            **self.y_raw,\n",
        "            **self.y\n",
        "        }\n"
      ],
      "execution_count": 0,
      "outputs": []
    },
    {
      "cell_type": "code",
      "metadata": {
        "id": "uobAU6VL5qcM",
        "colab_type": "code",
        "outputId": "2c50e6b0-a2de-440e-d0a0-674a836ce344",
        "colab": {
          "base_uri": "https://localhost:8080/",
          "height": 676
        }
      },
      "source": [
        "#@title Create a Sample { vertical-output: true, output-height: 500 }\n",
        "%%time\n",
        "\n",
        "example = Sample('single_sample', 0)\n",
        "print(\"Sample s=\", example)\n",
        "[print(k, ':', v) for k, v in example.y_raw.items()];\n",
        "[print(k, ':', v) for k, v in example.y.items()];"
      ],
      "execution_count": 6,
      "outputs": [
        {
          "output_type": "stream",
          "text": [
            "Sample s= (224, 224, 3) [0.00…1.00]\n"
          ],
          "name": "stdout"
        },
        {
          "output_type": "display_data",
          "data": {
            "image/png": "[encoded data removed]",
            "text/plain": [
              "<Figure size 432x288 with 1 Axes>"
            ]
          },
          "metadata": {
            "tags": []
          }
        },
        {
          "output_type": "stream",
          "text": [
            "yellow circle (0.5867385235649272,0.5339602164909082,0.34149577587852975)\n",
            "red circle (0.2585120429925839,0.7484490602357123,0.8544736560192565)\n",
            "orange circle (0.32978234246373994,0.21571468153247444,0.6229095344887661)\n",
            "single_sample/I0\n",
            "pos : N() über x⨉y\n",
            "|*| : 3\n",
            "|r| : 1\n",
            "|g| : 0\n",
            "|b| : 0\n",
            "|◯| : 3\n",
            "|□| : 0\n",
            "|△| : 0\n",
            "viele kleine : True\n",
            "viele kleine links : True\n",
            "encpos : [0, 1, 0]\n",
            "enc|*| : [0, 0, 0, 1, 0, 0, 0, 0, 0]\n",
            "enc|r| : [0, 1, 0, 0, 0, 0, 0, 0, 0]\n",
            "enc|g| : [1, 0, 0, 0, 0, 0, 0, 0, 0]\n",
            "enc|b| : [1, 0, 0, 0, 0, 0, 0, 0, 0]\n",
            "enc|◯| : [0, 0, 0, 1, 0, 0, 0, 0, 0]\n",
            "enc|□| : [1, 0, 0, 0, 0, 0, 0, 0, 0]\n",
            "enc|△| : [1, 0, 0, 0, 0, 0, 0, 0, 0]\n",
            "CPU times: user 250 ms, sys: 134 ms, total: 384 ms\n",
            "Wall time: 263 ms\n"
          ],
          "name": "stdout"
        }
      ]
    },
    {
      "cell_type": "code",
      "metadata": {
        "id": "UYB_1h6Y709A",
        "colab_type": "code",
        "colab": {
          "base_uri": "https://localhost:8080/",
          "height": 33
        },
        "outputId": "e12e79ce-9654-468a-d15e-4bfdc04f3e36"
      },
      "source": [
        "#@title Sample Y encoded { vertical-output: true, output-height: 500 }\n",
        "\n",
        "example.compileY()"
      ],
      "execution_count": 7,
      "outputs": [
        {
          "output_type": "execute_result",
          "data": {
            "text/plain": [
              "[0, 0, 0, 1, 0, 0, 0, 0, 0]"
            ]
          },
          "metadata": {
            "tags": []
          },
          "execution_count": 7
        }
      ]
    },
    {
      "cell_type": "code",
      "metadata": {
        "id": "U-NYZJ8zkOJk",
        "colab_type": "code",
        "colab": {
          "base_uri": "https://localhost:8080/",
          "height": 676
        },
        "outputId": "6c7913ed-223e-4804-8651-88dfd20ac15e"
      },
      "source": [
        "#@title Reload this Sample { vertical-output: true, output-height: 500 }\n",
        "%%time\n",
        "\n",
        "example_loaded = Sample('single_sample', 0)\n",
        "print(\"Sample l=\", example_loaded)\n",
        "[print(k, ':', v) for k, v in example_loaded.y_raw.items()];\n",
        "[print(k, ':', v) for k, v in example_loaded.y.items()];"
      ],
      "execution_count": 11,
      "outputs": [
        {
          "output_type": "stream",
          "text": [
            "Sample l= (224, 224, 3) [0.00…1.00]\n"
          ],
          "name": "stdout"
        },
        {
          "output_type": "display_data",
          "data": {
            "image/png": "[encoded data removed]",
            "text/plain": [
              "<Figure size 432x288 with 1 Axes>"
            ]
          },
          "metadata": {
            "tags": []
          }
        },
        {
          "output_type": "stream",
          "text": [
            "yellow circle (0.5867385235649272,0.5339602164909082,0.34149577587852975)\n",
            "red circle (0.2585120429925839,0.7484490602357123,0.8544736560192565)\n",
            "orange circle (0.32978234246373994,0.21571468153247444,0.6229095344887661)\n",
            "single_sample/I0\n",
            "pos : N() über x⨉y\n",
            "|*| : 3\n",
            "|r| : 1\n",
            "|g| : 0\n",
            "|b| : 0\n",
            "|◯| : 3\n",
            "|□| : 0\n",
            "|△| : 0\n",
            "viele kleine : True\n",
            "viele kleine links : True\n",
            "encpos : [0, 1, 0]\n",
            "enc|*| : [0, 0, 0, 1, 0, 0, 0, 0, 0]\n",
            "enc|r| : [0, 1, 0, 0, 0, 0, 0, 0, 0]\n",
            "enc|g| : [1, 0, 0, 0, 0, 0, 0, 0, 0]\n",
            "enc|b| : [1, 0, 0, 0, 0, 0, 0, 0, 0]\n",
            "enc|◯| : [0, 0, 0, 1, 0, 0, 0, 0, 0]\n",
            "enc|□| : [1, 0, 0, 0, 0, 0, 0, 0, 0]\n",
            "enc|△| : [1, 0, 0, 0, 0, 0, 0, 0, 0]\n",
            "CPU times: user 202 ms, sys: 103 ms, total: 305 ms\n",
            "Wall time: 177 ms\n"
          ],
          "name": "stdout"
        }
      ]
    },
    {
      "cell_type": "markdown",
      "metadata": {
        "id": "0CS2s-cHZthF",
        "colab_type": "text"
      },
      "source": [
        " # Ok, we have a Sample class - Lets make a Batch of Samples"
      ]
    },
    {
      "cell_type": "code",
      "metadata": {
        "id": "njkKyHsRAqGq",
        "colab_type": "code",
        "outputId": "1fff84e6-49d0-4c99-83ca-fe77eb292839",
        "colab": {
          "base_uri": "https://localhost:8080/",
          "height": 321
        }
      },
      "source": [
        "#@title First Batch { vertical-output: true }\n",
        "%%time\n",
        "first_batch_size = 100 #@param {type:\"slider\", min:1, max:200, step:5}\n",
        "def generate_batch(set_path, batch_size, batch_index):  \n",
        "    #print('generating', n_samples)\n",
        "    X = list()\n",
        "    y = list()\n",
        "    c = list()\n",
        "    for i in range(0, batch_size):\n",
        "        n = Sample(set_path, batch_index * batch_size + i)\n",
        "        X.append(n.compileX())\n",
        "        y.append(n.compileY())        \n",
        "        c.append(n.compilePandaColumns())    \n",
        "\n",
        "    return array(X), array(y), pd.DataFrame(data=c)\n",
        "\n",
        "A, b, f = generate_batch('view_batch', first_batch_size, 0)\n",
        "#.filter(regex ='^enc.*').head()\n",
        "\n",
        "display(f.filter(regex='^(?!(enc|X))').head())"
      ],
      "execution_count": 12,
      "outputs": [
        {
          "output_type": "display_data",
          "data": {
            "text/html": [
              "<div>\n",
              "<style scoped>\n",
              "    .dataframe tbody tr th:only-of-type {\n",
              "        vertical-align: middle;\n",
              "    }\n",
              "\n",
              "    .dataframe tbody tr th {\n",
              "        vertical-align: top;\n",
              "    }\n",
              "\n",
              "    .dataframe thead th {\n",
              "        text-align: right;\n",
              "    }\n",
              "</style>\n",
              "<table border=\"1\" class=\"dataframe\">\n",
              "  <thead>\n",
              "    <tr style=\"text-align: right;\">\n",
              "      <th></th>\n",
              "      <th>YasStr</th>\n",
              "      <th>file</th>\n",
              "      <th>pos</th>\n",
              "      <th>shape</th>\n",
              "      <th>viele kleine</th>\n",
              "      <th>viele kleine links</th>\n",
              "      <th>|*|</th>\n",
              "      <th>|b|</th>\n",
              "      <th>|g|</th>\n",
              "      <th>|r|</th>\n",
              "      <th>|□|</th>\n",
              "      <th>|△|</th>\n",
              "      <th>|◯|</th>\n",
              "    </tr>\n",
              "  </thead>\n",
              "  <tbody>\n",
              "    <tr>\n",
              "      <th>0</th>\n",
              "      <td>2 red circles</td>\n",
              "      <td>img00000.png</td>\n",
              "      <td>N() über x⨉y</td>\n",
              "      <td>(224, 224, 3)</td>\n",
              "      <td>True</td>\n",
              "      <td>True</td>\n",
              "      <td>14</td>\n",
              "      <td>3</td>\n",
              "      <td>2</td>\n",
              "      <td>2</td>\n",
              "      <td>0</td>\n",
              "      <td>0</td>\n",
              "      <td>14</td>\n",
              "    </tr>\n",
              "    <tr>\n",
              "      <th>1</th>\n",
              "      <td>1 red circles</td>\n",
              "      <td>img00001.png</td>\n",
              "      <td>N() über x⨉y</td>\n",
              "      <td>(224, 224, 3)</td>\n",
              "      <td>True</td>\n",
              "      <td>True</td>\n",
              "      <td>8</td>\n",
              "      <td>1</td>\n",
              "      <td>3</td>\n",
              "      <td>1</td>\n",
              "      <td>0</td>\n",
              "      <td>0</td>\n",
              "      <td>8</td>\n",
              "    </tr>\n",
              "    <tr>\n",
              "      <th>2</th>\n",
              "      <td>0 red circles</td>\n",
              "      <td>img00002.png</td>\n",
              "      <td>N() über x⨉y</td>\n",
              "      <td>(224, 224, 3)</td>\n",
              "      <td>True</td>\n",
              "      <td>True</td>\n",
              "      <td>2</td>\n",
              "      <td>1</td>\n",
              "      <td>0</td>\n",
              "      <td>0</td>\n",
              "      <td>0</td>\n",
              "      <td>0</td>\n",
              "      <td>2</td>\n",
              "    </tr>\n",
              "    <tr>\n",
              "      <th>3</th>\n",
              "      <td>0 red circles</td>\n",
              "      <td>img00003.png</td>\n",
              "      <td>N() über x⨉y</td>\n",
              "      <td>(224, 224, 3)</td>\n",
              "      <td>True</td>\n",
              "      <td>True</td>\n",
              "      <td>6</td>\n",
              "      <td>3</td>\n",
              "      <td>2</td>\n",
              "      <td>0</td>\n",
              "      <td>0</td>\n",
              "      <td>0</td>\n",
              "      <td>6</td>\n",
              "    </tr>\n",
              "    <tr>\n",
              "      <th>4</th>\n",
              "      <td>1 red circles</td>\n",
              "      <td>img00004.png</td>\n",
              "      <td>N() über x⨉y</td>\n",
              "      <td>(224, 224, 3)</td>\n",
              "      <td>True</td>\n",
              "      <td>True</td>\n",
              "      <td>12</td>\n",
              "      <td>2</td>\n",
              "      <td>2</td>\n",
              "      <td>1</td>\n",
              "      <td>0</td>\n",
              "      <td>0</td>\n",
              "      <td>12</td>\n",
              "    </tr>\n",
              "  </tbody>\n",
              "</table>\n",
              "</div>"
            ],
            "text/plain": [
              "          YasStr          file           pos          shape  ...  |r|  |□|  |△|  |◯|\n",
              "0  2 red circles  img00000.png  N() über x⨉y  (224, 224, 3)  ...    2    0    0   14\n",
              "1  1 red circles  img00001.png  N() über x⨉y  (224, 224, 3)  ...    1    0    0    8\n",
              "2  0 red circles  img00002.png  N() über x⨉y  (224, 224, 3)  ...    0    0    0    2\n",
              "3  0 red circles  img00003.png  N() über x⨉y  (224, 224, 3)  ...    0    0    0    6\n",
              "4  1 red circles  img00004.png  N() über x⨉y  (224, 224, 3)  ...    1    0    0   12\n",
              "\n",
              "[5 rows x 13 columns]"
            ]
          },
          "metadata": {
            "tags": []
          }
        },
        {
          "output_type": "stream",
          "text": [
            "CPU times: user 1.82 s, sys: 250 ms, total: 2.07 s\n",
            "Wall time: 2.1 s\n"
          ],
          "name": "stdout"
        }
      ]
    },
    {
      "cell_type": "code",
      "metadata": {
        "id": "hVW1pUGRBL_f",
        "colab_type": "code",
        "colab": {
          "base_uri": "https://localhost:8080/",
          "height": 328
        },
        "outputId": "ecb6d92c-ff29-4396-b023-3d8d3f0d88c5"
      },
      "source": [
        "#@title Label Distribution of Batch, using pandaframe f { vertical-output: true }\n",
        "\n",
        "fig = plt.figure(figsize=(15, 3))\n",
        "print(f.shape)\n",
        "f.hist(column='|*|',          rwidth=.9, ax=fig.add_subplot(141)) # Divide into a 1x4 grid, give first section\n",
        "f.hist(column='|r|',          rwidth=.9, ax=fig.add_subplot(142))\n",
        "f.hist(column='|◯|',          rwidth=.9, ax=fig.add_subplot(143))\n",
        "f.hist(column='viele kleine', rwidth=.9, ax=fig.add_subplot(144))"
      ],
      "execution_count": 13,
      "outputs": [
        {
          "output_type": "stream",
          "text": [
            "(100, 21)\n"
          ],
          "name": "stdout"
        },
        {
          "output_type": "stream",
          "text": [
            "/usr/local/lib/python3.6/dist-packages/numpy/lib/histograms.py:778: RuntimeWarning: Converting input from bool to <class 'numpy.uint8'> for compatibility.\n",
            "  a, weights = _ravel_and_check_weights(a, weights)\n"
          ],
          "name": "stderr"
        },
        {
          "output_type": "execute_result",
          "data": {
            "text/plain": [
              "array([<matplotlib.axes._subplots.AxesSubplot object at 0x7f8a03e90f28>],\n",
              "      dtype=object)"
            ]
          },
          "metadata": {
            "tags": []
          },
          "execution_count": 13
        },
        {
          "output_type": "display_data",
          "data": {
            "image/png": "[encoded data removed]",
            "text/plain": [
              "<Figure size 1080x216 with 4 Axes>"
            ]
          },
          "metadata": {
            "tags": []
          }
        }
      ]
    },
    {
      "cell_type": "markdown",
      "metadata": {
        "id": "hHy0QUrfCyWD",
        "colab_type": "text"
      },
      "source": [
        "# A Datagenerator is used to create images an figure pickles of train/test/val sets"
      ]
    },
    {
      "cell_type": "code",
      "metadata": {
        "id": "yH9Ip5Y7lM26",
        "colab_type": "code",
        "colab": {}
      },
      "source": [
        "# https://github.com/keras-team/keras/issues/12586\n",
        "from tensorflow.python.keras.utils.data_utils import Sequence\n",
        "\n",
        "class DataGenerator(Sequence):\n",
        "#class DataGenerator(keras.utils.Sequence):  \n",
        "    'Generates kandinsky data for Keras'\n",
        "    def __init__(self, set_path=\"err\", samples=1000, batch_size=32, in_dim=None, out_dim=None):        \n",
        "        self.set_path = set_path\n",
        "        self.n_samples = samples\n",
        "        \n",
        "        self.batch_size = batch_size\n",
        "        \n",
        "        self.in_dim = in_dim                \n",
        "        self.out_dim = out_dim\n",
        "        \n",
        "        print('DataGenerator', self.set_path, \"samples=\", self.n_samples, \"batchsize=\", self.batch_size, \"len=\", int(np.floor(self.n_samples / self.batch_size)))\n",
        "        \n",
        "    def __len__(self):\n",
        "        'Denotes the number of batches per epoch'        \n",
        "        return int(np.floor(self.n_samples / self.batch_size))\n",
        "\n",
        "    def __getitem__(self, idx): \n",
        "        #indexes = self.indexes[index * self.batch_size : (index+1) * self.batch_size]        \n",
        "        #ids = [\"%d\"%k for k in indexes]        \n",
        "        X, y, f = generate_batch(self.set_path, self.batch_size, idx)        \n",
        "        self.panda = self.panda.append(f)        \n",
        "        return X, y\n",
        "    \n",
        "    def render(self):\n",
        "        self.panda = pd.DataFrame()\n",
        "        for s in range(len(self)):\n",
        "            self[s]\n",
        "        print(len(self), self.set_path, \"Batches touched\")\n",
        "        return self"
      ],
      "execution_count": 0,
      "outputs": []
    },
    {
      "cell_type": "code",
      "metadata": {
        "id": "tgCcCiBz4mFt",
        "colab_type": "code",
        "outputId": "83affe69-2f07-47d6-fd8a-0510946e7185",
        "colab": {
          "base_uri": "https://localhost:8080/",
          "height": 147
        }
      },
      "source": [
        "#@title Data Generators for train/test/val { vertical-output: true }\n",
        "%%time\n",
        "batch_size      = 36 #@param {type:\"slider\", min:1, max:200, step:5}\n",
        "training_size   = 2000 #@param {type:\"slider\", min:1000, max:20000, step:100}\n",
        "validation_size = 200 #@param {type:\"slider\", min:10, max:500, step:10}\n",
        "test_size       = 200 #@param {type:\"slider\", min:10, max:500, step:10}\n",
        "            \n",
        "params = {\n",
        "    'batch_size': batch_size,\n",
        "    'in_dim': input_shape,    \n",
        "    'out_dim': output_shape\n",
        "}\n",
        "\n",
        "training_generator =   DataGenerator(set_path=\"train\", samples=training_size, **params).render()\n",
        "validation_generator = DataGenerator(set_path=\"test\",  samples=validation_size, **params).render()\n",
        "test_generator =       DataGenerator(set_path=\"valid\", samples=test_size, **params).render()\n",
        "\n",
        "#raining_generator.panda.filter(regex='^(?!(enc|X))').head()"
      ],
      "execution_count": 15,
      "outputs": [
        {
          "output_type": "stream",
          "text": [
            "DataGenerator train samples= 2000 batchsize= 36 len= 55\n",
            "55 train Batches touched\n",
            "DataGenerator test samples= 200 batchsize= 36 len= 5\n",
            "5 test Batches touched\n",
            "DataGenerator valid samples= 200 batchsize= 36 len= 5\n",
            "5 valid Batches touched\n",
            "CPU times: user 43.5 s, sys: 1.95 s, total: 45.4 s\n",
            "Wall time: 45.4 s\n"
          ],
          "name": "stdout"
        }
      ]
    },
    {
      "cell_type": "code",
      "metadata": {
        "id": "C5LRiswpRHiS",
        "colab_type": "code",
        "colab": {
          "base_uri": "https://localhost:8080/",
          "height": 147
        },
        "outputId": "5b8e847c-ce08-4b57-b9a3-a59b50ff7b92"
      },
      "source": [
        "#@title Second time sould be Faster. (images are already cached) { vertical-output: true }\n",
        "%%time\n",
        "training_generator =   DataGenerator(set_path=\"train\", samples=training_size, **params).render()\n",
        "validation_generator = DataGenerator(set_path=\"test\",  samples=validation_size, **params).render()\n",
        "test_generator =       DataGenerator(set_path=\"valid\", samples=test_size, **params).render()"
      ],
      "execution_count": 16,
      "outputs": [
        {
          "output_type": "stream",
          "text": [
            "DataGenerator train samples= 2000 batchsize= 36 len= 55\n",
            "55 train Batches touched\n",
            "DataGenerator test samples= 200 batchsize= 36 len= 5\n",
            "5 test Batches touched\n",
            "DataGenerator valid samples= 200 batchsize= 36 len= 5\n",
            "5 valid Batches touched\n",
            "CPU times: user 5.84 s, sys: 240 ms, total: 6.09 s\n",
            "Wall time: 6.08 s\n"
          ],
          "name": "stdout"
        }
      ]
    },
    {
      "cell_type": "code",
      "metadata": {
        "id": "4KrKmB1lEUmJ",
        "colab_type": "code",
        "colab": {
          "base_uri": "https://localhost:8080/",
          "height": 305
        },
        "outputId": "f1ec5ad9-8ccf-4b15-f365-899d6f0338ac"
      },
      "source": [
        "#@title Label Distribution for Train/Test/Val { vertical-output: true }\n",
        "print(training_generator.panda.shape)\n",
        "training_generator.panda.filter(regex='^(?!(enc|X))').head()"
      ],
      "execution_count": 17,
      "outputs": [
        {
          "output_type": "stream",
          "text": [
            "(1980, 21)\n"
          ],
          "name": "stdout"
        },
        {
          "output_type": "execute_result",
          "data": {
            "text/html": [
              "<div>\n",
              "<style scoped>\n",
              "    .dataframe tbody tr th:only-of-type {\n",
              "        vertical-align: middle;\n",
              "    }\n",
              "\n",
              "    .dataframe tbody tr th {\n",
              "        vertical-align: top;\n",
              "    }\n",
              "\n",
              "    .dataframe thead th {\n",
              "        text-align: right;\n",
              "    }\n",
              "</style>\n",
              "<table border=\"1\" class=\"dataframe\">\n",
              "  <thead>\n",
              "    <tr style=\"text-align: right;\">\n",
              "      <th></th>\n",
              "      <th>YasStr</th>\n",
              "      <th>file</th>\n",
              "      <th>pos</th>\n",
              "      <th>shape</th>\n",
              "      <th>viele kleine</th>\n",
              "      <th>viele kleine links</th>\n",
              "      <th>|*|</th>\n",
              "      <th>|b|</th>\n",
              "      <th>|g|</th>\n",
              "      <th>|r|</th>\n",
              "      <th>|□|</th>\n",
              "      <th>|△|</th>\n",
              "      <th>|◯|</th>\n",
              "    </tr>\n",
              "  </thead>\n",
              "  <tbody>\n",
              "    <tr>\n",
              "      <th>0</th>\n",
              "      <td>2 red circles</td>\n",
              "      <td>img00000.png</td>\n",
              "      <td>N() über x⨉y</td>\n",
              "      <td>(224, 224, 3)</td>\n",
              "      <td>True</td>\n",
              "      <td>True</td>\n",
              "      <td>5</td>\n",
              "      <td>0</td>\n",
              "      <td>0</td>\n",
              "      <td>2</td>\n",
              "      <td>0</td>\n",
              "      <td>0</td>\n",
              "      <td>5</td>\n",
              "    </tr>\n",
              "    <tr>\n",
              "      <th>1</th>\n",
              "      <td>1 red circles</td>\n",
              "      <td>img00001.png</td>\n",
              "      <td>N() über x⨉y</td>\n",
              "      <td>(224, 224, 3)</td>\n",
              "      <td>True</td>\n",
              "      <td>True</td>\n",
              "      <td>6</td>\n",
              "      <td>3</td>\n",
              "      <td>1</td>\n",
              "      <td>1</td>\n",
              "      <td>0</td>\n",
              "      <td>0</td>\n",
              "      <td>6</td>\n",
              "    </tr>\n",
              "    <tr>\n",
              "      <th>2</th>\n",
              "      <td>3 red circles</td>\n",
              "      <td>img00002.png</td>\n",
              "      <td>N() über x⨉y</td>\n",
              "      <td>(224, 224, 3)</td>\n",
              "      <td>True</td>\n",
              "      <td>True</td>\n",
              "      <td>10</td>\n",
              "      <td>0</td>\n",
              "      <td>3</td>\n",
              "      <td>3</td>\n",
              "      <td>0</td>\n",
              "      <td>0</td>\n",
              "      <td>10</td>\n",
              "    </tr>\n",
              "    <tr>\n",
              "      <th>3</th>\n",
              "      <td>1 red circles</td>\n",
              "      <td>img00003.png</td>\n",
              "      <td>N() über x⨉y</td>\n",
              "      <td>(224, 224, 3)</td>\n",
              "      <td>True</td>\n",
              "      <td>True</td>\n",
              "      <td>8</td>\n",
              "      <td>4</td>\n",
              "      <td>1</td>\n",
              "      <td>1</td>\n",
              "      <td>0</td>\n",
              "      <td>0</td>\n",
              "      <td>8</td>\n",
              "    </tr>\n",
              "    <tr>\n",
              "      <th>4</th>\n",
              "      <td>0 red circles</td>\n",
              "      <td>img00004.png</td>\n",
              "      <td>N() über x⨉y</td>\n",
              "      <td>(224, 224, 3)</td>\n",
              "      <td>True</td>\n",
              "      <td>True</td>\n",
              "      <td>2</td>\n",
              "      <td>1</td>\n",
              "      <td>0</td>\n",
              "      <td>0</td>\n",
              "      <td>0</td>\n",
              "      <td>0</td>\n",
              "      <td>2</td>\n",
              "    </tr>\n",
              "  </tbody>\n",
              "</table>\n",
              "</div>"
            ],
            "text/plain": [
              "          YasStr          file           pos          shape  ...  |r|  |□|  |△|  |◯|\n",
              "0  2 red circles  img00000.png  N() über x⨉y  (224, 224, 3)  ...    2    0    0    5\n",
              "1  1 red circles  img00001.png  N() über x⨉y  (224, 224, 3)  ...    1    0    0    6\n",
              "2  3 red circles  img00002.png  N() über x⨉y  (224, 224, 3)  ...    3    0    0   10\n",
              "3  1 red circles  img00003.png  N() über x⨉y  (224, 224, 3)  ...    1    0    0    8\n",
              "4  0 red circles  img00004.png  N() über x⨉y  (224, 224, 3)  ...    0    0    0    2\n",
              "\n",
              "[5 rows x 13 columns]"
            ]
          },
          "metadata": {
            "tags": []
          },
          "execution_count": 17
        }
      ]
    },
    {
      "cell_type": "code",
      "metadata": {
        "id": "Yb7v2pz7BE_a",
        "colab_type": "code",
        "colab": {
          "base_uri": "https://localhost:8080/",
          "height": 328
        },
        "outputId": "d9d36669-975c-43f9-b42a-ebde66ddcbc1"
      },
      "source": [
        "#@title Label Distribution for Train { vertical-output: true }\n",
        "\n",
        "print(training_generator.panda.shape)\n",
        "training_generator.panda.head()\n",
        "\n",
        "fig = plt.figure(figsize=(15, 3))\n",
        "training_generator.panda.hist(column='|*|', rwidth=.9, ax=fig.add_subplot(141))\n",
        "training_generator.panda.hist(column='|r|', rwidth=.9, ax=fig.add_subplot(142))\n",
        "training_generator.panda.hist(column='|◯|', rwidth=.9, ax=fig.add_subplot(143))\n",
        "f.hist(column='viele kleine',               rwidth=.9, ax=fig.add_subplot(144))"
      ],
      "execution_count": 18,
      "outputs": [
        {
          "output_type": "stream",
          "text": [
            "(1980, 21)\n"
          ],
          "name": "stdout"
        },
        {
          "output_type": "stream",
          "text": [
            "/usr/local/lib/python3.6/dist-packages/numpy/lib/histograms.py:778: RuntimeWarning: Converting input from bool to <class 'numpy.uint8'> for compatibility.\n",
            "  a, weights = _ravel_and_check_weights(a, weights)\n"
          ],
          "name": "stderr"
        },
        {
          "output_type": "execute_result",
          "data": {
            "text/plain": [
              "array([<matplotlib.axes._subplots.AxesSubplot object at 0x7f8a03ab6cc0>],\n",
              "      dtype=object)"
            ]
          },
          "metadata": {
            "tags": []
          },
          "execution_count": 18
        },
        {
          "output_type": "display_data",
          "data": {
            "image/png": "[encoded data removed]",
            "text/plain": [
              "<Figure size 1080x216 with 4 Axes>"
            ]
          },
          "metadata": {
            "tags": []
          }
        }
      ]
    },
    {
      "cell_type": "markdown",
      "metadata": {
        "id": "Ardg2UiTH2W_",
        "colab_type": "text"
      },
      "source": [
        "# Data is ready - Time for CGG16"
      ]
    },
    {
      "cell_type": "code",
      "metadata": {
        "id": "lNmbDnA385Aj",
        "colab_type": "code",
        "colab": {
          "base_uri": "https://localhost:8080/",
          "height": 3185
        },
        "outputId": "adf70707-d56f-423e-d6e1-0b8e38199475"
      },
      "source": [
        "#@title Download VGG16 { vertical-output: true, output-height: 400 }\n",
        "from tensorflow.python.keras.applications import VGG16\n",
        "\n",
        "vgg16model = VGG16(include_top=True, weights='imagenet')\n",
        "vgg16model.summary()\n",
        "SVG(keras.utils.vis_utils.model_to_dot(vgg16model).create(prog='dot', format='svg'))"
      ],
      "execution_count": 19,
      "outputs": [
        {
          "output_type": "stream",
          "text": [
            "WARNING:tensorflow:From /usr/local/lib/python3.6/dist-packages/tensorflow/python/ops/resource_variable_ops.py:435: colocate_with (from tensorflow.python.framework.ops) is deprecated and will be removed in a future version.\n",
            "Instructions for updating:\n",
            "Colocations handled automatically by placer.\n",
            "Downloading data from https://github.com/fchollet/deep-learning-models/releases/download/v0.1/vgg16_weights_tf_dim_ordering_tf_kernels.h5\n",
            "553467904/553467096 [==============================] - 6s 0us/step\n",
            "_________________________________________________________________\n",
            "Layer (type)                 Output Shape              Param #   \n",
            "=================================================================\n",
            "input_1 (InputLayer)         (None, 224, 224, 3)       0         \n",
            "_________________________________________________________________\n",
            "block1_conv1 (Conv2D)        (None, 224, 224, 64)      1792      \n",
            "_________________________________________________________________\n",
            "block1_conv2 (Conv2D)        (None, 224, 224, 64)      36928     \n",
            "_________________________________________________________________\n",
            "block1_pool (MaxPooling2D)   (None, 112, 112, 64)      0         \n",
            "_________________________________________________________________\n",
            "block2_conv1 (Conv2D)        (None, 112, 112, 128)     73856     \n",
            "_________________________________________________________________\n",
            "block2_conv2 (Conv2D)        (None, 112, 112, 128)     147584    \n",
            "_________________________________________________________________\n",
            "block2_pool (MaxPooling2D)   (None, 56, 56, 128)       0         \n",
            "_________________________________________________________________\n",
            "block3_conv1 (Conv2D)        (None, 56, 56, 256)       295168    \n",
            "_________________________________________________________________\n",
            "block3_conv2 (Conv2D)        (None, 56, 56, 256)       590080    \n",
            "_________________________________________________________________\n",
            "block3_conv3 (Conv2D)        (None, 56, 56, 256)       590080    \n",
            "_________________________________________________________________\n",
            "block3_pool (MaxPooling2D)   (None, 28, 28, 256)       0         \n",
            "_________________________________________________________________\n",
            "block4_conv1 (Conv2D)        (None, 28, 28, 512)       1180160   \n",
            "_________________________________________________________________\n",
            "block4_conv2 (Conv2D)        (None, 28, 28, 512)       2359808   \n",
            "_________________________________________________________________\n",
            "block4_conv3 (Conv2D)        (None, 28, 28, 512)       2359808   \n",
            "_________________________________________________________________\n",
            "block4_pool (MaxPooling2D)   (None, 14, 14, 512)       0         \n",
            "_________________________________________________________________\n",
            "block5_conv1 (Conv2D)        (None, 14, 14, 512)       2359808   \n",
            "_________________________________________________________________\n",
            "block5_conv2 (Conv2D)        (None, 14, 14, 512)       2359808   \n",
            "_________________________________________________________________\n",
            "block5_conv3 (Conv2D)        (None, 14, 14, 512)       2359808   \n",
            "_________________________________________________________________\n",
            "block5_pool (MaxPooling2D)   (None, 7, 7, 512)         0         \n",
            "_________________________________________________________________\n",
            "flatten (Flatten)            (None, 25088)             0         \n",
            "_________________________________________________________________\n",
            "fc1 (Dense)                  (None, 4096)              102764544 \n",
            "_________________________________________________________________\n",
            "fc2 (Dense)                  (None, 4096)              16781312  \n",
            "_________________________________________________________________\n",
            "predictions (Dense)          (None, 1000)              4097000   \n",
            "=================================================================\n",
            "Total params: 138,357,544\n",
            "Trainable params: 138,357,544\n",
            "Non-trainable params: 0\n",
            "_________________________________________________________________\n"
          ],
          "name": "stdout"
        },
        {
          "output_type": "execute_result",
          "data": {
            "text/plain": [
              "<IPython.core.display.SVG object>"
            ],
            "image/svg+xml": "<svg height=\"1651pt\" viewBox=\"0.00 0.00 196.00 1651.00\" width=\"196pt\" xmlns=\"http://www.w3.org/2000/svg\" xmlns:xlink=\"http://www.w3.org/1999/xlink\">\n<g class=\"graph\" id=\"graph0\" transform=\"scale(1 1) rotate(0) translate(4 1647)\">\n<title>G</title>\n<polygon fill=\"#ffffff\" points=\"-4,4 -4,-1647 192,-1647 192,4 -4,4\" stroke=\"transparent\"/>\n<!-- 140230744959464 -->\n<g class=\"node\" id=\"node1\">\n<title>140230744959464</title>\n<polygon fill=\"none\" points=\"27.5,-1606.5 27.5,-1642.5 160.5,-1642.5 160.5,-1606.5 27.5,-1606.5\" stroke=\"#000000\"/>\n<text fill=\"#000000\" font-family=\"Times,serif\" font-size=\"14.00\" text-anchor=\"middle\" x=\"94\" y=\"-1620.8\">input_1: InputLayer</text>\n</g>\n<!-- 140230793002456 -->\n<g class=\"node\" id=\"node2\">\n<title>140230793002456</title>\n<polygon fill=\"none\" points=\"15,-1533.5 15,-1569.5 173,-1569.5 173,-1533.5 15,-1533.5\" stroke=\"#000000\"/>\n<text fill=\"#000000\" font-family=\"Times,serif\" font-size=\"14.00\" text-anchor=\"middle\" x=\"94\" y=\"-1547.8\">block1_conv1: Conv2D</text>\n</g>\n<!-- 140230744959464&#45;&gt;140230793002456 -->\n<g class=\"edge\" id=\"edge1\">\n<title>140230744959464-&gt;140230793002456</title>\n<path d=\"M94,-1606.4551C94,-1598.3828 94,-1588.6764 94,-1579.6817\" fill=\"none\" stroke=\"#000000\"/>\n<polygon fill=\"#000000\" points=\"97.5001,-1579.5903 94,-1569.5904 90.5001,-1579.5904 97.5001,-1579.5903\" stroke=\"#000000\"/>\n</g>\n<!-- 140230746008040 -->\n<g class=\"node\" id=\"node3\">\n<title>140230746008040</title>\n<polygon fill=\"none\" points=\"15,-1460.5 15,-1496.5 173,-1496.5 173,-1460.5 15,-1460.5\" stroke=\"#000000\"/>\n<text fill=\"#000000\" font-family=\"Times,serif\" font-size=\"14.00\" text-anchor=\"middle\" x=\"94\" y=\"-1474.8\">block1_conv2: Conv2D</text>\n</g>\n<!-- 140230793002456&#45;&gt;140230746008040 -->\n<g class=\"edge\" id=\"edge2\">\n<title>140230793002456-&gt;140230746008040</title>\n<path d=\"M94,-1533.4551C94,-1525.3828 94,-1515.6764 94,-1506.6817\" fill=\"none\" stroke=\"#000000\"/>\n<polygon fill=\"#000000\" points=\"97.5001,-1506.5903 94,-1496.5904 90.5001,-1506.5904 97.5001,-1506.5903\" stroke=\"#000000\"/>\n</g>\n<!-- 140230745065008 -->\n<g class=\"node\" id=\"node4\">\n<title>140230745065008</title>\n<polygon fill=\"none\" points=\"0,-1387.5 0,-1423.5 188,-1423.5 188,-1387.5 0,-1387.5\" stroke=\"#000000\"/>\n<text fill=\"#000000\" font-family=\"Times,serif\" font-size=\"14.00\" text-anchor=\"middle\" x=\"94\" y=\"-1401.8\">block1_pool: MaxPooling2D</text>\n</g>\n<!-- 140230746008040&#45;&gt;140230745065008 -->\n<g class=\"edge\" id=\"edge3\">\n<title>140230746008040-&gt;140230745065008</title>\n<path d=\"M94,-1460.4551C94,-1452.3828 94,-1442.6764 94,-1433.6817\" fill=\"none\" stroke=\"#000000\"/>\n<polygon fill=\"#000000\" points=\"97.5001,-1433.5903 94,-1423.5904 90.5001,-1433.5904 97.5001,-1433.5903\" stroke=\"#000000\"/>\n</g>\n<!-- 140230793225216 -->\n<g class=\"node\" id=\"node5\">\n<title>140230793225216</title>\n<polygon fill=\"none\" points=\"15,-1314.5 15,-1350.5 173,-1350.5 173,-1314.5 15,-1314.5\" stroke=\"#000000\"/>\n<text fill=\"#000000\" font-family=\"Times,serif\" font-size=\"14.00\" text-anchor=\"middle\" x=\"94\" y=\"-1328.8\">block2_conv1: Conv2D</text>\n</g>\n<!-- 140230745065008&#45;&gt;140230793225216 -->\n<g class=\"edge\" id=\"edge4\">\n<title>140230745065008-&gt;140230793225216</title>\n<path d=\"M94,-1387.4551C94,-1379.3828 94,-1369.6764 94,-1360.6817\" fill=\"none\" stroke=\"#000000\"/>\n<polygon fill=\"#000000\" points=\"97.5001,-1360.5903 94,-1350.5904 90.5001,-1360.5904 97.5001,-1360.5903\" stroke=\"#000000\"/>\n</g>\n<!-- 140230746342232 -->\n<g class=\"node\" id=\"node6\">\n<title>140230746342232</title>\n<polygon fill=\"none\" points=\"15,-1241.5 15,-1277.5 173,-1277.5 173,-1241.5 15,-1241.5\" stroke=\"#000000\"/>\n<text fill=\"#000000\" font-family=\"Times,serif\" font-size=\"14.00\" text-anchor=\"middle\" x=\"94\" y=\"-1255.8\">block2_conv2: Conv2D</text>\n</g>\n<!-- 140230793225216&#45;&gt;140230746342232 -->\n<g class=\"edge\" id=\"edge5\">\n<title>140230793225216-&gt;140230746342232</title>\n<path d=\"M94,-1314.4551C94,-1306.3828 94,-1296.6764 94,-1287.6817\" fill=\"none\" stroke=\"#000000\"/>\n<polygon fill=\"#000000\" points=\"97.5001,-1287.5903 94,-1277.5904 90.5001,-1287.5904 97.5001,-1287.5903\" stroke=\"#000000\"/>\n</g>\n<!-- 140230746792624 -->\n<g class=\"node\" id=\"node7\">\n<title>140230746792624</title>\n<polygon fill=\"none\" points=\"0,-1168.5 0,-1204.5 188,-1204.5 188,-1168.5 0,-1168.5\" stroke=\"#000000\"/>\n<text fill=\"#000000\" font-family=\"Times,serif\" font-size=\"14.00\" text-anchor=\"middle\" x=\"94\" y=\"-1182.8\">block2_pool: MaxPooling2D</text>\n</g>\n<!-- 140230746342232&#45;&gt;140230746792624 -->\n<g class=\"edge\" id=\"edge6\">\n<title>140230746342232-&gt;140230746792624</title>\n<path d=\"M94,-1241.4551C94,-1233.3828 94,-1223.6764 94,-1214.6817\" fill=\"none\" stroke=\"#000000\"/>\n<polygon fill=\"#000000\" points=\"97.5001,-1214.5903 94,-1204.5904 90.5001,-1214.5904 97.5001,-1214.5903\" stroke=\"#000000\"/>\n</g>\n<!-- 140230745689056 -->\n<g class=\"node\" id=\"node8\">\n<title>140230745689056</title>\n<polygon fill=\"none\" points=\"15,-1095.5 15,-1131.5 173,-1131.5 173,-1095.5 15,-1095.5\" stroke=\"#000000\"/>\n<text fill=\"#000000\" font-family=\"Times,serif\" font-size=\"14.00\" text-anchor=\"middle\" x=\"94\" y=\"-1109.8\">block3_conv1: Conv2D</text>\n</g>\n<!-- 140230746792624&#45;&gt;140230745689056 -->\n<g class=\"edge\" id=\"edge7\">\n<title>140230746792624-&gt;140230745689056</title>\n<path d=\"M94,-1168.4551C94,-1160.3828 94,-1150.6764 94,-1141.6817\" fill=\"none\" stroke=\"#000000\"/>\n<polygon fill=\"#000000\" points=\"97.5001,-1141.5903 94,-1131.5904 90.5001,-1141.5904 97.5001,-1141.5903\" stroke=\"#000000\"/>\n</g>\n<!-- 140230746631584 -->\n<g class=\"node\" id=\"node9\">\n<title>140230746631584</title>\n<polygon fill=\"none\" points=\"15,-1022.5 15,-1058.5 173,-1058.5 173,-1022.5 15,-1022.5\" stroke=\"#000000\"/>\n<text fill=\"#000000\" font-family=\"Times,serif\" font-size=\"14.00\" text-anchor=\"middle\" x=\"94\" y=\"-1036.8\">block3_conv2: Conv2D</text>\n</g>\n<!-- 140230745689056&#45;&gt;140230746631584 -->\n<g class=\"edge\" id=\"edge8\">\n<title>140230745689056-&gt;140230746631584</title>\n<path d=\"M94,-1095.4551C94,-1087.3828 94,-1077.6764 94,-1068.6817\" fill=\"none\" stroke=\"#000000\"/>\n<polygon fill=\"#000000\" points=\"97.5001,-1068.5903 94,-1058.5904 90.5001,-1068.5904 97.5001,-1068.5903\" stroke=\"#000000\"/>\n</g>\n<!-- 140230739993768 -->\n<g class=\"node\" id=\"node10\">\n<title>140230739993768</title>\n<polygon fill=\"none\" points=\"15,-949.5 15,-985.5 173,-985.5 173,-949.5 15,-949.5\" stroke=\"#000000\"/>\n<text fill=\"#000000\" font-family=\"Times,serif\" font-size=\"14.00\" text-anchor=\"middle\" x=\"94\" y=\"-963.8\">block3_conv3: Conv2D</text>\n</g>\n<!-- 140230746631584&#45;&gt;140230739993768 -->\n<g class=\"edge\" id=\"edge9\">\n<title>140230746631584-&gt;140230739993768</title>\n<path d=\"M94,-1022.4551C94,-1014.3828 94,-1004.6764 94,-995.6817\" fill=\"none\" stroke=\"#000000\"/>\n<polygon fill=\"#000000\" points=\"97.5001,-995.5903 94,-985.5904 90.5001,-995.5904 97.5001,-995.5903\" stroke=\"#000000\"/>\n</g>\n<!-- 140230746242688 -->\n<g class=\"node\" id=\"node11\">\n<title>140230746242688</title>\n<polygon fill=\"none\" points=\"0,-876.5 0,-912.5 188,-912.5 188,-876.5 0,-876.5\" stroke=\"#000000\"/>\n<text fill=\"#000000\" font-family=\"Times,serif\" font-size=\"14.00\" text-anchor=\"middle\" x=\"94\" y=\"-890.8\">block3_pool: MaxPooling2D</text>\n</g>\n<!-- 140230739993768&#45;&gt;140230746242688 -->\n<g class=\"edge\" id=\"edge10\">\n<title>140230739993768-&gt;140230746242688</title>\n<path d=\"M94,-949.4551C94,-941.3828 94,-931.6764 94,-922.6817\" fill=\"none\" stroke=\"#000000\"/>\n<polygon fill=\"#000000\" points=\"97.5001,-922.5903 94,-912.5904 90.5001,-922.5904 97.5001,-922.5903\" stroke=\"#000000\"/>\n</g>\n<!-- 140230746095912 -->\n<g class=\"node\" id=\"node12\">\n<title>140230746095912</title>\n<polygon fill=\"none\" points=\"15,-803.5 15,-839.5 173,-839.5 173,-803.5 15,-803.5\" stroke=\"#000000\"/>\n<text fill=\"#000000\" font-family=\"Times,serif\" font-size=\"14.00\" text-anchor=\"middle\" x=\"94\" y=\"-817.8\">block4_conv1: Conv2D</text>\n</g>\n<!-- 140230746242688&#45;&gt;140230746095912 -->\n<g class=\"edge\" id=\"edge11\">\n<title>140230746242688-&gt;140230746095912</title>\n<path d=\"M94,-876.4551C94,-868.3828 94,-858.6764 94,-849.6817\" fill=\"none\" stroke=\"#000000\"/>\n<polygon fill=\"#000000\" points=\"97.5001,-849.5903 94,-839.5904 90.5001,-849.5904 97.5001,-849.5903\" stroke=\"#000000\"/>\n</g>\n<!-- 140230746976040 -->\n<g class=\"node\" id=\"node13\">\n<title>140230746976040</title>\n<polygon fill=\"none\" points=\"15,-730.5 15,-766.5 173,-766.5 173,-730.5 15,-730.5\" stroke=\"#000000\"/>\n<text fill=\"#000000\" font-family=\"Times,serif\" font-size=\"14.00\" text-anchor=\"middle\" x=\"94\" y=\"-744.8\">block4_conv2: Conv2D</text>\n</g>\n<!-- 140230746095912&#45;&gt;140230746976040 -->\n<g class=\"edge\" id=\"edge12\">\n<title>140230746095912-&gt;140230746976040</title>\n<path d=\"M94,-803.4551C94,-795.3828 94,-785.6764 94,-776.6817\" fill=\"none\" stroke=\"#000000\"/>\n<polygon fill=\"#000000\" points=\"97.5001,-776.5903 94,-766.5904 90.5001,-776.5904 97.5001,-776.5903\" stroke=\"#000000\"/>\n</g>\n<!-- 140230731201392 -->\n<g class=\"node\" id=\"node14\">\n<title>140230731201392</title>\n<polygon fill=\"none\" points=\"15,-657.5 15,-693.5 173,-693.5 173,-657.5 15,-657.5\" stroke=\"#000000\"/>\n<text fill=\"#000000\" font-family=\"Times,serif\" font-size=\"14.00\" text-anchor=\"middle\" x=\"94\" y=\"-671.8\">block4_conv3: Conv2D</text>\n</g>\n<!-- 140230746976040&#45;&gt;140230731201392 -->\n<g class=\"edge\" id=\"edge13\">\n<title>140230746976040-&gt;140230731201392</title>\n<path d=\"M94,-730.4551C94,-722.3828 94,-712.6764 94,-703.6817\" fill=\"none\" stroke=\"#000000\"/>\n<polygon fill=\"#000000\" points=\"97.5001,-703.5903 94,-693.5904 90.5001,-703.5904 97.5001,-703.5903\" stroke=\"#000000\"/>\n</g>\n<!-- 140230730881400 -->\n<g class=\"node\" id=\"node15\">\n<title>140230730881400</title>\n<polygon fill=\"none\" points=\"0,-584.5 0,-620.5 188,-620.5 188,-584.5 0,-584.5\" stroke=\"#000000\"/>\n<text fill=\"#000000\" font-family=\"Times,serif\" font-size=\"14.00\" text-anchor=\"middle\" x=\"94\" y=\"-598.8\">block4_pool: MaxPooling2D</text>\n</g>\n<!-- 140230731201392&#45;&gt;140230730881400 -->\n<g class=\"edge\" id=\"edge14\">\n<title>140230731201392-&gt;140230730881400</title>\n<path d=\"M94,-657.4551C94,-649.3828 94,-639.6764 94,-630.6817\" fill=\"none\" stroke=\"#000000\"/>\n<polygon fill=\"#000000\" points=\"97.5001,-630.5903 94,-620.5904 90.5001,-630.5904 97.5001,-630.5903\" stroke=\"#000000\"/>\n</g>\n<!-- 140230731307776 -->\n<g class=\"node\" id=\"node16\">\n<title>140230731307776</title>\n<polygon fill=\"none\" points=\"15,-511.5 15,-547.5 173,-547.5 173,-511.5 15,-511.5\" stroke=\"#000000\"/>\n<text fill=\"#000000\" font-family=\"Times,serif\" font-size=\"14.00\" text-anchor=\"middle\" x=\"94\" y=\"-525.8\">block5_conv1: Conv2D</text>\n</g>\n<!-- 140230730881400&#45;&gt;140230731307776 -->\n<g class=\"edge\" id=\"edge15\">\n<title>140230730881400-&gt;140230731307776</title>\n<path d=\"M94,-584.4551C94,-576.3828 94,-566.6764 94,-557.6817\" fill=\"none\" stroke=\"#000000\"/>\n<polygon fill=\"#000000\" points=\"97.5001,-557.5903 94,-547.5904 90.5001,-557.5904 97.5001,-557.5903\" stroke=\"#000000\"/>\n</g>\n<!-- 140230731009272 -->\n<g class=\"node\" id=\"node17\">\n<title>140230731009272</title>\n<polygon fill=\"none\" points=\"15,-438.5 15,-474.5 173,-474.5 173,-438.5 15,-438.5\" stroke=\"#000000\"/>\n<text fill=\"#000000\" font-family=\"Times,serif\" font-size=\"14.00\" text-anchor=\"middle\" x=\"94\" y=\"-452.8\">block5_conv2: Conv2D</text>\n</g>\n<!-- 140230731307776&#45;&gt;140230731009272 -->\n<g class=\"edge\" id=\"edge16\">\n<title>140230731307776-&gt;140230731009272</title>\n<path d=\"M94,-511.4551C94,-503.3828 94,-493.6764 94,-484.6817\" fill=\"none\" stroke=\"#000000\"/>\n<polygon fill=\"#000000\" points=\"97.5001,-484.5903 94,-474.5904 90.5001,-484.5904 97.5001,-484.5903\" stroke=\"#000000\"/>\n</g>\n<!-- 140230730695736 -->\n<g class=\"node\" id=\"node18\">\n<title>140230730695736</title>\n<polygon fill=\"none\" points=\"15,-365.5 15,-401.5 173,-401.5 173,-365.5 15,-365.5\" stroke=\"#000000\"/>\n<text fill=\"#000000\" font-family=\"Times,serif\" font-size=\"14.00\" text-anchor=\"middle\" x=\"94\" y=\"-379.8\">block5_conv3: Conv2D</text>\n</g>\n<!-- 140230731009272&#45;&gt;140230730695736 -->\n<g class=\"edge\" id=\"edge17\">\n<title>140230731009272-&gt;140230730695736</title>\n<path d=\"M94,-438.4551C94,-430.3828 94,-420.6764 94,-411.6817\" fill=\"none\" stroke=\"#000000\"/>\n<polygon fill=\"#000000\" points=\"97.5001,-411.5903 94,-401.5904 90.5001,-411.5904 97.5001,-411.5903\" stroke=\"#000000\"/>\n</g>\n<!-- 140230730764184 -->\n<g class=\"node\" id=\"node19\">\n<title>140230730764184</title>\n<polygon fill=\"none\" points=\"0,-292.5 0,-328.5 188,-328.5 188,-292.5 0,-292.5\" stroke=\"#000000\"/>\n<text fill=\"#000000\" font-family=\"Times,serif\" font-size=\"14.00\" text-anchor=\"middle\" x=\"94\" y=\"-306.8\">block5_pool: MaxPooling2D</text>\n</g>\n<!-- 140230730695736&#45;&gt;140230730764184 -->\n<g class=\"edge\" id=\"edge18\">\n<title>140230730695736-&gt;140230730764184</title>\n<path d=\"M94,-365.4551C94,-357.3828 94,-347.6764 94,-338.6817\" fill=\"none\" stroke=\"#000000\"/>\n<polygon fill=\"#000000\" points=\"97.5001,-338.5903 94,-328.5904 90.5001,-338.5904 97.5001,-338.5903\" stroke=\"#000000\"/>\n</g>\n<!-- 140230730363624 -->\n<g class=\"node\" id=\"node20\">\n<title>140230730363624</title>\n<polygon fill=\"none\" points=\"45,-219.5 45,-255.5 143,-255.5 143,-219.5 45,-219.5\" stroke=\"#000000\"/>\n<text fill=\"#000000\" font-family=\"Times,serif\" font-size=\"14.00\" text-anchor=\"middle\" x=\"94\" y=\"-233.8\">flatten: Flatten</text>\n</g>\n<!-- 140230730764184&#45;&gt;140230730363624 -->\n<g class=\"edge\" id=\"edge19\">\n<title>140230730764184-&gt;140230730363624</title>\n<path d=\"M94,-292.4551C94,-284.3828 94,-274.6764 94,-265.6817\" fill=\"none\" stroke=\"#000000\"/>\n<polygon fill=\"#000000\" points=\"97.5001,-265.5903 94,-255.5904 90.5001,-265.5904 97.5001,-265.5903\" stroke=\"#000000\"/>\n</g>\n<!-- 140230730468320 -->\n<g class=\"node\" id=\"node21\">\n<title>140230730468320</title>\n<polygon fill=\"none\" points=\"55.5,-146.5 55.5,-182.5 132.5,-182.5 132.5,-146.5 55.5,-146.5\" stroke=\"#000000\"/>\n<text fill=\"#000000\" font-family=\"Times,serif\" font-size=\"14.00\" text-anchor=\"middle\" x=\"94\" y=\"-160.8\">fc1: Dense</text>\n</g>\n<!-- 140230730363624&#45;&gt;140230730468320 -->\n<g class=\"edge\" id=\"edge20\">\n<title>140230730363624-&gt;140230730468320</title>\n<path d=\"M94,-219.4551C94,-211.3828 94,-201.6764 94,-192.6817\" fill=\"none\" stroke=\"#000000\"/>\n<polygon fill=\"#000000\" points=\"97.5001,-192.5903 94,-182.5904 90.5001,-192.5904 97.5001,-192.5903\" stroke=\"#000000\"/>\n</g>\n<!-- 140230730571280 -->\n<g class=\"node\" id=\"node22\">\n<title>140230730571280</title>\n<polygon fill=\"none\" points=\"55.5,-73.5 55.5,-109.5 132.5,-109.5 132.5,-73.5 55.5,-73.5\" stroke=\"#000000\"/>\n<text fill=\"#000000\" font-family=\"Times,serif\" font-size=\"14.00\" text-anchor=\"middle\" x=\"94\" y=\"-87.8\">fc2: Dense</text>\n</g>\n<!-- 140230730468320&#45;&gt;140230730571280 -->\n<g class=\"edge\" id=\"edge21\">\n<title>140230730468320-&gt;140230730571280</title>\n<path d=\"M94,-146.4551C94,-138.3828 94,-128.6764 94,-119.6817\" fill=\"none\" stroke=\"#000000\"/>\n<polygon fill=\"#000000\" points=\"97.5001,-119.5903 94,-109.5904 90.5001,-119.5904 97.5001,-119.5903\" stroke=\"#000000\"/>\n</g>\n<!-- 140230730469272 -->\n<g class=\"node\" id=\"node23\">\n<title>140230730469272</title>\n<polygon fill=\"none\" points=\"33,-.5 33,-36.5 155,-36.5 155,-.5 33,-.5\" stroke=\"#000000\"/>\n<text fill=\"#000000\" font-family=\"Times,serif\" font-size=\"14.00\" text-anchor=\"middle\" x=\"94\" y=\"-14.8\">predictions: Dense</text>\n</g>\n<!-- 140230730571280&#45;&gt;140230730469272 -->\n<g class=\"edge\" id=\"edge22\">\n<title>140230730571280-&gt;140230730469272</title>\n<path d=\"M94,-73.4551C94,-65.3828 94,-55.6764 94,-46.6817\" fill=\"none\" stroke=\"#000000\"/>\n<polygon fill=\"#000000\" points=\"97.5001,-46.5903 94,-36.5904 90.5001,-46.5904 97.5001,-46.5903\" stroke=\"#000000\"/>\n</g>\n</g>\n</svg>"
          },
          "metadata": {
            "tags": []
          },
          "execution_count": 19
        }
      ]
    },
    {
      "cell_type": "code",
      "metadata": {
        "id": "e9lur9XB9SI5",
        "colab_type": "code",
        "colab": {
          "base_uri": "https://localhost:8080/",
          "height": 403
        },
        "outputId": "30b403bd-8e9d-4d36-903a-f26b151d4256"
      },
      "source": [
        "#@title Make a prediction with vgg16 imagenet weights{ vertical-output: true }\n",
        "import PIL\n",
        "from tensorflow.python.keras.applications.vgg16 import preprocess_input, decode_predictions\n",
        "\n",
        "def predict(image_array):\n",
        "    plt.imshow(image_array)\n",
        "    plt.show()\n",
        "    \n",
        "    img_array = np.expand_dims(image_array, axis=0)   \n",
        "    \n",
        "    pred = vgg16model.predict(img_array)\n",
        "    pred_decoded = decode_predictions(pred)[0]\n",
        "    \n",
        "    for code, name, score in pred_decoded:\n",
        "        print(\"{0:>6.2%} : {1}\".format(score, name))  \n",
        "        \n",
        "predict(load_image('parrot_cropped1.jpg'))\n",
        "#predict(image_path=image_paths_train[0])"
      ],
      "execution_count": 20,
      "outputs": [
        {
          "output_type": "display_data",
          "data": {
            "image/png": "[encoded data removed]",
            "text/plain": [
              "<Figure size 432x288 with 1 Axes>"
            ]
          },
          "metadata": {
            "tags": []
          }
        },
        {
          "output_type": "stream",
          "text": [
            "Downloading data from https://s3.amazonaws.com/deep-learning-models/image-models/imagenet_class_index.json\n",
            "40960/35363 [==================================] - 0s 0us/step\n",
            "79.02% : macaw\n",
            " 6.61% : bubble\n",
            " 3.64% : vine_snake\n",
            " 1.90% : pinwheel\n",
            " 1.22% : knot\n"
          ],
          "name": "stdout"
        }
      ]
    },
    {
      "cell_type": "code",
      "metadata": {
        "id": "aS2luZkkX_Cv",
        "colab_type": "code",
        "colab": {
          "base_uri": "https://localhost:8080/",
          "height": 371
        },
        "outputId": "52f236ed-a304-40f4-84f9-61d622905913"
      },
      "source": [
        "#@title predict a Kandinsky Figure with VGG16 imagenet weights { vertical-output: true }\n",
        "predict(example.x['arr'])"
      ],
      "execution_count": 21,
      "outputs": [
        {
          "output_type": "display_data",
          "data": {
            "image/png": "[encoded data removed]",
            "text/plain": [
              "<Figure size 432x288 with 1 Axes>"
            ]
          },
          "metadata": {
            "tags": []
          }
        },
        {
          "output_type": "stream",
          "text": [
            " 3.90% : toilet_tissue\n",
            " 3.32% : envelope\n",
            " 2.55% : mosquito_net\n",
            " 2.54% : ping-pong_ball\n",
            " 2.38% : electric_fan\n"
          ],
          "name": "stdout"
        }
      ]
    },
    {
      "cell_type": "markdown",
      "metadata": {
        "id": "-3NK1pHgH6RG",
        "colab_type": "text"
      },
      "source": [
        "# New Network"
      ]
    },
    {
      "cell_type": "code",
      "metadata": {
        "id": "Gij0gIan9fNz",
        "colab_type": "code",
        "colab": {
          "base_uri": "https://localhost:8080/",
          "height": 912
        },
        "cellView": "both",
        "outputId": "1ce39c82-0518-4e25-d21b-f076f926697c"
      },
      "source": [
        "#@title Creating a new Model { vertical-output: true, output-height: 300 }\n",
        "n1           = 100 #@param {type:\"slider\", min:1, max:500, step:1}\n",
        "n2           = 50 #@param {type:\"slider\", min:1, max:500, step:1}\n",
        "\n",
        "from tensorflow.python.keras.models import Model, Sequential\n",
        "from tensorflow.python.keras.layers import Dense, Flatten, Dropout\n",
        "from tensorflow.python.keras.optimizers import Adam, RMSprop\n",
        "\n",
        "conv_model = Model(inputs=vgg16model.input, outputs=vgg16model.get_layer('block5_pool').output)\n",
        "\n",
        "new_model = Sequential()\n",
        "new_model.add(conv_model)\n",
        "new_model.add(Flatten())\n",
        "new_model.add(Dense(1024, activation='relu'))\n",
        "new_model.add(Dropout(0.5))\n",
        "new_model.add(Dense(output_shape, activation='softmax'))\n",
        "\n",
        "new_model.summary()\n",
        "SVG(keras.utils.vis_utils.model_to_dot(new_model).create(prog='dot', format='svg'))"
      ],
      "execution_count": 22,
      "outputs": [
        {
          "output_type": "stream",
          "text": [
            "WARNING:tensorflow:From /usr/local/lib/python3.6/dist-packages/tensorflow/python/keras/layers/core.py:143: calling dropout (from tensorflow.python.ops.nn_ops) with keep_prob is deprecated and will be removed in a future version.\n",
            "Instructions for updating:\n",
            "Please use `rate` instead of `keep_prob`. Rate should be set to `rate = 1 - keep_prob`.\n",
            "_________________________________________________________________\n",
            "Layer (type)                 Output Shape              Param #   \n",
            "=================================================================\n",
            "model (Model)                (None, 7, 7, 512)         14714688  \n",
            "_________________________________________________________________\n",
            "flatten (Flatten)            (None, 25088)             0         \n",
            "_________________________________________________________________\n",
            "dense (Dense)                (None, 1024)              25691136  \n",
            "_________________________________________________________________\n",
            "dropout (Dropout)            (None, 1024)              0         \n",
            "_________________________________________________________________\n",
            "dense_1 (Dense)              (None, 9)                 9225      \n",
            "=================================================================\n",
            "Total params: 40,415,049\n",
            "Trainable params: 40,415,049\n",
            "Non-trainable params: 0\n",
            "_________________________________________________________________\n"
          ],
          "name": "stdout"
        },
        {
          "output_type": "execute_result",
          "data": {
            "text/plain": [
              "<IPython.core.display.SVG object>"
            ],
            "image/svg+xml": "<svg height=\"410pt\" viewBox=\"0.00 0.00 137.00 410.00\" width=\"137pt\" xmlns=\"http://www.w3.org/2000/svg\" xmlns:xlink=\"http://www.w3.org/1999/xlink\">\n<g class=\"graph\" id=\"graph0\" transform=\"scale(1 1) rotate(0) translate(4 406)\">\n<title>G</title>\n<polygon fill=\"#ffffff\" points=\"-4,4 -4,-406 133,-406 133,4 -4,4\" stroke=\"transparent\"/>\n<!-- 140230638951224 -->\n<g class=\"node\" id=\"node1\">\n<title>140230638951224</title>\n<polygon fill=\"none\" points=\"15.5,-292.5 15.5,-328.5 113.5,-328.5 113.5,-292.5 15.5,-292.5\" stroke=\"#000000\"/>\n<text fill=\"#000000\" font-family=\"Times,serif\" font-size=\"14.00\" text-anchor=\"middle\" x=\"64.5\" y=\"-306.8\">model: Model</text>\n</g>\n<!-- 140230621506304 -->\n<g class=\"node\" id=\"node2\">\n<title>140230621506304</title>\n<polygon fill=\"none\" points=\"15.5,-219.5 15.5,-255.5 113.5,-255.5 113.5,-219.5 15.5,-219.5\" stroke=\"#000000\"/>\n<text fill=\"#000000\" font-family=\"Times,serif\" font-size=\"14.00\" text-anchor=\"middle\" x=\"64.5\" y=\"-233.8\">flatten: Flatten</text>\n</g>\n<!-- 140230638951224&#45;&gt;140230621506304 -->\n<g class=\"edge\" id=\"edge2\">\n<title>140230638951224-&gt;140230621506304</title>\n<path d=\"M64.5,-292.4551C64.5,-284.3828 64.5,-274.6764 64.5,-265.6817\" fill=\"none\" stroke=\"#000000\"/>\n<polygon fill=\"#000000\" points=\"68.0001,-265.5903 64.5,-255.5904 61.0001,-265.5904 68.0001,-265.5903\" stroke=\"#000000\"/>\n</g>\n<!-- 140230621504960 -->\n<g class=\"node\" id=\"node3\">\n<title>140230621504960</title>\n<polygon fill=\"none\" points=\"18.5,-146.5 18.5,-182.5 110.5,-182.5 110.5,-146.5 18.5,-146.5\" stroke=\"#000000\"/>\n<text fill=\"#000000\" font-family=\"Times,serif\" font-size=\"14.00\" text-anchor=\"middle\" x=\"64.5\" y=\"-160.8\">dense: Dense</text>\n</g>\n<!-- 140230621506304&#45;&gt;140230621504960 -->\n<g class=\"edge\" id=\"edge3\">\n<title>140230621506304-&gt;140230621504960</title>\n<path d=\"M64.5,-219.4551C64.5,-211.3828 64.5,-201.6764 64.5,-192.6817\" fill=\"none\" stroke=\"#000000\"/>\n<polygon fill=\"#000000\" points=\"68.0001,-192.5903 64.5,-182.5904 61.0001,-192.5904 68.0001,-192.5903\" stroke=\"#000000\"/>\n</g>\n<!-- 140230621505240 -->\n<g class=\"node\" id=\"node4\">\n<title>140230621505240</title>\n<polygon fill=\"none\" points=\"5,-73.5 5,-109.5 124,-109.5 124,-73.5 5,-73.5\" stroke=\"#000000\"/>\n<text fill=\"#000000\" font-family=\"Times,serif\" font-size=\"14.00\" text-anchor=\"middle\" x=\"64.5\" y=\"-87.8\">dropout: Dropout</text>\n</g>\n<!-- 140230621504960&#45;&gt;140230621505240 -->\n<g class=\"edge\" id=\"edge4\">\n<title>140230621504960-&gt;140230621505240</title>\n<path d=\"M64.5,-146.4551C64.5,-138.3828 64.5,-128.6764 64.5,-119.6817\" fill=\"none\" stroke=\"#000000\"/>\n<polygon fill=\"#000000\" points=\"68.0001,-119.5903 64.5,-109.5904 61.0001,-119.5904 68.0001,-119.5903\" stroke=\"#000000\"/>\n</g>\n<!-- 140230621506976 -->\n<g class=\"node\" id=\"node5\">\n<title>140230621506976</title>\n<polygon fill=\"none\" points=\"11,-.5 11,-36.5 118,-36.5 118,-.5 11,-.5\" stroke=\"#000000\"/>\n<text fill=\"#000000\" font-family=\"Times,serif\" font-size=\"14.00\" text-anchor=\"middle\" x=\"64.5\" y=\"-14.8\">dense_1: Dense</text>\n</g>\n<!-- 140230621505240&#45;&gt;140230621506976 -->\n<g class=\"edge\" id=\"edge5\">\n<title>140230621505240-&gt;140230621506976</title>\n<path d=\"M64.5,-73.4551C64.5,-65.3828 64.5,-55.6764 64.5,-46.6817\" fill=\"none\" stroke=\"#000000\"/>\n<polygon fill=\"#000000\" points=\"68.0001,-46.5903 64.5,-36.5904 61.0001,-46.5904 68.0001,-46.5903\" stroke=\"#000000\"/>\n</g>\n<!-- 140230621504400 -->\n<g class=\"node\" id=\"node6\">\n<title>140230621504400</title>\n<polygon fill=\"none\" points=\"0,-365.5 0,-401.5 129,-401.5 129,-365.5 0,-365.5\" stroke=\"#000000\"/>\n<text fill=\"#000000\" font-family=\"Times,serif\" font-size=\"14.00\" text-anchor=\"middle\" x=\"64.5\" y=\"-379.8\">140230621504400</text>\n</g>\n<!-- 140230621504400&#45;&gt;140230638951224 -->\n<g class=\"edge\" id=\"edge1\">\n<title>140230621504400-&gt;140230638951224</title>\n<path d=\"M64.5,-365.4551C64.5,-357.3828 64.5,-347.6764 64.5,-338.6817\" fill=\"none\" stroke=\"#000000\"/>\n<polygon fill=\"#000000\" points=\"68.0001,-338.5903 64.5,-328.5904 61.0001,-338.5904 68.0001,-338.5903\" stroke=\"#000000\"/>\n</g>\n</g>\n</svg>"
          },
          "metadata": {
            "tags": []
          },
          "execution_count": 22
        }
      ]
    },
    {
      "cell_type": "code",
      "metadata": {
        "id": "8idiTXtGdEwT",
        "colab_type": "code",
        "colab": {
          "base_uri": "https://localhost:8080/",
          "height": 102
        },
        "outputId": "0354e99f-8472-4aa4-d65f-9ef0b271968b"
      },
      "source": [
        "#@title Compile after Trainable Layers set { vertical-output: true }\n",
        "optimizer     = \"adam\"                     #@param [\"adam\" ,\"other\"]\n",
        "learning_rate = 1e-5 #@param {type:\"slider\", min:1e-7, max:0.01, step:1e-3}\n",
        "loss          = \"categorical_crossentropy\" #@param [\"categorical_crossentropy\", \"whatever\"]\n",
        "main_metric   = \"categorical_accuracy\"     #@param [\"accuracy\", \"categorical_accuracy\"]\n",
        "train_vgg16   = False #@param {type:\"boolean\"}\n",
        "\n",
        "print(' '.join([str(layer.trainable) for layer in conv_model.layers]), '\\n')\n",
        "\n",
        "conv_model.trainable = train_vgg16\n",
        "for layer in conv_model.layers: layer.trainable = train_vgg16\n",
        "    \n",
        "new_model.compile(optimizer=Adam(lr=1e-5), loss=loss, metrics=[main_metric])\n",
        "\n",
        "print(' '.join([str(layer.trainable) for layer in conv_model.layers]), '\\n')\n"
      ],
      "execution_count": 23,
      "outputs": [
        {
          "output_type": "stream",
          "text": [
            "True True True True True True True True True True True True True True True True True True True \n",
            "\n",
            "False False False False False False False False False False False False False False False False False False False \n",
            "\n"
          ],
          "name": "stdout"
        }
      ]
    },
    {
      "cell_type": "markdown",
      "metadata": {
        "id": "N8Z7IKpXZniw",
        "colab_type": "text"
      },
      "source": [
        "# Training"
      ]
    },
    {
      "cell_type": "code",
      "metadata": {
        "id": "Tc8qIa0dbuqS",
        "colab_type": "code",
        "colab": {
          "base_uri": "https://localhost:8080/",
          "height": 115
        },
        "outputId": "76c63931-637f-4cb6-ba9c-b6cb884ebfa9"
      },
      "source": [
        "from sklearn.utils.class_weight import compute_class_weight\n",
        "\n",
        "print(np.unique(training_generator.panda['YasStr']))\n",
        "\n",
        "class_weight = compute_class_weight(\n",
        "    class_weight = 'balanced',\n",
        "    classes = np.unique(training_generator.panda['YasStr']),\n",
        "    y = training_generator.panda['YasStr']\n",
        ")\n",
        "\n",
        "class_weight"
      ],
      "execution_count": 24,
      "outputs": [
        {
          "output_type": "stream",
          "text": [
            "['0 red circles' '1 red circles' '2 red circles' '3 red circles'\n",
            " '4 red circles' '5 red circles' '6 red circles' '7 red circles'\n",
            " '8 red circles']\n"
          ],
          "name": "stdout"
        },
        {
          "output_type": "execute_result",
          "data": {
            "text/plain": [
              "array([  0.50691244,   0.38664323,   0.48351648,   0.79710145,\n",
              "         1.34969325,   3.66666667,  12.22222222,  73.33333333,\n",
              "       110.        ])"
            ]
          },
          "metadata": {
            "tags": []
          },
          "execution_count": 24
        }
      ]
    },
    {
      "cell_type": "code",
      "metadata": {
        "id": "eXJJtnMXAWI2",
        "colab_type": "code",
        "colab": {
          "base_uri": "https://localhost:8080/",
          "height": 33
        },
        "outputId": "5d075ddb-56f0-4384-bf7c-c23de440925c"
      },
      "source": [
        "hist, bin_edges = np.histogram(training_generator.panda['|r|'], bins = range(output_shape))\n",
        "hist"
      ],
      "execution_count": 25,
      "outputs": [
        {
          "output_type": "execute_result",
          "data": {
            "text/plain": [
              "array([434, 569, 455, 276, 163,  60,  18,   5])"
            ]
          },
          "metadata": {
            "tags": []
          },
          "execution_count": 25
        }
      ]
    },
    {
      "cell_type": "code",
      "metadata": {
        "id": "XDjNIATAVSkL",
        "colab_type": "code",
        "colab": {
          "base_uri": "https://localhost:8080/",
          "height": 240
        },
        "outputId": "664d6613-a57a-43fd-bcce-d349d119673e"
      },
      "source": [
        "#training_generator.panda = training_generator.panda.astype({\"YasStr\": str})\n",
        "\n",
        "training_generator.panda = training_generator.panda.infer_objects()\n",
        "\n",
        "str_p = training_generator.panda[['YasStr', 'file']].astype(str)\n",
        "\n",
        "str_p['YasStr'] = f['YasStr'].astype('category')\n",
        "str_p['file'] = f['file'].astype(str)\n",
        "\n",
        "#display(training_generator.panda.head())\n",
        "display(str_p.head())\n",
        "\n",
        "str_p.dtypes, str_p.shape\n"
      ],
      "execution_count": 26,
      "outputs": [
        {
          "output_type": "display_data",
          "data": {
            "text/html": [
              "<div>\n",
              "<style scoped>\n",
              "    .dataframe tbody tr th:only-of-type {\n",
              "        vertical-align: middle;\n",
              "    }\n",
              "\n",
              "    .dataframe tbody tr th {\n",
              "        vertical-align: top;\n",
              "    }\n",
              "\n",
              "    .dataframe thead th {\n",
              "        text-align: right;\n",
              "    }\n",
              "</style>\n",
              "<table border=\"1\" class=\"dataframe\">\n",
              "  <thead>\n",
              "    <tr style=\"text-align: right;\">\n",
              "      <th></th>\n",
              "      <th>YasStr</th>\n",
              "      <th>file</th>\n",
              "    </tr>\n",
              "  </thead>\n",
              "  <tbody>\n",
              "    <tr>\n",
              "      <th>0</th>\n",
              "      <td>2 red circles</td>\n",
              "      <td>img00000.png</td>\n",
              "    </tr>\n",
              "    <tr>\n",
              "      <th>1</th>\n",
              "      <td>1 red circles</td>\n",
              "      <td>img00001.png</td>\n",
              "    </tr>\n",
              "    <tr>\n",
              "      <th>2</th>\n",
              "      <td>0 red circles</td>\n",
              "      <td>img00002.png</td>\n",
              "    </tr>\n",
              "    <tr>\n",
              "      <th>3</th>\n",
              "      <td>0 red circles</td>\n",
              "      <td>img00003.png</td>\n",
              "    </tr>\n",
              "    <tr>\n",
              "      <th>4</th>\n",
              "      <td>1 red circles</td>\n",
              "      <td>img00004.png</td>\n",
              "    </tr>\n",
              "  </tbody>\n",
              "</table>\n",
              "</div>"
            ],
            "text/plain": [
              "          YasStr          file\n",
              "0  2 red circles  img00000.png\n",
              "1  1 red circles  img00001.png\n",
              "2  0 red circles  img00002.png\n",
              "3  0 red circles  img00003.png\n",
              "4  1 red circles  img00004.png"
            ]
          },
          "metadata": {
            "tags": []
          }
        },
        {
          "output_type": "execute_result",
          "data": {
            "text/plain": [
              "(YasStr    category\n",
              " file        object\n",
              " dtype: object, (1980, 2))"
            ]
          },
          "metadata": {
            "tags": []
          },
          "execution_count": 26
        }
      ]
    },
    {
      "cell_type": "code",
      "metadata": {
        "id": "UOLK-qtrKafB",
        "colab_type": "code",
        "colab": {
          "base_uri": "https://localhost:8080/",
          "height": 50
        },
        "outputId": "399aba82-f20c-4a11-fc95-068a9ed12aba"
      },
      "source": [
        "from tensorflow.python.keras.preprocessing.image import ImageDataGenerator\n",
        "argumented_training_generator = ImageDataGenerator(      \n",
        "    rotation_range=90,\n",
        "    width_shift_range=0.1,\n",
        "    height_shift_range=0.1,\n",
        "    shear_range=0.1,\n",
        "    zoom_range=[0.9, 1.5],  \n",
        "    fill_mode='nearest'\n",
        ")\n",
        "\n",
        "print(\"file table shape (str_p)\", str_p.shape)\n",
        "training_generator_2 = argumented_training_generator.flow_from_dataframe(\n",
        "    dataframe = str_p,\n",
        "    directory = './images/train/',\n",
        "    x_col = 'file',\n",
        "    y_col = 'YasStr', #'|r|', # ja wirklich nicht Y, weil ImageDataGenerator im categorical mode automatisch zu onehot convertiert (wenn man ihm auch die classes gibt?)\n",
        "    # 'categorical' for string?\n",
        "    # 'other' for  if Y is int\n",
        "    class_mode = 'other',     \n",
        "    batch_size = 32,\n",
        "    target_size = image_shape    \n",
        ")\n",
        "\n",
        "#training_generator_2.n, len(training_generator_2.filenames), training_generator_2.classes, list(training_generator_2.class_indices.keys()) #, training_generator_2.num_classes"
      ],
      "execution_count": 27,
      "outputs": [
        {
          "output_type": "stream",
          "text": [
            "file table shape (str_p) (1980, 2)\n",
            "Found 36 images.\n"
          ],
          "name": "stdout"
        }
      ]
    },
    {
      "cell_type": "code",
      "metadata": {
        "id": "2PXtsBZjGw7o",
        "colab_type": "code",
        "colab": {}
      },
      "source": [
        "#@title Training { vertical-output: true }\n",
        "%%time\n",
        "steps_per_epoch    = 100 #@param {type:\"slider\", min:10, max:1000, step:1}\n",
        "epochs             = 12 #@param {type:\"slider\", min:2, max:50, step:1}\n",
        "use_multprocessing = False #@param {type:\"boolean\"}\n",
        "workers            = 16 #@param {type:\"slider\", min:1, max:64, step:1}\n",
        "verbose            = 1 #@param {type:\"slider\", min:0, max:5, step:1}\n",
        "\n",
        "#flow_from_dataframe(panda, \"train\")\n",
        "#training_generator\n",
        "#datagen.flow(x_train, y_train, batch_size=32)\n",
        "\n",
        "#https://keras.io/preprocessing/image/\n",
        "#model.fit_generator(datagen.flow(x_train, y_train, batch_size=32),\n",
        "#                    steps_per_epoch=len(x_train) / 32, epochs=epochs)\n",
        "\n",
        "history = new_model.fit_generator(    \n",
        "    steps_per_epoch = steps_per_epoch,\n",
        "    epochs = epochs,\n",
        "    generator = training_generator,  \n",
        "    validation_data = validation_generator,\n",
        "    class_weight = class_weight,\n",
        "    use_multiprocessing = use_multprocessing,    \n",
        "    workers = workers,\n",
        "    verbose = verbose\n",
        ")\n",
        "\n",
        "lib.plot_history_categorical(history)\n"
      ],
      "execution_count": 0,
      "outputs": []
    },
    {
      "cell_type": "markdown",
      "metadata": {
        "id": "OOhSPxb1ZdeV",
        "colab_type": "text"
      },
      "source": [
        "# Training done - Time for Evaluation"
      ]
    },
    {
      "cell_type": "code",
      "metadata": {
        "id": "WTBaD3DTd0wy",
        "colab_type": "code",
        "colab": {}
      },
      "source": [
        "#@title Evaluate { vertical-output: true }\n",
        "max_errors = 18 #@param {type:\"slider\", min:1, max:20, step:1}\n",
        "\n",
        "\n",
        "# evaluate on some new patterns\n",
        "X, y, f = generate_batch(\"eval\", 1000, alphabet)\n",
        "print(X.shape, y.shape)\n",
        "\n",
        "result = model.predict(X, verbose=1)\n",
        "\n",
        "expected =  [sample_decode(s) for s in y]\n",
        "predicted = [sample_decode(s) for s in result]\n",
        "\n",
        "c = 0\n",
        "for i in range(0, len(result)):\n",
        "    if expected[i] != predicted[i]:\n",
        "        c = c + 1\n",
        "        if c < max_errors:\n",
        "            print('Expected=%s, Predicted=%s' % (expected[i], predicted[i]))\n",
        "            \n",
        "print(\"expected != predicted Count:\", c)"
      ],
      "execution_count": 0,
      "outputs": []
    },
    {
      "cell_type": "code",
      "metadata": {
        "id": "MV29hTY86Ko-",
        "colab_type": "code",
        "colab": {}
      },
      "source": [
        "example_errors()"
      ],
      "execution_count": 0,
      "outputs": []
    },
    {
      "cell_type": "code",
      "metadata": {
        "id": "CAu9-qxLJjUy",
        "colab_type": "code",
        "colab": {}
      },
      "source": [
        "#@title Test Metrics { vertical-output: true }\n",
        "\"Accuracy %s\" % new_model.evaluate_generator(test_generator)[1]"
      ],
      "execution_count": 0,
      "outputs": []
    },
    {
      "cell_type": "code",
      "metadata": {
        "id": "-uIMd8Wgs7VC",
        "colab_type": "code",
        "colab": {}
      },
      "source": [
        "#@title  { vertical-output: true }\n",
        "def calculate(inp):\n",
        "    print(inp, '=')\n",
        "    padded = padd(inp, in_seq_len)  \n",
        "    X = array([sample_encode(padded)])  \n",
        "    result = model.predict(X)\n",
        "    return sample_decode(result[0])\n",
        "\n",
        "calculate('12+3')\n"
      ],
      "execution_count": 0,
      "outputs": []
    },
    {
      "cell_type": "code",
      "metadata": {
        "id": "xSCodIkjoV80",
        "colab_type": "code",
        "colab": {}
      },
      "source": [
        "example_errors()"
      ],
      "execution_count": 0,
      "outputs": []
    },
    {
      "cell_type": "code",
      "metadata": {
        "id": "ktWu56a0oY-6",
        "colab_type": "code",
        "colab": {}
      },
      "source": [
        "# Load the first images from the train-set.\n",
        "images = load_images(image_paths=image_paths_train[0:9])\n",
        "\n",
        "# Get the true classes for those images.\n",
        "cls_true = cls_train[0:9]\n",
        "\n",
        "# Plot the images and labels using our helper-function above.\n",
        "plot_images(images=images, cls_true=cls_true, smooth=True)"
      ],
      "execution_count": 0,
      "outputs": []
    },
    {
      "cell_type": "code",
      "metadata": {
        "id": "oFUOaY-loqJd",
        "colab_type": "code",
        "colab": {}
      },
      "source": [
        "def example_errors():\n",
        "    # The Keras data-generator for the test-set must be reset\n",
        "    # before processing. This is because the generator will loop\n",
        "    # infinitely and keep an internal index into the dataset.\n",
        "    # So it might start in the middle of the test-set if we do\n",
        "    # not reset it first. This makes it impossible to match the\n",
        "    # predicted classes with the input images.\n",
        "    # If we reset the generator, then it always starts at the\n",
        "    # beginning so we know exactly which input-images were used.\n",
        "    generator_test.reset()\n",
        "    \n",
        "    # Predict the classes for all images in the test-set.\n",
        "    y_pred = new_model.predict_generator(generator_test,\n",
        "                                         steps=steps_test)\n",
        "\n",
        "    # Convert the predicted classes from arrays to integers.\n",
        "    cls_pred = np.argmax(y_pred,axis=1)\n",
        "\n",
        "    # Plot examples of mis-classified images.\n",
        "    plot_example_errors(cls_pred)\n",
        "    \n",
        "    # Print the confusion matrix.\n",
        "    print_confusion_matrix(cls_pred)"
      ],
      "execution_count": 0,
      "outputs": []
    },
    {
      "cell_type": "code",
      "metadata": {
        "id": "d_WXGDXqoslr",
        "colab_type": "code",
        "colab": {}
      },
      "source": [
        "def plot_example_errors(cls_pred):\n",
        "    # cls_pred is an array of the predicted class-number for\n",
        "    # all images in the test-set.\n",
        "\n",
        "    # Boolean array whether the predicted class is incorrect.\n",
        "    incorrect = (cls_pred != cls_test)\n",
        "\n",
        "    # Get the file-paths for images that were incorrectly classified.\n",
        "    image_paths = np.array(image_paths_test)[incorrect]\n",
        "\n",
        "    # Load the first 9 images.\n",
        "    images = load_images(image_paths=image_paths[0:9])\n",
        "    \n",
        "    # Get the predicted classes for those images.\n",
        "    cls_pred = cls_pred[incorrect]\n",
        "\n",
        "    # Get the true classes for those images.\n",
        "    cls_true = cls_test[incorrect]\n",
        "    \n",
        "    # Plot the 9 images we have loaded and their corresponding classes.\n",
        "    # We have only loaded 9 images so there is no need to slice those again.\n",
        "    plot_images(images=images,\n",
        "                cls_true=cls_true[0:9],\n",
        "                cls_pred=cls_pred[0:9])"
      ],
      "execution_count": 0,
      "outputs": []
    },
    {
      "cell_type": "code",
      "metadata": {
        "id": "r8WhHXMvov7J",
        "colab_type": "code",
        "colab": {}
      },
      "source": [
        "# Import a function from sklearn to calculate the confusion-matrix.\n",
        "from sklearn.metrics import confusion_matrix\n",
        "\n",
        "def print_confusion_matrix(cls_pred):\n",
        "    # cls_pred is an array of the predicted class-number for\n",
        "    # all images in the test-set.\n",
        "\n",
        "    # Get the confusion matrix using sklearn.\n",
        "    cm = confusion_matrix(y_true=cls_test,  # True class for test-set.\n",
        "                          y_pred=cls_pred)  # Predicted class.\n",
        "\n",
        "    print(\"Confusion matrix:\")\n",
        "    \n",
        "    # Print the confusion matrix as text.\n",
        "    print(cm)\n",
        "    \n",
        "    # Print the class-names for easy reference.\n",
        "    for i, class_name in enumerate(class_names):\n",
        "        print(\"({0}) {1}\".format(i, class_name))"
      ],
      "execution_count": 0,
      "outputs": []
    },
    {
      "cell_type": "code",
      "metadata": {
        "id": "opNRlUnIozBk",
        "colab_type": "code",
        "colab": {}
      },
      "source": [
        "def plot_images(images, cls_true, cls_pred=None, smooth=True):\n",
        "\n",
        "    assert len(images) == len(cls_true)\n",
        "\n",
        "    # Create figure with sub-plots.\n",
        "    fig, axes = plt.subplots(3, 3)\n",
        "\n",
        "    # Adjust vertical spacing.\n",
        "    if cls_pred is None:\n",
        "        hspace = 0.3\n",
        "    else:\n",
        "        hspace = 0.6\n",
        "    fig.subplots_adjust(hspace=hspace, wspace=0.3)\n",
        "\n",
        "    # Interpolation type.\n",
        "    if smooth:\n",
        "        interpolation = 'spline16'\n",
        "    else:\n",
        "        interpolation = 'nearest'\n",
        "\n",
        "    for i, ax in enumerate(axes.flat):\n",
        "        # There may be less than 9 images, ensure it doesn't crash.\n",
        "        if i < len(images):\n",
        "            # Plot image.\n",
        "            ax.imshow(images[i],\n",
        "                      interpolation=interpolation)\n",
        "\n",
        "            # Name of the true class.\n",
        "            cls_true_name = class_names[cls_true[i]]\n",
        "\n",
        "            # Show true and predicted classes.\n",
        "            if cls_pred is None:\n",
        "                xlabel = \"True: {0}\".format(cls_true_name)\n",
        "            else:\n",
        "                # Name of the predicted class.\n",
        "                cls_pred_name = class_names[cls_pred[i]]\n",
        "\n",
        "                xlabel = \"True: {0}\\nPred: {1}\".format(cls_true_name, cls_pred_name)\n",
        "\n",
        "            # Show the classes as the label on the x-axis.\n",
        "            ax.set_xlabel(xlabel)\n",
        "        \n",
        "        # Remove ticks from the plot.\n",
        "        ax.set_xticks([])\n",
        "        ax.set_yticks([])\n",
        "    \n",
        "    # Ensure the plot is shown correctly with multiple plots\n",
        "    # in a single Notebook cell.\n",
        "    plt.show()"
      ],
      "execution_count": 0,
      "outputs": []
    }
  ]
}